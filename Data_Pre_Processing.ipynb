{
 "cells": [
  {
   "cell_type": "code",
   "execution_count": 1,
   "metadata": {
    "colab": {
     "base_uri": "https://localhost:8080/"
    },
    "id": "aD1_MI2hRucw",
    "outputId": "4882d34d-452d-418b-c145-c83fc6b10aff"
   },
   "outputs": [],
   "source": [
    " ## Pandas dan Numpy\n",
    "import pandas as pd\n",
    "import numpy as np\n",
    "\n",
    "# Visualization Library\n",
    "import matplotlib.pyplot as plt\n",
    "import seaborn as sns\n",
    "import scipy.stats as st\n",
    "from scipy.stats import chi2_contingency\n",
    "import statsmodels.stats.proportion as sp\n",
    "import numpy as np\n",
    "import warnings\n",
    "warnings.filterwarnings('ignore')"
   ]
  },
  {
   "cell_type": "code",
   "execution_count": 2,
   "metadata": {
    "colab": {
     "base_uri": "https://localhost:8080/",
     "height": 72,
     "resources": {
      "http://localhost:8080/nbextensions/google.colab/files.js": {
       "data": "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",
       "headers": [
        [
         "content-type",
         "application/javascript"
        ]
       ],
       "ok": true,
       "status": 200,
       "status_text": ""
      }
     }
    },
    "id": "YsC_VcpbSX48",
    "outputId": "6a1fa01b-edf0-4476-95fa-e072a66b7f46"
   },
   "outputs": [],
   "source": [
    "#from google.colab import files\n",
    "#file = files.upload()"
   ]
  },
  {
   "cell_type": "code",
   "execution_count": 3,
   "metadata": {
    "colab": {
     "base_uri": "https://localhost:8080/"
    },
    "id": "kK-Aq6qcUPT7",
    "outputId": "b1c9f4f0-384a-4fa7-bd67-20d5eb32c019"
   },
   "outputs": [],
   "source": [
    "#file"
   ]
  },
  {
   "cell_type": "code",
   "execution_count": 4,
   "metadata": {
    "colab": {
     "base_uri": "https://localhost:8080/"
    },
    "id": "2cWxJb2FW6iX",
    "outputId": "6a11eb37-920d-4207-8174-83dd757e0e94"
   },
   "outputs": [],
   "source": [
    "#import io\n",
    "#df = pd.read_csv(io.StringIO(file['Insurance_dataset.csv'].decode('utf-8')))\n",
    "#print(df)"
   ]
  },
  {
   "cell_type": "code",
   "execution_count": 5,
   "metadata": {},
   "outputs": [
    {
     "data": {
      "text/html": [
       "<div>\n",
       "<style scoped>\n",
       "    .dataframe tbody tr th:only-of-type {\n",
       "        vertical-align: middle;\n",
       "    }\n",
       "\n",
       "    .dataframe tbody tr th {\n",
       "        vertical-align: top;\n",
       "    }\n",
       "\n",
       "    .dataframe thead th {\n",
       "        text-align: right;\n",
       "    }\n",
       "</style>\n",
       "<table border=\"1\" class=\"dataframe\">\n",
       "  <thead>\n",
       "    <tr style=\"text-align: right;\">\n",
       "      <th></th>\n",
       "      <th>id</th>\n",
       "      <th>Gender</th>\n",
       "      <th>Age</th>\n",
       "      <th>Driving_License</th>\n",
       "      <th>Region_Code</th>\n",
       "      <th>Previously_Insured</th>\n",
       "      <th>Vehicle_Age</th>\n",
       "      <th>Vehicle_Damage</th>\n",
       "      <th>Annual_Premium</th>\n",
       "      <th>Policy_Sales_Channel</th>\n",
       "      <th>Vintage</th>\n",
       "      <th>Response</th>\n",
       "    </tr>\n",
       "  </thead>\n",
       "  <tbody>\n",
       "    <tr>\n",
       "      <th>0</th>\n",
       "      <td>1</td>\n",
       "      <td>Male</td>\n",
       "      <td>44</td>\n",
       "      <td>1</td>\n",
       "      <td>28.0</td>\n",
       "      <td>0</td>\n",
       "      <td>&gt; 2 Years</td>\n",
       "      <td>Yes</td>\n",
       "      <td>40454.0</td>\n",
       "      <td>26.0</td>\n",
       "      <td>217</td>\n",
       "      <td>1</td>\n",
       "    </tr>\n",
       "    <tr>\n",
       "      <th>1</th>\n",
       "      <td>2</td>\n",
       "      <td>Male</td>\n",
       "      <td>76</td>\n",
       "      <td>1</td>\n",
       "      <td>3.0</td>\n",
       "      <td>0</td>\n",
       "      <td>1-2 Year</td>\n",
       "      <td>No</td>\n",
       "      <td>33536.0</td>\n",
       "      <td>26.0</td>\n",
       "      <td>183</td>\n",
       "      <td>0</td>\n",
       "    </tr>\n",
       "    <tr>\n",
       "      <th>2</th>\n",
       "      <td>3</td>\n",
       "      <td>Male</td>\n",
       "      <td>47</td>\n",
       "      <td>1</td>\n",
       "      <td>28.0</td>\n",
       "      <td>0</td>\n",
       "      <td>&gt; 2 Years</td>\n",
       "      <td>Yes</td>\n",
       "      <td>38294.0</td>\n",
       "      <td>26.0</td>\n",
       "      <td>27</td>\n",
       "      <td>1</td>\n",
       "    </tr>\n",
       "    <tr>\n",
       "      <th>3</th>\n",
       "      <td>4</td>\n",
       "      <td>Male</td>\n",
       "      <td>21</td>\n",
       "      <td>1</td>\n",
       "      <td>11.0</td>\n",
       "      <td>1</td>\n",
       "      <td>&lt; 1 Year</td>\n",
       "      <td>No</td>\n",
       "      <td>28619.0</td>\n",
       "      <td>152.0</td>\n",
       "      <td>203</td>\n",
       "      <td>0</td>\n",
       "    </tr>\n",
       "    <tr>\n",
       "      <th>4</th>\n",
       "      <td>5</td>\n",
       "      <td>Female</td>\n",
       "      <td>29</td>\n",
       "      <td>1</td>\n",
       "      <td>41.0</td>\n",
       "      <td>1</td>\n",
       "      <td>&lt; 1 Year</td>\n",
       "      <td>No</td>\n",
       "      <td>27496.0</td>\n",
       "      <td>152.0</td>\n",
       "      <td>39</td>\n",
       "      <td>0</td>\n",
       "    </tr>\n",
       "  </tbody>\n",
       "</table>\n",
       "</div>"
      ],
      "text/plain": [
       "   id  Gender  Age  Driving_License  Region_Code  Previously_Insured  \\\n",
       "0   1    Male   44                1         28.0                   0   \n",
       "1   2    Male   76                1          3.0                   0   \n",
       "2   3    Male   47                1         28.0                   0   \n",
       "3   4    Male   21                1         11.0                   1   \n",
       "4   5  Female   29                1         41.0                   1   \n",
       "\n",
       "  Vehicle_Age Vehicle_Damage  Annual_Premium  Policy_Sales_Channel  Vintage  \\\n",
       "0   > 2 Years            Yes         40454.0                  26.0      217   \n",
       "1    1-2 Year             No         33536.0                  26.0      183   \n",
       "2   > 2 Years            Yes         38294.0                  26.0       27   \n",
       "3    < 1 Year             No         28619.0                 152.0      203   \n",
       "4    < 1 Year             No         27496.0                 152.0       39   \n",
       "\n",
       "   Response  \n",
       "0         1  \n",
       "1         0  \n",
       "2         1  \n",
       "3         0  \n",
       "4         0  "
      ]
     },
     "execution_count": 5,
     "metadata": {},
     "output_type": "execute_result"
    }
   ],
   "source": [
    "df = pd.read_csv('Insurance_dataset.csv')\n",
    "df.head()"
   ]
  },
  {
   "cell_type": "code",
   "execution_count": 6,
   "metadata": {
    "colab": {
     "base_uri": "https://localhost:8080/",
     "height": 270
    },
    "id": "XMHtPejiYN9A",
    "outputId": "85b4eeb9-2193-4072-fd88-588ccf1fbefd"
   },
   "outputs": [
    {
     "data": {
      "text/html": [
       "<div>\n",
       "<style scoped>\n",
       "    .dataframe tbody tr th:only-of-type {\n",
       "        vertical-align: middle;\n",
       "    }\n",
       "\n",
       "    .dataframe tbody tr th {\n",
       "        vertical-align: top;\n",
       "    }\n",
       "\n",
       "    .dataframe thead th {\n",
       "        text-align: right;\n",
       "    }\n",
       "</style>\n",
       "<table border=\"1\" class=\"dataframe\">\n",
       "  <thead>\n",
       "    <tr style=\"text-align: right;\">\n",
       "      <th></th>\n",
       "      <th>id</th>\n",
       "      <th>Gender</th>\n",
       "      <th>Age</th>\n",
       "      <th>Driving_License</th>\n",
       "      <th>Region_Code</th>\n",
       "      <th>Previously_Insured</th>\n",
       "      <th>Vehicle_Age</th>\n",
       "      <th>Vehicle_Damage</th>\n",
       "      <th>Annual_Premium</th>\n",
       "      <th>Policy_Sales_Channel</th>\n",
       "      <th>Vintage</th>\n",
       "      <th>Response</th>\n",
       "    </tr>\n",
       "  </thead>\n",
       "  <tbody>\n",
       "    <tr>\n",
       "      <th>0</th>\n",
       "      <td>1</td>\n",
       "      <td>Male</td>\n",
       "      <td>44</td>\n",
       "      <td>1</td>\n",
       "      <td>28.0</td>\n",
       "      <td>0</td>\n",
       "      <td>&gt; 2 Years</td>\n",
       "      <td>Yes</td>\n",
       "      <td>40454.0</td>\n",
       "      <td>26.0</td>\n",
       "      <td>217</td>\n",
       "      <td>1</td>\n",
       "    </tr>\n",
       "    <tr>\n",
       "      <th>1</th>\n",
       "      <td>2</td>\n",
       "      <td>Male</td>\n",
       "      <td>76</td>\n",
       "      <td>1</td>\n",
       "      <td>3.0</td>\n",
       "      <td>0</td>\n",
       "      <td>1-2 Year</td>\n",
       "      <td>No</td>\n",
       "      <td>33536.0</td>\n",
       "      <td>26.0</td>\n",
       "      <td>183</td>\n",
       "      <td>0</td>\n",
       "    </tr>\n",
       "    <tr>\n",
       "      <th>2</th>\n",
       "      <td>3</td>\n",
       "      <td>Male</td>\n",
       "      <td>47</td>\n",
       "      <td>1</td>\n",
       "      <td>28.0</td>\n",
       "      <td>0</td>\n",
       "      <td>&gt; 2 Years</td>\n",
       "      <td>Yes</td>\n",
       "      <td>38294.0</td>\n",
       "      <td>26.0</td>\n",
       "      <td>27</td>\n",
       "      <td>1</td>\n",
       "    </tr>\n",
       "    <tr>\n",
       "      <th>3</th>\n",
       "      <td>4</td>\n",
       "      <td>Male</td>\n",
       "      <td>21</td>\n",
       "      <td>1</td>\n",
       "      <td>11.0</td>\n",
       "      <td>1</td>\n",
       "      <td>&lt; 1 Year</td>\n",
       "      <td>No</td>\n",
       "      <td>28619.0</td>\n",
       "      <td>152.0</td>\n",
       "      <td>203</td>\n",
       "      <td>0</td>\n",
       "    </tr>\n",
       "    <tr>\n",
       "      <th>4</th>\n",
       "      <td>5</td>\n",
       "      <td>Female</td>\n",
       "      <td>29</td>\n",
       "      <td>1</td>\n",
       "      <td>41.0</td>\n",
       "      <td>1</td>\n",
       "      <td>&lt; 1 Year</td>\n",
       "      <td>No</td>\n",
       "      <td>27496.0</td>\n",
       "      <td>152.0</td>\n",
       "      <td>39</td>\n",
       "      <td>0</td>\n",
       "    </tr>\n",
       "  </tbody>\n",
       "</table>\n",
       "</div>"
      ],
      "text/plain": [
       "   id  Gender  Age  Driving_License  Region_Code  Previously_Insured  \\\n",
       "0   1    Male   44                1         28.0                   0   \n",
       "1   2    Male   76                1          3.0                   0   \n",
       "2   3    Male   47                1         28.0                   0   \n",
       "3   4    Male   21                1         11.0                   1   \n",
       "4   5  Female   29                1         41.0                   1   \n",
       "\n",
       "  Vehicle_Age Vehicle_Damage  Annual_Premium  Policy_Sales_Channel  Vintage  \\\n",
       "0   > 2 Years            Yes         40454.0                  26.0      217   \n",
       "1    1-2 Year             No         33536.0                  26.0      183   \n",
       "2   > 2 Years            Yes         38294.0                  26.0       27   \n",
       "3    < 1 Year             No         28619.0                 152.0      203   \n",
       "4    < 1 Year             No         27496.0                 152.0       39   \n",
       "\n",
       "   Response  \n",
       "0         1  \n",
       "1         0  \n",
       "2         1  \n",
       "3         0  \n",
       "4         0  "
      ]
     },
     "execution_count": 6,
     "metadata": {},
     "output_type": "execute_result"
    }
   ],
   "source": [
    "df.head()"
   ]
  },
  {
   "cell_type": "markdown",
   "metadata": {
    "id": "_rdkYC7HY1oY"
   },
   "source": [
    "# Data Cleansing"
   ]
  },
  {
   "cell_type": "code",
   "execution_count": 7,
   "metadata": {
    "colab": {
     "base_uri": "https://localhost:8080/"
    },
    "id": "0afcmg1OY6RR",
    "outputId": "079abb2a-29ca-455f-8878-154d800dd8cc"
   },
   "outputs": [
    {
     "name": "stdout",
     "output_type": "stream",
     "text": [
      "<class 'pandas.core.frame.DataFrame'>\n",
      "RangeIndex: 381109 entries, 0 to 381108\n",
      "Data columns (total 12 columns):\n",
      " #   Column                Non-Null Count   Dtype  \n",
      "---  ------                --------------   -----  \n",
      " 0   id                    381109 non-null  int64  \n",
      " 1   Gender                381109 non-null  object \n",
      " 2   Age                   381109 non-null  int64  \n",
      " 3   Driving_License       381109 non-null  int64  \n",
      " 4   Region_Code           381109 non-null  float64\n",
      " 5   Previously_Insured    381109 non-null  int64  \n",
      " 6   Vehicle_Age           381109 non-null  object \n",
      " 7   Vehicle_Damage        381109 non-null  object \n",
      " 8   Annual_Premium        381109 non-null  float64\n",
      " 9   Policy_Sales_Channel  381109 non-null  float64\n",
      " 10  Vintage               381109 non-null  int64  \n",
      " 11  Response              381109 non-null  int64  \n",
      "dtypes: float64(3), int64(6), object(3)\n",
      "memory usage: 34.9+ MB\n"
     ]
    }
   ],
   "source": [
    "df.info()"
   ]
  },
  {
   "cell_type": "code",
   "execution_count": 8,
   "metadata": {
    "colab": {
     "base_uri": "https://localhost:8080/",
     "height": 344
    },
    "id": "ikUjvmAhZEi5",
    "outputId": "d3efab76-a619-4119-8407-8d219bdaa7eb"
   },
   "outputs": [
    {
     "data": {
      "text/html": [
       "<div>\n",
       "<style scoped>\n",
       "    .dataframe tbody tr th:only-of-type {\n",
       "        vertical-align: middle;\n",
       "    }\n",
       "\n",
       "    .dataframe tbody tr th {\n",
       "        vertical-align: top;\n",
       "    }\n",
       "\n",
       "    .dataframe thead th {\n",
       "        text-align: right;\n",
       "    }\n",
       "</style>\n",
       "<table border=\"1\" class=\"dataframe\">\n",
       "  <thead>\n",
       "    <tr style=\"text-align: right;\">\n",
       "      <th></th>\n",
       "      <th>id</th>\n",
       "      <th>Age</th>\n",
       "      <th>Driving_License</th>\n",
       "      <th>Region_Code</th>\n",
       "      <th>Previously_Insured</th>\n",
       "      <th>Annual_Premium</th>\n",
       "      <th>Policy_Sales_Channel</th>\n",
       "      <th>Vintage</th>\n",
       "      <th>Response</th>\n",
       "    </tr>\n",
       "  </thead>\n",
       "  <tbody>\n",
       "    <tr>\n",
       "      <th>count</th>\n",
       "      <td>381109.000000</td>\n",
       "      <td>381109.000000</td>\n",
       "      <td>381109.000000</td>\n",
       "      <td>381109.000000</td>\n",
       "      <td>381109.000000</td>\n",
       "      <td>381109.000000</td>\n",
       "      <td>381109.000000</td>\n",
       "      <td>381109.000000</td>\n",
       "      <td>381109.000000</td>\n",
       "    </tr>\n",
       "    <tr>\n",
       "      <th>mean</th>\n",
       "      <td>190555.000000</td>\n",
       "      <td>38.822584</td>\n",
       "      <td>0.997869</td>\n",
       "      <td>26.388807</td>\n",
       "      <td>0.458210</td>\n",
       "      <td>30564.389581</td>\n",
       "      <td>112.034295</td>\n",
       "      <td>154.347397</td>\n",
       "      <td>0.122563</td>\n",
       "    </tr>\n",
       "    <tr>\n",
       "      <th>std</th>\n",
       "      <td>110016.836208</td>\n",
       "      <td>15.511611</td>\n",
       "      <td>0.046110</td>\n",
       "      <td>13.229888</td>\n",
       "      <td>0.498251</td>\n",
       "      <td>17213.155057</td>\n",
       "      <td>54.203995</td>\n",
       "      <td>83.671304</td>\n",
       "      <td>0.327936</td>\n",
       "    </tr>\n",
       "    <tr>\n",
       "      <th>min</th>\n",
       "      <td>1.000000</td>\n",
       "      <td>20.000000</td>\n",
       "      <td>0.000000</td>\n",
       "      <td>0.000000</td>\n",
       "      <td>0.000000</td>\n",
       "      <td>2630.000000</td>\n",
       "      <td>1.000000</td>\n",
       "      <td>10.000000</td>\n",
       "      <td>0.000000</td>\n",
       "    </tr>\n",
       "    <tr>\n",
       "      <th>25%</th>\n",
       "      <td>95278.000000</td>\n",
       "      <td>25.000000</td>\n",
       "      <td>1.000000</td>\n",
       "      <td>15.000000</td>\n",
       "      <td>0.000000</td>\n",
       "      <td>24405.000000</td>\n",
       "      <td>29.000000</td>\n",
       "      <td>82.000000</td>\n",
       "      <td>0.000000</td>\n",
       "    </tr>\n",
       "    <tr>\n",
       "      <th>50%</th>\n",
       "      <td>190555.000000</td>\n",
       "      <td>36.000000</td>\n",
       "      <td>1.000000</td>\n",
       "      <td>28.000000</td>\n",
       "      <td>0.000000</td>\n",
       "      <td>31669.000000</td>\n",
       "      <td>133.000000</td>\n",
       "      <td>154.000000</td>\n",
       "      <td>0.000000</td>\n",
       "    </tr>\n",
       "    <tr>\n",
       "      <th>75%</th>\n",
       "      <td>285832.000000</td>\n",
       "      <td>49.000000</td>\n",
       "      <td>1.000000</td>\n",
       "      <td>35.000000</td>\n",
       "      <td>1.000000</td>\n",
       "      <td>39400.000000</td>\n",
       "      <td>152.000000</td>\n",
       "      <td>227.000000</td>\n",
       "      <td>0.000000</td>\n",
       "    </tr>\n",
       "    <tr>\n",
       "      <th>max</th>\n",
       "      <td>381109.000000</td>\n",
       "      <td>85.000000</td>\n",
       "      <td>1.000000</td>\n",
       "      <td>52.000000</td>\n",
       "      <td>1.000000</td>\n",
       "      <td>540165.000000</td>\n",
       "      <td>163.000000</td>\n",
       "      <td>299.000000</td>\n",
       "      <td>1.000000</td>\n",
       "    </tr>\n",
       "  </tbody>\n",
       "</table>\n",
       "</div>"
      ],
      "text/plain": [
       "                  id            Age  Driving_License    Region_Code  \\\n",
       "count  381109.000000  381109.000000    381109.000000  381109.000000   \n",
       "mean   190555.000000      38.822584         0.997869      26.388807   \n",
       "std    110016.836208      15.511611         0.046110      13.229888   \n",
       "min         1.000000      20.000000         0.000000       0.000000   \n",
       "25%     95278.000000      25.000000         1.000000      15.000000   \n",
       "50%    190555.000000      36.000000         1.000000      28.000000   \n",
       "75%    285832.000000      49.000000         1.000000      35.000000   \n",
       "max    381109.000000      85.000000         1.000000      52.000000   \n",
       "\n",
       "       Previously_Insured  Annual_Premium  Policy_Sales_Channel  \\\n",
       "count       381109.000000   381109.000000         381109.000000   \n",
       "mean             0.458210    30564.389581            112.034295   \n",
       "std              0.498251    17213.155057             54.203995   \n",
       "min              0.000000     2630.000000              1.000000   \n",
       "25%              0.000000    24405.000000             29.000000   \n",
       "50%              0.000000    31669.000000            133.000000   \n",
       "75%              1.000000    39400.000000            152.000000   \n",
       "max              1.000000   540165.000000            163.000000   \n",
       "\n",
       "             Vintage       Response  \n",
       "count  381109.000000  381109.000000  \n",
       "mean      154.347397       0.122563  \n",
       "std        83.671304       0.327936  \n",
       "min        10.000000       0.000000  \n",
       "25%        82.000000       0.000000  \n",
       "50%       154.000000       0.000000  \n",
       "75%       227.000000       0.000000  \n",
       "max       299.000000       1.000000  "
      ]
     },
     "execution_count": 8,
     "metadata": {},
     "output_type": "execute_result"
    }
   ],
   "source": [
    "df.describe(include = [np.number])"
   ]
  },
  {
   "cell_type": "code",
   "execution_count": 9,
   "metadata": {
    "colab": {
     "base_uri": "https://localhost:8080/",
     "height": 175
    },
    "id": "gBT5OMHaZSvL",
    "outputId": "b5ba06eb-fa10-4fd6-9d9b-8eb799f8a91f"
   },
   "outputs": [
    {
     "data": {
      "text/html": [
       "<div>\n",
       "<style scoped>\n",
       "    .dataframe tbody tr th:only-of-type {\n",
       "        vertical-align: middle;\n",
       "    }\n",
       "\n",
       "    .dataframe tbody tr th {\n",
       "        vertical-align: top;\n",
       "    }\n",
       "\n",
       "    .dataframe thead th {\n",
       "        text-align: right;\n",
       "    }\n",
       "</style>\n",
       "<table border=\"1\" class=\"dataframe\">\n",
       "  <thead>\n",
       "    <tr style=\"text-align: right;\">\n",
       "      <th></th>\n",
       "      <th>Gender</th>\n",
       "      <th>Vehicle_Age</th>\n",
       "      <th>Vehicle_Damage</th>\n",
       "    </tr>\n",
       "  </thead>\n",
       "  <tbody>\n",
       "    <tr>\n",
       "      <th>count</th>\n",
       "      <td>381109</td>\n",
       "      <td>381109</td>\n",
       "      <td>381109</td>\n",
       "    </tr>\n",
       "    <tr>\n",
       "      <th>unique</th>\n",
       "      <td>2</td>\n",
       "      <td>3</td>\n",
       "      <td>2</td>\n",
       "    </tr>\n",
       "    <tr>\n",
       "      <th>top</th>\n",
       "      <td>Male</td>\n",
       "      <td>1-2 Year</td>\n",
       "      <td>Yes</td>\n",
       "    </tr>\n",
       "    <tr>\n",
       "      <th>freq</th>\n",
       "      <td>206089</td>\n",
       "      <td>200316</td>\n",
       "      <td>192413</td>\n",
       "    </tr>\n",
       "  </tbody>\n",
       "</table>\n",
       "</div>"
      ],
      "text/plain": [
       "        Gender Vehicle_Age Vehicle_Damage\n",
       "count   381109      381109         381109\n",
       "unique       2           3              2\n",
       "top       Male    1-2 Year            Yes\n",
       "freq    206089      200316         192413"
      ]
     },
     "execution_count": 9,
     "metadata": {},
     "output_type": "execute_result"
    }
   ],
   "source": [
    "df.describe(include = [object])"
   ]
  },
  {
   "cell_type": "markdown",
   "metadata": {
    "id": "J9QHf-B6YX4m"
   },
   "source": [
    "## Handling Missing Data"
   ]
  },
  {
   "cell_type": "code",
   "execution_count": 10,
   "metadata": {
    "colab": {
     "base_uri": "https://localhost:8080/"
    },
    "id": "8-8QRqHdYYqW",
    "outputId": "7b077c02-6115-4c12-aaf0-069af68bd739"
   },
   "outputs": [
    {
     "name": "stdout",
     "output_type": "stream",
     "text": [
      "Kolom yang memiliki missing value adalah :\n"
     ]
    },
    {
     "data": {
      "text/plain": [
       "[]"
      ]
     },
     "execution_count": 10,
     "metadata": {},
     "output_type": "execute_result"
    }
   ],
   "source": [
    "print(\"Kolom yang memiliki missing value adalah :\")\n",
    "df.columns[df.isnull().any()].tolist()"
   ]
  },
  {
   "cell_type": "markdown",
   "metadata": {
    "id": "osHh-AtpYZ5G"
   },
   "source": [
    "## Handling Duplicated Data"
   ]
  },
  {
   "cell_type": "code",
   "execution_count": 11,
   "metadata": {
    "colab": {
     "base_uri": "https://localhost:8080/"
    },
    "id": "ysDA1tMWYnSk",
    "outputId": "c868e2ee-f0cb-4c7b-fe7d-324c25eebfc6"
   },
   "outputs": [
    {
     "data": {
      "text/plain": [
       "0"
      ]
     },
     "execution_count": 11,
     "metadata": {},
     "output_type": "execute_result"
    }
   ],
   "source": [
    "df.duplicated().sum()"
   ]
  },
  {
   "cell_type": "markdown",
   "metadata": {
    "id": "bokZHPs9Ytqw"
   },
   "source": [
    "## Handling Outliers"
   ]
  },
  {
   "cell_type": "code",
   "execution_count": 12,
   "metadata": {
    "id": "z2akCvcEZjp-"
   },
   "outputs": [],
   "source": [
    "num = ['id', 'Age', 'Annual_Premium', 'Vintage']\n",
    "cat = ['Gender', 'Driving_License', 'Policy_Sales_Channel', 'Region_Code', 'Previously_Insured', 'Vehicle_Age', 'Vehicle_Damage', 'Response']"
   ]
  },
  {
   "cell_type": "code",
   "execution_count": 13,
   "metadata": {
    "colab": {
     "base_uri": "https://localhost:8080/",
     "height": 238
    },
    "id": "pOCPqgGzZ1Mb",
    "outputId": "42203111-a516-4345-e494-2d35372be5e4"
   },
   "outputs": [
    {
     "data": {
      "image/png": "[encoded data removed]",
      "text/plain": [
       "<Figure size 1440x1080 with 4 Axes>"
      ]
     },
     "metadata": {
      "needs_background": "light"
     },
     "output_type": "display_data"
    }
   ],
   "source": [
    "feature = num\n",
    "plt.figure(figsize=(20, 15))\n",
    "for i in range(0, len(feature)):\n",
    "    plt.subplot(5, 6,  i+1)\n",
    "    sns.boxplot(y=df[feature[i]], color='deeppink', orient='v')\n",
    "    plt.tight_layout()"
   ]
  },
  {
   "cell_type": "code",
   "execution_count": 14,
   "metadata": {
    "colab": {
     "base_uri": "https://localhost:8080/"
    },
    "id": "tyjJVX27cL40",
    "outputId": "2078b57c-92a1-48a2-a297-6d649f80951b"
   },
   "outputs": [
    {
     "data": {
      "text/plain": [
       "14995.0"
      ]
     },
     "execution_count": 14,
     "metadata": {},
     "output_type": "execute_result"
    }
   ],
   "source": [
    "Q1 = df['Annual_Premium'].quantile(0.25)\n",
    "Q3 = df['Annual_Premium'].quantile(0.75)\n",
    "IQR = Q3 - Q1\n",
    "IQR"
   ]
  },
  {
   "cell_type": "code",
   "execution_count": 15,
   "metadata": {
    "colab": {
     "base_uri": "https://localhost:8080/",
     "height": 487
    },
    "id": "_yZt-nZ5apOm",
    "outputId": "198fb466-9bb5-45e2-ed7c-3764c6b421c0"
   },
   "outputs": [
    {
     "data": {
      "text/html": [
       "<div>\n",
       "<style scoped>\n",
       "    .dataframe tbody tr th:only-of-type {\n",
       "        vertical-align: middle;\n",
       "    }\n",
       "\n",
       "    .dataframe tbody tr th {\n",
       "        vertical-align: top;\n",
       "    }\n",
       "\n",
       "    .dataframe thead th {\n",
       "        text-align: right;\n",
       "    }\n",
       "</style>\n",
       "<table border=\"1\" class=\"dataframe\">\n",
       "  <thead>\n",
       "    <tr style=\"text-align: right;\">\n",
       "      <th></th>\n",
       "      <th>id</th>\n",
       "      <th>Gender</th>\n",
       "      <th>Age</th>\n",
       "      <th>Driving_License</th>\n",
       "      <th>Region_Code</th>\n",
       "      <th>Previously_Insured</th>\n",
       "      <th>Vehicle_Age</th>\n",
       "      <th>Vehicle_Damage</th>\n",
       "      <th>Annual_Premium</th>\n",
       "      <th>Policy_Sales_Channel</th>\n",
       "      <th>Vintage</th>\n",
       "      <th>Response</th>\n",
       "    </tr>\n",
       "  </thead>\n",
       "  <tbody>\n",
       "    <tr>\n",
       "      <th>0</th>\n",
       "      <td>1</td>\n",
       "      <td>Male</td>\n",
       "      <td>44</td>\n",
       "      <td>1</td>\n",
       "      <td>28.0</td>\n",
       "      <td>0</td>\n",
       "      <td>&gt; 2 Years</td>\n",
       "      <td>Yes</td>\n",
       "      <td>40454.0</td>\n",
       "      <td>26.0</td>\n",
       "      <td>217</td>\n",
       "      <td>1</td>\n",
       "    </tr>\n",
       "    <tr>\n",
       "      <th>1</th>\n",
       "      <td>2</td>\n",
       "      <td>Male</td>\n",
       "      <td>76</td>\n",
       "      <td>1</td>\n",
       "      <td>3.0</td>\n",
       "      <td>0</td>\n",
       "      <td>1-2 Year</td>\n",
       "      <td>No</td>\n",
       "      <td>33536.0</td>\n",
       "      <td>26.0</td>\n",
       "      <td>183</td>\n",
       "      <td>0</td>\n",
       "    </tr>\n",
       "    <tr>\n",
       "      <th>2</th>\n",
       "      <td>3</td>\n",
       "      <td>Male</td>\n",
       "      <td>47</td>\n",
       "      <td>1</td>\n",
       "      <td>28.0</td>\n",
       "      <td>0</td>\n",
       "      <td>&gt; 2 Years</td>\n",
       "      <td>Yes</td>\n",
       "      <td>38294.0</td>\n",
       "      <td>26.0</td>\n",
       "      <td>27</td>\n",
       "      <td>1</td>\n",
       "    </tr>\n",
       "    <tr>\n",
       "      <th>3</th>\n",
       "      <td>4</td>\n",
       "      <td>Male</td>\n",
       "      <td>21</td>\n",
       "      <td>1</td>\n",
       "      <td>11.0</td>\n",
       "      <td>1</td>\n",
       "      <td>&lt; 1 Year</td>\n",
       "      <td>No</td>\n",
       "      <td>28619.0</td>\n",
       "      <td>152.0</td>\n",
       "      <td>203</td>\n",
       "      <td>0</td>\n",
       "    </tr>\n",
       "    <tr>\n",
       "      <th>4</th>\n",
       "      <td>5</td>\n",
       "      <td>Female</td>\n",
       "      <td>29</td>\n",
       "      <td>1</td>\n",
       "      <td>41.0</td>\n",
       "      <td>1</td>\n",
       "      <td>&lt; 1 Year</td>\n",
       "      <td>No</td>\n",
       "      <td>27496.0</td>\n",
       "      <td>152.0</td>\n",
       "      <td>39</td>\n",
       "      <td>0</td>\n",
       "    </tr>\n",
       "    <tr>\n",
       "      <th>...</th>\n",
       "      <td>...</td>\n",
       "      <td>...</td>\n",
       "      <td>...</td>\n",
       "      <td>...</td>\n",
       "      <td>...</td>\n",
       "      <td>...</td>\n",
       "      <td>...</td>\n",
       "      <td>...</td>\n",
       "      <td>...</td>\n",
       "      <td>...</td>\n",
       "      <td>...</td>\n",
       "      <td>...</td>\n",
       "    </tr>\n",
       "    <tr>\n",
       "      <th>381104</th>\n",
       "      <td>381105</td>\n",
       "      <td>Male</td>\n",
       "      <td>74</td>\n",
       "      <td>1</td>\n",
       "      <td>26.0</td>\n",
       "      <td>1</td>\n",
       "      <td>1-2 Year</td>\n",
       "      <td>No</td>\n",
       "      <td>30170.0</td>\n",
       "      <td>26.0</td>\n",
       "      <td>88</td>\n",
       "      <td>0</td>\n",
       "    </tr>\n",
       "    <tr>\n",
       "      <th>381105</th>\n",
       "      <td>381106</td>\n",
       "      <td>Male</td>\n",
       "      <td>30</td>\n",
       "      <td>1</td>\n",
       "      <td>37.0</td>\n",
       "      <td>1</td>\n",
       "      <td>&lt; 1 Year</td>\n",
       "      <td>No</td>\n",
       "      <td>40016.0</td>\n",
       "      <td>152.0</td>\n",
       "      <td>131</td>\n",
       "      <td>0</td>\n",
       "    </tr>\n",
       "    <tr>\n",
       "      <th>381106</th>\n",
       "      <td>381107</td>\n",
       "      <td>Male</td>\n",
       "      <td>21</td>\n",
       "      <td>1</td>\n",
       "      <td>30.0</td>\n",
       "      <td>1</td>\n",
       "      <td>&lt; 1 Year</td>\n",
       "      <td>No</td>\n",
       "      <td>35118.0</td>\n",
       "      <td>160.0</td>\n",
       "      <td>161</td>\n",
       "      <td>0</td>\n",
       "    </tr>\n",
       "    <tr>\n",
       "      <th>381107</th>\n",
       "      <td>381108</td>\n",
       "      <td>Female</td>\n",
       "      <td>68</td>\n",
       "      <td>1</td>\n",
       "      <td>14.0</td>\n",
       "      <td>0</td>\n",
       "      <td>&gt; 2 Years</td>\n",
       "      <td>Yes</td>\n",
       "      <td>44617.0</td>\n",
       "      <td>124.0</td>\n",
       "      <td>74</td>\n",
       "      <td>0</td>\n",
       "    </tr>\n",
       "    <tr>\n",
       "      <th>381108</th>\n",
       "      <td>381109</td>\n",
       "      <td>Male</td>\n",
       "      <td>46</td>\n",
       "      <td>1</td>\n",
       "      <td>29.0</td>\n",
       "      <td>0</td>\n",
       "      <td>1-2 Year</td>\n",
       "      <td>No</td>\n",
       "      <td>41777.0</td>\n",
       "      <td>26.0</td>\n",
       "      <td>237</td>\n",
       "      <td>0</td>\n",
       "    </tr>\n",
       "  </tbody>\n",
       "</table>\n",
       "<p>370789 rows × 12 columns</p>\n",
       "</div>"
      ],
      "text/plain": [
       "            id  Gender  Age  Driving_License  Region_Code  Previously_Insured  \\\n",
       "0            1    Male   44                1         28.0                   0   \n",
       "1            2    Male   76                1          3.0                   0   \n",
       "2            3    Male   47                1         28.0                   0   \n",
       "3            4    Male   21                1         11.0                   1   \n",
       "4            5  Female   29                1         41.0                   1   \n",
       "...        ...     ...  ...              ...          ...                 ...   \n",
       "381104  381105    Male   74                1         26.0                   1   \n",
       "381105  381106    Male   30                1         37.0                   1   \n",
       "381106  381107    Male   21                1         30.0                   1   \n",
       "381107  381108  Female   68                1         14.0                   0   \n",
       "381108  381109    Male   46                1         29.0                   0   \n",
       "\n",
       "       Vehicle_Age Vehicle_Damage  Annual_Premium  Policy_Sales_Channel  \\\n",
       "0        > 2 Years            Yes         40454.0                  26.0   \n",
       "1         1-2 Year             No         33536.0                  26.0   \n",
       "2        > 2 Years            Yes         38294.0                  26.0   \n",
       "3         < 1 Year             No         28619.0                 152.0   \n",
       "4         < 1 Year             No         27496.0                 152.0   \n",
       "...            ...            ...             ...                   ...   \n",
       "381104    1-2 Year             No         30170.0                  26.0   \n",
       "381105    < 1 Year             No         40016.0                 152.0   \n",
       "381106    < 1 Year             No         35118.0                 160.0   \n",
       "381107   > 2 Years            Yes         44617.0                 124.0   \n",
       "381108    1-2 Year             No         41777.0                  26.0   \n",
       "\n",
       "        Vintage  Response  \n",
       "0           217         1  \n",
       "1           183         0  \n",
       "2            27         1  \n",
       "3           203         0  \n",
       "4            39         0  \n",
       "...         ...       ...  \n",
       "381104       88         0  \n",
       "381105      131         0  \n",
       "381106      161         0  \n",
       "381107       74         0  \n",
       "381108      237         0  \n",
       "\n",
       "[370789 rows x 12 columns]"
      ]
     },
     "execution_count": 15,
     "metadata": {},
     "output_type": "execute_result"
    }
   ],
   "source": [
    "low = Q1 - (1.5 * IQR)\n",
    "high = Q3 + (1.5 * IQR)\n",
    "filtered_entries = ((df['Annual_Premium'] >= low) & (df['Annual_Premium'] <= high))\n",
    "data = df[filtered_entries]\n",
    "data"
   ]
  },
  {
   "cell_type": "code",
   "execution_count": 16,
   "metadata": {
    "colab": {
     "base_uri": "https://localhost:8080/",
     "height": 364
    },
    "id": "PlghhnKGcClC",
    "outputId": "2081a6f5-29c4-49f8-cbd0-06cfceee3462"
   },
   "outputs": [
    {
     "data": {
      "text/html": [
       "<div>\n",
       "<style scoped>\n",
       "    .dataframe tbody tr th:only-of-type {\n",
       "        vertical-align: middle;\n",
       "    }\n",
       "\n",
       "    .dataframe tbody tr th {\n",
       "        vertical-align: top;\n",
       "    }\n",
       "\n",
       "    .dataframe thead th {\n",
       "        text-align: right;\n",
       "    }\n",
       "</style>\n",
       "<table border=\"1\" class=\"dataframe\">\n",
       "  <thead>\n",
       "    <tr style=\"text-align: right;\">\n",
       "      <th></th>\n",
       "      <th>id</th>\n",
       "      <th>Age</th>\n",
       "      <th>Driving_License</th>\n",
       "      <th>Region_Code</th>\n",
       "      <th>Previously_Insured</th>\n",
       "      <th>Annual_Premium</th>\n",
       "      <th>Policy_Sales_Channel</th>\n",
       "      <th>Vintage</th>\n",
       "      <th>Response</th>\n",
       "    </tr>\n",
       "  </thead>\n",
       "  <tbody>\n",
       "    <tr>\n",
       "      <th>count</th>\n",
       "      <td>370789.000000</td>\n",
       "      <td>370789.000000</td>\n",
       "      <td>370789.000000</td>\n",
       "      <td>370789.000000</td>\n",
       "      <td>370789.000000</td>\n",
       "      <td>370789.000000</td>\n",
       "      <td>370789.000000</td>\n",
       "      <td>370789.000000</td>\n",
       "      <td>370789.000000</td>\n",
       "    </tr>\n",
       "    <tr>\n",
       "      <th>mean</th>\n",
       "      <td>190534.855484</td>\n",
       "      <td>38.670344</td>\n",
       "      <td>0.997942</td>\n",
       "      <td>26.437281</td>\n",
       "      <td>0.459666</td>\n",
       "      <td>29264.643973</td>\n",
       "      <td>112.542923</td>\n",
       "      <td>154.345442</td>\n",
       "      <td>0.121781</td>\n",
       "    </tr>\n",
       "    <tr>\n",
       "      <th>std</th>\n",
       "      <td>110036.802591</td>\n",
       "      <td>15.440166</td>\n",
       "      <td>0.045316</td>\n",
       "      <td>13.310391</td>\n",
       "      <td>0.498371</td>\n",
       "      <td>14743.056656</td>\n",
       "      <td>54.039616</td>\n",
       "      <td>83.670478</td>\n",
       "      <td>0.327033</td>\n",
       "    </tr>\n",
       "    <tr>\n",
       "      <th>min</th>\n",
       "      <td>1.000000</td>\n",
       "      <td>20.000000</td>\n",
       "      <td>0.000000</td>\n",
       "      <td>0.000000</td>\n",
       "      <td>0.000000</td>\n",
       "      <td>2630.000000</td>\n",
       "      <td>1.000000</td>\n",
       "      <td>10.000000</td>\n",
       "      <td>0.000000</td>\n",
       "    </tr>\n",
       "    <tr>\n",
       "      <th>25%</th>\n",
       "      <td>95219.000000</td>\n",
       "      <td>25.000000</td>\n",
       "      <td>1.000000</td>\n",
       "      <td>15.000000</td>\n",
       "      <td>0.000000</td>\n",
       "      <td>24102.000000</td>\n",
       "      <td>30.000000</td>\n",
       "      <td>82.000000</td>\n",
       "      <td>0.000000</td>\n",
       "    </tr>\n",
       "    <tr>\n",
       "      <th>50%</th>\n",
       "      <td>190529.000000</td>\n",
       "      <td>36.000000</td>\n",
       "      <td>1.000000</td>\n",
       "      <td>28.000000</td>\n",
       "      <td>0.000000</td>\n",
       "      <td>31319.000000</td>\n",
       "      <td>151.000000</td>\n",
       "      <td>154.000000</td>\n",
       "      <td>0.000000</td>\n",
       "    </tr>\n",
       "    <tr>\n",
       "      <th>75%</th>\n",
       "      <td>285823.000000</td>\n",
       "      <td>49.000000</td>\n",
       "      <td>1.000000</td>\n",
       "      <td>36.000000</td>\n",
       "      <td>1.000000</td>\n",
       "      <td>38596.000000</td>\n",
       "      <td>152.000000</td>\n",
       "      <td>227.000000</td>\n",
       "      <td>0.000000</td>\n",
       "    </tr>\n",
       "    <tr>\n",
       "      <th>max</th>\n",
       "      <td>381109.000000</td>\n",
       "      <td>85.000000</td>\n",
       "      <td>1.000000</td>\n",
       "      <td>52.000000</td>\n",
       "      <td>1.000000</td>\n",
       "      <td>61892.000000</td>\n",
       "      <td>163.000000</td>\n",
       "      <td>299.000000</td>\n",
       "      <td>1.000000</td>\n",
       "    </tr>\n",
       "  </tbody>\n",
       "</table>\n",
       "</div>"
      ],
      "text/plain": [
       "                  id            Age  Driving_License    Region_Code  \\\n",
       "count  370789.000000  370789.000000    370789.000000  370789.000000   \n",
       "mean   190534.855484      38.670344         0.997942      26.437281   \n",
       "std    110036.802591      15.440166         0.045316      13.310391   \n",
       "min         1.000000      20.000000         0.000000       0.000000   \n",
       "25%     95219.000000      25.000000         1.000000      15.000000   \n",
       "50%    190529.000000      36.000000         1.000000      28.000000   \n",
       "75%    285823.000000      49.000000         1.000000      36.000000   \n",
       "max    381109.000000      85.000000         1.000000      52.000000   \n",
       "\n",
       "       Previously_Insured  Annual_Premium  Policy_Sales_Channel  \\\n",
       "count       370789.000000   370789.000000         370789.000000   \n",
       "mean             0.459666    29264.643973            112.542923   \n",
       "std              0.498371    14743.056656             54.039616   \n",
       "min              0.000000     2630.000000              1.000000   \n",
       "25%              0.000000    24102.000000             30.000000   \n",
       "50%              0.000000    31319.000000            151.000000   \n",
       "75%              1.000000    38596.000000            152.000000   \n",
       "max              1.000000    61892.000000            163.000000   \n",
       "\n",
       "             Vintage       Response  \n",
       "count  370789.000000  370789.000000  \n",
       "mean      154.345442       0.121781  \n",
       "std        83.670478       0.327033  \n",
       "min        10.000000       0.000000  \n",
       "25%        82.000000       0.000000  \n",
       "50%       154.000000       0.000000  \n",
       "75%       227.000000       0.000000  \n",
       "max       299.000000       1.000000  "
      ]
     },
     "execution_count": 16,
     "metadata": {},
     "output_type": "execute_result"
    }
   ],
   "source": [
    "data.describe(include = [np.number])"
   ]
  },
  {
   "cell_type": "code",
   "execution_count": 17,
   "metadata": {
    "colab": {
     "base_uri": "https://localhost:8080/",
     "height": 238
    },
    "id": "TP3o618Xcfwg",
    "outputId": "41c47f15-9bdc-459d-b632-82d63311c6f3"
   },
   "outputs": [
    {
     "data": {
      "image/png": "[encoded data removed]",
      "text/plain": [
       "<Figure size 1440x1080 with 4 Axes>"
      ]
     },
     "metadata": {
      "needs_background": "light"
     },
     "output_type": "display_data"
    }
   ],
   "source": [
    "feature = num\n",
    "plt.figure(figsize=(20, 15))\n",
    "for i in range(0, len(feature)):\n",
    "    plt.subplot(5, 6,  i+1)\n",
    "    sns.boxplot(y=data[feature[i]], color='deeppink', orient='v')\n",
    "    plt.tight_layout()"
   ]
  },
  {
   "cell_type": "markdown",
   "metadata": {
    "id": "WPtsHkAOfl38"
   },
   "source": [
    "## Standarization"
   ]
  },
  {
   "cell_type": "code",
   "execution_count": 18,
   "metadata": {
    "colab": {
     "base_uri": "https://localhost:8080/",
     "height": 267
    },
    "id": "0QkgkKgshT5_",
    "outputId": "fd60ec10-4591-4266-bbae-b337af88e5da"
   },
   "outputs": [
    {
     "data": {
      "image/png": "[encoded data removed]",
      "text/plain": [
       "<Figure size 1800x720 with 4 Axes>"
      ]
     },
     "metadata": {
      "needs_background": "light"
     },
     "output_type": "display_data"
    }
   ],
   "source": [
    "features = num\n",
    "plt.figure(figsize=(25, 10))\n",
    "for i in range(0, len(features)):\n",
    "    plt.subplot(2, 4, i+1)\n",
    "    sns.kdeplot(x=df[features[i]], color='green')\n",
    "    plt.xlabel(features[i])\n",
    "    plt.tight_layout()"
   ]
  },
  {
   "cell_type": "code",
   "execution_count": 19,
   "metadata": {
    "id": "fKP5iiULfnTo"
   },
   "outputs": [],
   "source": [
    "from sklearn.preprocessing import MinMaxScaler, StandardScaler\n",
    "df['Vintage_std'] = StandardScaler().fit_transform(df['Vintage'].values.reshape(len(df), 1))\n",
    "df['Vintage_norm'] = MinMaxScaler().fit_transform(df['Vintage'].values.reshape(len(df), 1))"
   ]
  },
  {
   "cell_type": "code",
   "execution_count": 20,
   "metadata": {
    "colab": {
     "base_uri": "https://localhost:8080/",
     "height": 300
    },
    "id": "g5501OhDhBrC",
    "outputId": "cf96eb70-d983-47f3-8c4f-6afe4d65b55e"
   },
   "outputs": [
    {
     "data": {
      "text/html": [
       "<div>\n",
       "<style scoped>\n",
       "    .dataframe tbody tr th:only-of-type {\n",
       "        vertical-align: middle;\n",
       "    }\n",
       "\n",
       "    .dataframe tbody tr th {\n",
       "        vertical-align: top;\n",
       "    }\n",
       "\n",
       "    .dataframe thead th {\n",
       "        text-align: right;\n",
       "    }\n",
       "</style>\n",
       "<table border=\"1\" class=\"dataframe\">\n",
       "  <thead>\n",
       "    <tr style=\"text-align: right;\">\n",
       "      <th></th>\n",
       "      <th>Vintage</th>\n",
       "      <th>Vintage_std</th>\n",
       "      <th>Vintage_norm</th>\n",
       "    </tr>\n",
       "  </thead>\n",
       "  <tbody>\n",
       "    <tr>\n",
       "      <th>count</th>\n",
       "      <td>381109.000000</td>\n",
       "      <td>3.811090e+05</td>\n",
       "      <td>381109.000000</td>\n",
       "    </tr>\n",
       "    <tr>\n",
       "      <th>mean</th>\n",
       "      <td>154.347397</td>\n",
       "      <td>-6.921441e-17</td>\n",
       "      <td>0.499472</td>\n",
       "    </tr>\n",
       "    <tr>\n",
       "      <th>std</th>\n",
       "      <td>83.671304</td>\n",
       "      <td>1.000001e+00</td>\n",
       "      <td>0.289520</td>\n",
       "    </tr>\n",
       "    <tr>\n",
       "      <th>min</th>\n",
       "      <td>10.000000</td>\n",
       "      <td>-1.725174e+00</td>\n",
       "      <td>0.000000</td>\n",
       "    </tr>\n",
       "    <tr>\n",
       "      <th>25%</th>\n",
       "      <td>82.000000</td>\n",
       "      <td>-8.646631e-01</td>\n",
       "      <td>0.249135</td>\n",
       "    </tr>\n",
       "    <tr>\n",
       "      <th>50%</th>\n",
       "      <td>154.000000</td>\n",
       "      <td>-4.151927e-03</td>\n",
       "      <td>0.498270</td>\n",
       "    </tr>\n",
       "    <tr>\n",
       "      <th>75%</th>\n",
       "      <td>227.000000</td>\n",
       "      <td>8.683108e-01</td>\n",
       "      <td>0.750865</td>\n",
       "    </tr>\n",
       "    <tr>\n",
       "      <th>max</th>\n",
       "      <td>299.000000</td>\n",
       "      <td>1.728822e+00</td>\n",
       "      <td>1.000000</td>\n",
       "    </tr>\n",
       "  </tbody>\n",
       "</table>\n",
       "</div>"
      ],
      "text/plain": [
       "             Vintage   Vintage_std   Vintage_norm\n",
       "count  381109.000000  3.811090e+05  381109.000000\n",
       "mean      154.347397 -6.921441e-17       0.499472\n",
       "std        83.671304  1.000001e+00       0.289520\n",
       "min        10.000000 -1.725174e+00       0.000000\n",
       "25%        82.000000 -8.646631e-01       0.249135\n",
       "50%       154.000000 -4.151927e-03       0.498270\n",
       "75%       227.000000  8.683108e-01       0.750865\n",
       "max       299.000000  1.728822e+00       1.000000"
      ]
     },
     "execution_count": 20,
     "metadata": {},
     "output_type": "execute_result"
    }
   ],
   "source": [
    "df[['Vintage', 'Vintage_std', 'Vintage_norm']].describe()"
   ]
  },
  {
   "cell_type": "code",
   "execution_count": 21,
   "metadata": {
    "id": "PsS4PPtqkn71"
   },
   "outputs": [],
   "source": [
    "cek_vin = ['Vintage', 'Vintage_std', 'Vintage_norm']"
   ]
  },
  {
   "cell_type": "code",
   "execution_count": 22,
   "metadata": {
    "colab": {
     "base_uri": "https://localhost:8080/",
     "height": 344
    },
    "id": "UlhBxAKvk0bz",
    "outputId": "268edced-b3fb-4ffb-83c8-3acd137a33e2"
   },
   "outputs": [
    {
     "data": {
      "image/png": "[encoded data removed]",
      "text/plain": [
       "<Figure size 1800x720 with 3 Axes>"
      ]
     },
     "metadata": {
      "needs_background": "light"
     },
     "output_type": "display_data"
    }
   ],
   "source": [
    "feat = cek_vin\n",
    "plt.figure(figsize=(25, 10))\n",
    "for i in range(0, len(feat)):\n",
    "    plt.subplot(2, 4, i+1)\n",
    "    sns.kdeplot(x=df[feat[i]], color='green')\n",
    "    plt.xlabel(feat[i])\n",
    "    plt.tight_layout()"
   ]
  },
  {
   "cell_type": "markdown",
   "metadata": {
    "id": "Q2oD9G6PnLFK"
   },
   "source": [
    "Sementara data vintage belum ditransformasi, akan ditentukan setelah dicobakan pada machine learning pada tahapan selanjutnya"
   ]
  },
  {
   "cell_type": "code",
   "execution_count": 23,
   "metadata": {
    "id": "PoDtiuDFlOLr"
   },
   "outputs": [],
   "source": [
    "cek_log = ['Age', 'Annual_Premium']"
   ]
  },
  {
   "cell_type": "code",
   "execution_count": 24,
   "metadata": {
    "colab": {
     "base_uri": "https://localhost:8080/",
     "height": 396
    },
    "id": "9eWI9b2eoF1M",
    "outputId": "6351c266-937b-488e-a5a1-7584d699db86"
   },
   "outputs": [
    {
     "data": {
      "image/png": "[encoded data removed]",
      "text/plain": [
       "<Figure size 1800x720 with 2 Axes>"
      ]
     },
     "metadata": {
      "needs_background": "light"
     },
     "output_type": "display_data"
    }
   ],
   "source": [
    "feat = cek_log\n",
    "plt.figure(figsize=(25, 10))\n",
    "for i in range(0, len(feat)):\n",
    "    plt.subplot(2, 4, i+1)\n",
    "    sns.kdeplot(x=df[feat[i]], color='green')\n",
    "    plt.xlabel(feat[i])\n",
    "    plt.tight_layout()"
   ]
  },
  {
   "cell_type": "code",
   "execution_count": 25,
   "metadata": {
    "colab": {
     "base_uri": "https://localhost:8080/",
     "height": 299
    },
    "id": "yH7Y0ZAmoL2m",
    "outputId": "67e2b718-1b43-4d64-914d-cc6c56e4f64c"
   },
   "outputs": [
    {
     "data": {
      "text/plain": [
       "<AxesSubplot:xlabel='Age', ylabel='Density'>"
      ]
     },
     "execution_count": 25,
     "metadata": {},
     "output_type": "execute_result"
    },
    {
     "data": {
      "image/png": "[encoded data removed]",
      "text/plain": [
       "<Figure size 432x288 with 1 Axes>"
      ]
     },
     "metadata": {
      "needs_background": "light"
     },
     "output_type": "display_data"
    }
   ],
   "source": [
    "sns.kdeplot(np.log(df['Age']))"
   ]
  },
  {
   "cell_type": "code",
   "execution_count": 26,
   "metadata": {
    "colab": {
     "base_uri": "https://localhost:8080/",
     "height": 297
    },
    "id": "IxhHqc9cobRg",
    "outputId": "92055de9-a3bc-4cd1-f3d2-dfc20ecc3585"
   },
   "outputs": [
    {
     "data": {
      "text/plain": [
       "<AxesSubplot:xlabel='Annual_Premium', ylabel='Density'>"
      ]
     },
     "execution_count": 26,
     "metadata": {},
     "output_type": "execute_result"
    },
    {
     "data": {
      "image/png": "[encoded data removed]",
      "text/plain": [
       "<Figure size 432x288 with 1 Axes>"
      ]
     },
     "metadata": {
      "needs_background": "light"
     },
     "output_type": "display_data"
    }
   ],
   "source": [
    "sns.kdeplot(np.log(data['Annual_Premium']))"
   ]
  },
  {
   "cell_type": "markdown",
   "metadata": {
    "id": "opPBAYCLpvtT"
   },
   "source": [
    "## Feature Encoding"
   ]
  },
  {
   "cell_type": "code",
   "execution_count": 27,
   "metadata": {
    "colab": {
     "base_uri": "https://localhost:8080/"
    },
    "id": "a55sZyrSpw-S",
    "outputId": "bbf1d47a-6424-4808-efef-ac70c64bffef"
   },
   "outputs": [
    {
     "name": "stdout",
     "output_type": "stream",
     "text": [
      "value counts of column Gender\n",
      "Male      200319\n",
      "Female    170470\n",
      "Name: Gender, dtype: int64\n",
      "------------------------------ \n",
      "\n",
      "value counts of column Vehicle_Age\n",
      "1-2 Year     194212\n",
      "< 1 Year     161547\n",
      "> 2 Years     15030\n",
      "Name: Vehicle_Age, dtype: int64\n",
      "------------------------------ \n",
      "\n",
      "value counts of column Vehicle_Damage\n",
      "Yes    186561\n",
      "No     184228\n",
      "Name: Vehicle_Damage, dtype: int64\n",
      "------------------------------ \n",
      "\n"
     ]
    }
   ],
   "source": [
    "cats_updated = ['Gender', 'Vehicle_Age', 'Vehicle_Damage']\n",
    "\n",
    "for col in cats_updated:\n",
    "  print(f'value counts of column {col}')\n",
    "  print(data[col].value_counts())\n",
    "  print('---'*10, '\\n')"
   ]
  },
  {
   "cell_type": "code",
   "execution_count": 28,
   "metadata": {
    "id": "1lhv0-42p7DI"
   },
   "outputs": [],
   "source": [
    "# Gender & Vehicle_Damage\n",
    "mapping_Gender = {\n",
    "    'Male' : 0,\n",
    "    'Female' : 1\n",
    "}\n",
    "\n",
    "mapping_vehicle_damage = {\n",
    "    'No' : 0,\n",
    "    'Yes' : 1\n",
    "    \n",
    "}\n",
    "\n",
    "mapping_vehicle_Age = {\n",
    "    '< 1 Year' : 0,\n",
    "    '1-2 Year' : 1,\n",
    "    '> 2 Years' : 2\n",
    "    \n",
    "}\n",
    "\n",
    "df['Gender'] = df['Gender'] .map(mapping_Gender)\n",
    "df['Vehicle_Damage'] = df['Vehicle_Damage'].map(mapping_vehicle_damage)\n",
    "df['Vehicle_Age'] = df['Vehicle_Age'].map(mapping_vehicle_Age)"
   ]
  },
  {
   "cell_type": "code",
   "execution_count": 29,
   "metadata": {
    "colab": {
     "base_uri": "https://localhost:8080/",
     "height": 270
    },
    "id": "6j-IQmHqsYZ3",
    "outputId": "315be53f-a2aa-43a9-f500-396d993cd0ef"
   },
   "outputs": [
    {
     "data": {
      "text/html": [
       "<div>\n",
       "<style scoped>\n",
       "    .dataframe tbody tr th:only-of-type {\n",
       "        vertical-align: middle;\n",
       "    }\n",
       "\n",
       "    .dataframe tbody tr th {\n",
       "        vertical-align: top;\n",
       "    }\n",
       "\n",
       "    .dataframe thead th {\n",
       "        text-align: right;\n",
       "    }\n",
       "</style>\n",
       "<table border=\"1\" class=\"dataframe\">\n",
       "  <thead>\n",
       "    <tr style=\"text-align: right;\">\n",
       "      <th></th>\n",
       "      <th>id</th>\n",
       "      <th>Gender</th>\n",
       "      <th>Age</th>\n",
       "      <th>Driving_License</th>\n",
       "      <th>Region_Code</th>\n",
       "      <th>Previously_Insured</th>\n",
       "      <th>Vehicle_Age</th>\n",
       "      <th>Vehicle_Damage</th>\n",
       "      <th>Annual_Premium</th>\n",
       "      <th>Policy_Sales_Channel</th>\n",
       "      <th>Vintage</th>\n",
       "      <th>Response</th>\n",
       "      <th>Vintage_std</th>\n",
       "      <th>Vintage_norm</th>\n",
       "    </tr>\n",
       "  </thead>\n",
       "  <tbody>\n",
       "    <tr>\n",
       "      <th>0</th>\n",
       "      <td>1</td>\n",
       "      <td>0</td>\n",
       "      <td>44</td>\n",
       "      <td>1</td>\n",
       "      <td>28.0</td>\n",
       "      <td>0</td>\n",
       "      <td>2</td>\n",
       "      <td>1</td>\n",
       "      <td>40454.0</td>\n",
       "      <td>26.0</td>\n",
       "      <td>217</td>\n",
       "      <td>1</td>\n",
       "      <td>0.748795</td>\n",
       "      <td>0.716263</td>\n",
       "    </tr>\n",
       "    <tr>\n",
       "      <th>1</th>\n",
       "      <td>2</td>\n",
       "      <td>0</td>\n",
       "      <td>76</td>\n",
       "      <td>1</td>\n",
       "      <td>3.0</td>\n",
       "      <td>0</td>\n",
       "      <td>1</td>\n",
       "      <td>0</td>\n",
       "      <td>33536.0</td>\n",
       "      <td>26.0</td>\n",
       "      <td>183</td>\n",
       "      <td>0</td>\n",
       "      <td>0.342443</td>\n",
       "      <td>0.598616</td>\n",
       "    </tr>\n",
       "    <tr>\n",
       "      <th>2</th>\n",
       "      <td>3</td>\n",
       "      <td>0</td>\n",
       "      <td>47</td>\n",
       "      <td>1</td>\n",
       "      <td>28.0</td>\n",
       "      <td>0</td>\n",
       "      <td>2</td>\n",
       "      <td>1</td>\n",
       "      <td>38294.0</td>\n",
       "      <td>26.0</td>\n",
       "      <td>27</td>\n",
       "      <td>1</td>\n",
       "      <td>-1.521998</td>\n",
       "      <td>0.058824</td>\n",
       "    </tr>\n",
       "    <tr>\n",
       "      <th>3</th>\n",
       "      <td>4</td>\n",
       "      <td>0</td>\n",
       "      <td>21</td>\n",
       "      <td>1</td>\n",
       "      <td>11.0</td>\n",
       "      <td>1</td>\n",
       "      <td>0</td>\n",
       "      <td>0</td>\n",
       "      <td>28619.0</td>\n",
       "      <td>152.0</td>\n",
       "      <td>203</td>\n",
       "      <td>0</td>\n",
       "      <td>0.581474</td>\n",
       "      <td>0.667820</td>\n",
       "    </tr>\n",
       "    <tr>\n",
       "      <th>4</th>\n",
       "      <td>5</td>\n",
       "      <td>1</td>\n",
       "      <td>29</td>\n",
       "      <td>1</td>\n",
       "      <td>41.0</td>\n",
       "      <td>1</td>\n",
       "      <td>0</td>\n",
       "      <td>0</td>\n",
       "      <td>27496.0</td>\n",
       "      <td>152.0</td>\n",
       "      <td>39</td>\n",
       "      <td>0</td>\n",
       "      <td>-1.378580</td>\n",
       "      <td>0.100346</td>\n",
       "    </tr>\n",
       "  </tbody>\n",
       "</table>\n",
       "</div>"
      ],
      "text/plain": [
       "   id  Gender  Age  Driving_License  Region_Code  Previously_Insured  \\\n",
       "0   1       0   44                1         28.0                   0   \n",
       "1   2       0   76                1          3.0                   0   \n",
       "2   3       0   47                1         28.0                   0   \n",
       "3   4       0   21                1         11.0                   1   \n",
       "4   5       1   29                1         41.0                   1   \n",
       "\n",
       "   Vehicle_Age  Vehicle_Damage  Annual_Premium  Policy_Sales_Channel  Vintage  \\\n",
       "0            2               1         40454.0                  26.0      217   \n",
       "1            1               0         33536.0                  26.0      183   \n",
       "2            2               1         38294.0                  26.0       27   \n",
       "3            0               0         28619.0                 152.0      203   \n",
       "4            0               0         27496.0                 152.0       39   \n",
       "\n",
       "   Response  Vintage_std  Vintage_norm  \n",
       "0         1     0.748795      0.716263  \n",
       "1         0     0.342443      0.598616  \n",
       "2         1    -1.521998      0.058824  \n",
       "3         0     0.581474      0.667820  \n",
       "4         0    -1.378580      0.100346  "
      ]
     },
     "execution_count": 29,
     "metadata": {},
     "output_type": "execute_result"
    }
   ],
   "source": [
    "df.head()"
   ]
  },
  {
   "cell_type": "markdown",
   "metadata": {
    "id": "PdyJa32qpHib"
   },
   "source": [
    "## Class Imbalance"
   ]
  },
  {
   "cell_type": "code",
   "execution_count": 30,
   "metadata": {
    "colab": {
     "base_uri": "https://localhost:8080/"
    },
    "id": "mRpVrVj4pLZe",
    "outputId": "7cb5cba1-4266-460b-c2cf-c66e773ee7c4"
   },
   "outputs": [
    {
     "name": "stdout",
     "output_type": "stream",
     "text": [
      "value counts of column Gender\n",
      "0    206089\n",
      "1    175020\n",
      "Name: Gender, dtype: int64\n",
      "------------------------------ \n",
      "\n",
      "value counts of column Driving_License\n",
      "1    380297\n",
      "0       812\n",
      "Name: Driving_License, dtype: int64\n",
      "------------------------------ \n",
      "\n",
      "value counts of column Policy_Sales_Channel\n",
      "152.0    134784\n",
      "26.0      79700\n",
      "124.0     73995\n",
      "160.0     21779\n",
      "156.0     10661\n",
      "          ...  \n",
      "149.0         1\n",
      "43.0          1\n",
      "144.0         1\n",
      "143.0         1\n",
      "41.0          1\n",
      "Name: Policy_Sales_Channel, Length: 155, dtype: int64\n",
      "------------------------------ \n",
      "\n",
      "value counts of column Region_Code\n",
      "28.0    106415\n",
      "8.0      33877\n",
      "46.0     19749\n",
      "41.0     18263\n",
      "15.0     13308\n",
      "30.0     12191\n",
      "29.0     11065\n",
      "50.0     10243\n",
      "3.0       9251\n",
      "11.0      9232\n",
      "36.0      8797\n",
      "33.0      7654\n",
      "47.0      7436\n",
      "35.0      6942\n",
      "6.0       6280\n",
      "45.0      5605\n",
      "37.0      5501\n",
      "18.0      5153\n",
      "48.0      4681\n",
      "14.0      4678\n",
      "39.0      4644\n",
      "10.0      4374\n",
      "21.0      4266\n",
      "2.0       4038\n",
      "13.0      4036\n",
      "7.0       3279\n",
      "12.0      3198\n",
      "9.0       3101\n",
      "27.0      2823\n",
      "32.0      2787\n",
      "43.0      2639\n",
      "17.0      2617\n",
      "26.0      2587\n",
      "25.0      2503\n",
      "24.0      2415\n",
      "38.0      2026\n",
      "0.0       2021\n",
      "16.0      2007\n",
      "31.0      1960\n",
      "23.0      1960\n",
      "20.0      1935\n",
      "49.0      1832\n",
      "4.0       1801\n",
      "34.0      1664\n",
      "19.0      1535\n",
      "22.0      1309\n",
      "40.0      1295\n",
      "5.0       1279\n",
      "1.0       1008\n",
      "44.0       808\n",
      "42.0       591\n",
      "52.0       267\n",
      "51.0       183\n",
      "Name: Region_Code, dtype: int64\n",
      "------------------------------ \n",
      "\n",
      "value counts of column Previously_Insured\n",
      "0    206481\n",
      "1    174628\n",
      "Name: Previously_Insured, dtype: int64\n",
      "------------------------------ \n",
      "\n",
      "value counts of column Vehicle_Age\n",
      "1    200316\n",
      "0    164786\n",
      "2     16007\n",
      "Name: Vehicle_Age, dtype: int64\n",
      "------------------------------ \n",
      "\n",
      "value counts of column Vehicle_Damage\n",
      "1    192413\n",
      "0    188696\n",
      "Name: Vehicle_Damage, dtype: int64\n",
      "------------------------------ \n",
      "\n",
      "value counts of column Response\n",
      "0    334399\n",
      "1     46710\n",
      "Name: Response, dtype: int64\n",
      "------------------------------ \n",
      "\n"
     ]
    }
   ],
   "source": [
    "cat_vc = ['Gender', 'Driving_License', 'Policy_Sales_Channel', 'Region_Code', 'Previously_Insured', 'Vehicle_Age', 'Vehicle_Damage', 'Response']\n",
    "\n",
    "for col in cat_vc:\n",
    "  print(f'value counts of column {col}')\n",
    "  print(df[col].value_counts())\n",
    "  print('---'*10, '\\n')"
   ]
  },
  {
   "cell_type": "code",
   "execution_count": 31,
   "metadata": {
    "colab": {
     "base_uri": "https://localhost:8080/"
    },
    "id": "RVmNwSiBtgli",
    "outputId": "79e25875-5431-4d79-ee88-0c6ec3981ec8"
   },
   "outputs": [
    {
     "name": "stdout",
     "output_type": "stream",
     "text": [
      "Requirement already satisfied: imbalanced-learn in c:\\users\\risma\\anaconda3\\anaconda\\lib\\site-packages (0.9.0)\n",
      "Requirement already satisfied: numpy>=1.14.6 in c:\\users\\risma\\anaconda3\\anaconda\\lib\\site-packages (from imbalanced-learn) (1.21.0)\n",
      "Requirement already satisfied: scikit-learn>=1.0.1 in c:\\users\\risma\\anaconda3\\anaconda\\lib\\site-packages (from imbalanced-learn) (1.0.2)\n",
      "Requirement already satisfied: joblib>=0.11 in c:\\users\\risma\\anaconda3\\anaconda\\lib\\site-packages (from imbalanced-learn) (1.1.0)\n",
      "Requirement already satisfied: threadpoolctl>=2.0.0 in c:\\users\\risma\\anaconda3\\anaconda\\lib\\site-packages (from imbalanced-learn) (2.2.0)\n",
      "Requirement already satisfied: scipy>=1.1.0 in c:\\users\\risma\\anaconda3\\anaconda\\lib\\site-packages (from imbalanced-learn) (1.7.1)\n"
     ]
    }
   ],
   "source": [
    "!pip install imbalanced-learn"
   ]
  },
  {
   "cell_type": "code",
   "execution_count": 32,
   "metadata": {
    "colab": {
     "base_uri": "https://localhost:8080/"
    },
    "id": "i28st9pruNY9",
    "outputId": "e647eaf6-6a38-4821-c11d-6a7e1d6a9f17"
   },
   "outputs": [
    {
     "data": {
      "text/plain": [
       "True     380297\n",
       "False       812\n",
       "Name: DL_class, dtype: int64"
      ]
     },
     "execution_count": 32,
     "metadata": {},
     "output_type": "execute_result"
    }
   ],
   "source": [
    "df['DL_class'] = df['Driving_License'] == 1\n",
    "df['DL_class'].value_counts()"
   ]
  },
  {
   "cell_type": "code",
   "execution_count": 33,
   "metadata": {
    "colab": {
     "base_uri": "https://localhost:8080/"
    },
    "id": "JsrQ69fAxQzh",
    "outputId": "32167935-013a-4313-bee6-50aacb2085d3"
   },
   "outputs": [
    {
     "name": "stdout",
     "output_type": "stream",
     "text": [
      "(381109, 13)\n",
      "(381109,)\n"
     ]
    }
   ],
   "source": [
    "X = df[[col for col in df.columns if (str(df[col].dtype) != 'object') and col not in ['Driving_License', 'DL_class']]]\n",
    "Y = df['DL_class'].values\n",
    "print(X.shape)\n",
    "print(Y.shape)"
   ]
  },
  {
   "cell_type": "code",
   "execution_count": 34,
   "metadata": {
    "id": "r36o5JehxiIk"
   },
   "outputs": [],
   "source": [
    "from imblearn import under_sampling, over_sampling\n",
    "from imblearn.over_sampling import SMOTE"
   ]
  },
  {
   "cell_type": "code",
   "execution_count": 35,
   "metadata": {
    "colab": {
     "base_uri": "https://localhost:8080/"
    },
    "id": "GjTvcdsXxu-w",
    "outputId": "4495afe1-12b7-48b5-bf21-d457827262bc"
   },
   "outputs": [],
   "source": [
    "x_under, y_under = under_sampling.RandomUnderSampler(1).fit_resample(X, Y)\n",
    "x_over, y_over = over_sampling.RandomOverSampler(1).fit_resample(X, Y)\n",
    "x_over_SMOTE, y_over_SMOTE = over_sampling.SMOTE(1).fit_resample(X, Y)"
   ]
  },
  {
   "cell_type": "code",
   "execution_count": 36,
   "metadata": {
    "colab": {
     "base_uri": "https://localhost:8080/"
    },
    "id": "-rUimLY6x0hr",
    "outputId": "cccf4a12-860e-4257-c663-be1a09189e08"
   },
   "outputs": [
    {
     "name": "stdout",
     "output_type": "stream",
     "text": [
      "Normal\n",
      "True     380297\n",
      "False       812\n",
      "dtype: int64\n",
      "\n",
      "\n",
      "Under Sampling\n",
      "False    812\n",
      "True     812\n",
      "dtype: int64\n",
      "\n",
      "\n",
      "Over Sampling\n",
      "True     380297\n",
      "False    380297\n",
      "dtype: int64\n",
      "\n",
      "\n",
      "SMOTE\n",
      "True     380297\n",
      "False    380297\n",
      "dtype: int64\n"
     ]
    }
   ],
   "source": [
    "print('Normal')\n",
    "print(pd.Series(Y).value_counts())\n",
    "print('\\n')\n",
    "print('Under Sampling')\n",
    "print(pd.Series(y_under).value_counts())\n",
    "print('\\n')\n",
    "print('Over Sampling')\n",
    "print(pd.Series(y_over).value_counts())\n",
    "print('\\n')\n",
    "print('SMOTE')\n",
    "print(pd.Series(y_over_SMOTE).value_counts())"
   ]
  },
  {
   "cell_type": "code",
   "execution_count": 37,
   "metadata": {
    "colab": {
     "base_uri": "https://localhost:8080/"
    },
    "id": "0zHZlzoAJnbF",
    "outputId": "a775f24d-129d-4d8f-9ca2-057f8fb15977"
   },
   "outputs": [
    {
     "data": {
      "text/plain": [
       "True     200316\n",
       "False    180793\n",
       "Name: VA_class, dtype: int64"
      ]
     },
     "execution_count": 37,
     "metadata": {},
     "output_type": "execute_result"
    }
   ],
   "source": [
    "df['VA_class'] = df['Vehicle_Age'] == 1\n",
    "df['VA_class'].value_counts()"
   ]
  },
  {
   "cell_type": "code",
   "execution_count": 38,
   "metadata": {
    "colab": {
     "base_uri": "https://localhost:8080/"
    },
    "id": "EzlWx7E6JpHp",
    "outputId": "35e69ef0-8127-4715-ee59-f89eaa879779"
   },
   "outputs": [
    {
     "name": "stdout",
     "output_type": "stream",
     "text": [
      "(381109, 14)\n",
      "(381109,)\n"
     ]
    }
   ],
   "source": [
    "X = df[[col for col in df.columns if (str(df[col].dtype) != 'object') and col not in ['Vehicle_Age', 'VA_class']]]\n",
    "Y = df['VA_class'].values\n",
    "print(X.shape)\n",
    "print(Y.shape)"
   ]
  },
  {
   "cell_type": "code",
   "execution_count": 39,
   "metadata": {
    "colab": {
     "base_uri": "https://localhost:8080/"
    },
    "id": "pKoPDbgrJpLX",
    "outputId": "9f3113b7-0c3f-4d3c-dc44-7ce2a0379e15"
   },
   "outputs": [],
   "source": [
    "x_under, y_under = under_sampling.RandomUnderSampler(1).fit_resample(X, Y)\n",
    "x_over, y_over = over_sampling.RandomOverSampler(1).fit_resample(X, Y)\n",
    "x_over_SMOTE, y_over_SMOTE = over_sampling.SMOTE(1).fit_resample(X, Y)"
   ]
  },
  {
   "cell_type": "code",
   "execution_count": 40,
   "metadata": {
    "colab": {
     "base_uri": "https://localhost:8080/"
    },
    "id": "OaMJyxV6JpSr",
    "outputId": "212de57f-4dfd-41f0-f309-af2c5d6343a6"
   },
   "outputs": [
    {
     "name": "stdout",
     "output_type": "stream",
     "text": [
      "Normal\n",
      "True     200316\n",
      "False    180793\n",
      "dtype: int64\n",
      "\n",
      "\n",
      "Under Sampling\n",
      "False    180793\n",
      "True     180793\n",
      "dtype: int64\n",
      "\n",
      "\n",
      "Over Sampling\n",
      "False    200316\n",
      "True     200316\n",
      "dtype: int64\n",
      "\n",
      "\n",
      "SMOTE\n",
      "False    200316\n",
      "True     200316\n",
      "dtype: int64\n"
     ]
    }
   ],
   "source": [
    "print('Normal')\n",
    "print(pd.Series(Y).value_counts())\n",
    "print('\\n')\n",
    "print('Under Sampling')\n",
    "print(pd.Series(y_under).value_counts())\n",
    "print('\\n')\n",
    "print('Over Sampling')\n",
    "print(pd.Series(y_over).value_counts())\n",
    "print('\\n')\n",
    "print('SMOTE')\n",
    "print(pd.Series(y_over_SMOTE).value_counts())"
   ]
  },
  {
   "cell_type": "code",
   "execution_count": 41,
   "metadata": {
    "colab": {
     "base_uri": "https://localhost:8080/"
    },
    "id": "0pRTKScRyUmY",
    "outputId": "cd817145-58cf-4c3e-b8d5-14b080852c2d"
   },
   "outputs": [
    {
     "data": {
      "text/plain": [
       "True     334399\n",
       "False     46710\n",
       "Name: Response_class, dtype: int64"
      ]
     },
     "execution_count": 41,
     "metadata": {},
     "output_type": "execute_result"
    }
   ],
   "source": [
    "df['Response_class'] = df['Response'] == 0\n",
    "df['Response_class'].value_counts()"
   ]
  },
  {
   "cell_type": "code",
   "execution_count": 42,
   "metadata": {
    "colab": {
     "base_uri": "https://localhost:8080/"
    },
    "id": "XDHVIi4E3FtQ",
    "outputId": "2060e97e-69fb-4afc-c479-d224aa7ce6fe"
   },
   "outputs": [
    {
     "name": "stdout",
     "output_type": "stream",
     "text": [
      "(381109, 15)\n",
      "(381109,)\n"
     ]
    }
   ],
   "source": [
    "X = df[[col for col in df.columns if (str(df[col].dtype) != 'object') and col not in ['Response', 'Response_class']]]\n",
    "Y = df['Response_class'].values\n",
    "print(X.shape)\n",
    "print(Y.shape)"
   ]
  },
  {
   "cell_type": "code",
   "execution_count": 43,
   "metadata": {
    "colab": {
     "base_uri": "https://localhost:8080/"
    },
    "id": "xqI5--OFF_g5",
    "outputId": "18613cea-c67f-4fa6-929a-4b3e24924f45"
   },
   "outputs": [],
   "source": [
    "x_under, y_under = under_sampling.RandomUnderSampler(1).fit_resample(X, Y)\n",
    "x_over, y_over = over_sampling.RandomOverSampler(1).fit_resample(X, Y)\n",
    "x_over_SMOTE, y_over_SMOTE = over_sampling.SMOTE(1).fit_resample(X, Y)"
   ]
  },
  {
   "cell_type": "code",
   "execution_count": 44,
   "metadata": {
    "colab": {
     "base_uri": "https://localhost:8080/"
    },
    "id": "UeyAwng7GBue",
    "outputId": "bc24d2fb-1278-464a-f717-47dacb3b5385"
   },
   "outputs": [
    {
     "name": "stdout",
     "output_type": "stream",
     "text": [
      "Normal\n",
      "True     334399\n",
      "False     46710\n",
      "dtype: int64\n",
      "\n",
      "\n",
      "Under Sampling\n",
      "False    46710\n",
      "True     46710\n",
      "dtype: int64\n",
      "\n",
      "\n",
      "Over Sampling\n",
      "False    334399\n",
      "True     334399\n",
      "dtype: int64\n",
      "\n",
      "\n",
      "SMOTE\n",
      "False    334399\n",
      "True     334399\n",
      "dtype: int64\n"
     ]
    }
   ],
   "source": [
    "print('Normal')\n",
    "print(pd.Series(Y).value_counts())\n",
    "print('\\n')\n",
    "print('Under Sampling')\n",
    "print(pd.Series(y_under).value_counts())\n",
    "print('\\n')\n",
    "print('Over Sampling')\n",
    "print(pd.Series(y_over).value_counts())\n",
    "print('\\n')\n",
    "print('SMOTE')\n",
    "print(pd.Series(y_over_SMOTE).value_counts())"
   ]
  },
  {
   "cell_type": "code",
   "execution_count": 45,
   "metadata": {
    "colab": {
     "base_uri": "https://localhost:8080/",
     "height": 270
    },
    "id": "Sa9-q1PMsvAf",
    "outputId": "b9015c81-3924-485c-f26d-b6540302d4dc"
   },
   "outputs": [
    {
     "data": {
      "text/html": [
       "<div>\n",
       "<style scoped>\n",
       "    .dataframe tbody tr th:only-of-type {\n",
       "        vertical-align: middle;\n",
       "    }\n",
       "\n",
       "    .dataframe tbody tr th {\n",
       "        vertical-align: top;\n",
       "    }\n",
       "\n",
       "    .dataframe thead th {\n",
       "        text-align: right;\n",
       "    }\n",
       "</style>\n",
       "<table border=\"1\" class=\"dataframe\">\n",
       "  <thead>\n",
       "    <tr style=\"text-align: right;\">\n",
       "      <th></th>\n",
       "      <th>id</th>\n",
       "      <th>Gender</th>\n",
       "      <th>Age</th>\n",
       "      <th>Driving_License</th>\n",
       "      <th>Region_Code</th>\n",
       "      <th>Previously_Insured</th>\n",
       "      <th>Vehicle_Age</th>\n",
       "      <th>Vehicle_Damage</th>\n",
       "      <th>Annual_Premium</th>\n",
       "      <th>Policy_Sales_Channel</th>\n",
       "      <th>Vintage</th>\n",
       "      <th>Response</th>\n",
       "      <th>Vintage_std</th>\n",
       "      <th>Vintage_norm</th>\n",
       "      <th>DL_class</th>\n",
       "      <th>VA_class</th>\n",
       "      <th>Response_class</th>\n",
       "    </tr>\n",
       "  </thead>\n",
       "  <tbody>\n",
       "    <tr>\n",
       "      <th>0</th>\n",
       "      <td>1</td>\n",
       "      <td>0</td>\n",
       "      <td>44</td>\n",
       "      <td>1</td>\n",
       "      <td>28.0</td>\n",
       "      <td>0</td>\n",
       "      <td>2</td>\n",
       "      <td>1</td>\n",
       "      <td>40454.0</td>\n",
       "      <td>26.0</td>\n",
       "      <td>217</td>\n",
       "      <td>1</td>\n",
       "      <td>0.748795</td>\n",
       "      <td>0.716263</td>\n",
       "      <td>True</td>\n",
       "      <td>False</td>\n",
       "      <td>False</td>\n",
       "    </tr>\n",
       "    <tr>\n",
       "      <th>1</th>\n",
       "      <td>2</td>\n",
       "      <td>0</td>\n",
       "      <td>76</td>\n",
       "      <td>1</td>\n",
       "      <td>3.0</td>\n",
       "      <td>0</td>\n",
       "      <td>1</td>\n",
       "      <td>0</td>\n",
       "      <td>33536.0</td>\n",
       "      <td>26.0</td>\n",
       "      <td>183</td>\n",
       "      <td>0</td>\n",
       "      <td>0.342443</td>\n",
       "      <td>0.598616</td>\n",
       "      <td>True</td>\n",
       "      <td>True</td>\n",
       "      <td>True</td>\n",
       "    </tr>\n",
       "    <tr>\n",
       "      <th>2</th>\n",
       "      <td>3</td>\n",
       "      <td>0</td>\n",
       "      <td>47</td>\n",
       "      <td>1</td>\n",
       "      <td>28.0</td>\n",
       "      <td>0</td>\n",
       "      <td>2</td>\n",
       "      <td>1</td>\n",
       "      <td>38294.0</td>\n",
       "      <td>26.0</td>\n",
       "      <td>27</td>\n",
       "      <td>1</td>\n",
       "      <td>-1.521998</td>\n",
       "      <td>0.058824</td>\n",
       "      <td>True</td>\n",
       "      <td>False</td>\n",
       "      <td>False</td>\n",
       "    </tr>\n",
       "    <tr>\n",
       "      <th>3</th>\n",
       "      <td>4</td>\n",
       "      <td>0</td>\n",
       "      <td>21</td>\n",
       "      <td>1</td>\n",
       "      <td>11.0</td>\n",
       "      <td>1</td>\n",
       "      <td>0</td>\n",
       "      <td>0</td>\n",
       "      <td>28619.0</td>\n",
       "      <td>152.0</td>\n",
       "      <td>203</td>\n",
       "      <td>0</td>\n",
       "      <td>0.581474</td>\n",
       "      <td>0.667820</td>\n",
       "      <td>True</td>\n",
       "      <td>False</td>\n",
       "      <td>True</td>\n",
       "    </tr>\n",
       "    <tr>\n",
       "      <th>4</th>\n",
       "      <td>5</td>\n",
       "      <td>1</td>\n",
       "      <td>29</td>\n",
       "      <td>1</td>\n",
       "      <td>41.0</td>\n",
       "      <td>1</td>\n",
       "      <td>0</td>\n",
       "      <td>0</td>\n",
       "      <td>27496.0</td>\n",
       "      <td>152.0</td>\n",
       "      <td>39</td>\n",
       "      <td>0</td>\n",
       "      <td>-1.378580</td>\n",
       "      <td>0.100346</td>\n",
       "      <td>True</td>\n",
       "      <td>False</td>\n",
       "      <td>True</td>\n",
       "    </tr>\n",
       "  </tbody>\n",
       "</table>\n",
       "</div>"
      ],
      "text/plain": [
       "   id  Gender  Age  Driving_License  Region_Code  Previously_Insured  \\\n",
       "0   1       0   44                1         28.0                   0   \n",
       "1   2       0   76                1          3.0                   0   \n",
       "2   3       0   47                1         28.0                   0   \n",
       "3   4       0   21                1         11.0                   1   \n",
       "4   5       1   29                1         41.0                   1   \n",
       "\n",
       "   Vehicle_Age  Vehicle_Damage  Annual_Premium  Policy_Sales_Channel  Vintage  \\\n",
       "0            2               1         40454.0                  26.0      217   \n",
       "1            1               0         33536.0                  26.0      183   \n",
       "2            2               1         38294.0                  26.0       27   \n",
       "3            0               0         28619.0                 152.0      203   \n",
       "4            0               0         27496.0                 152.0       39   \n",
       "\n",
       "   Response  Vintage_std  Vintage_norm  DL_class  VA_class  Response_class  \n",
       "0         1     0.748795      0.716263      True     False           False  \n",
       "1         0     0.342443      0.598616      True      True            True  \n",
       "2         1    -1.521998      0.058824      True     False           False  \n",
       "3         0     0.581474      0.667820      True     False            True  \n",
       "4         0    -1.378580      0.100346      True     False            True  "
      ]
     },
     "execution_count": 45,
     "metadata": {},
     "output_type": "execute_result"
    }
   ],
   "source": [
    "df.head()"
   ]
  },
  {
   "cell_type": "markdown",
   "metadata": {
    "id": "9R4SwvnaUO5C"
   },
   "source": [
    "## **Feature Engineering**"
   ]
  },
  {
   "cell_type": "code",
   "execution_count": 46,
   "metadata": {
    "colab": {
     "base_uri": "https://localhost:8080/",
     "height": 310
    },
    "id": "qLxZAVgJswkk",
    "outputId": "8072114c-2911-400c-809e-02ae27b69286"
   },
   "outputs": [
    {
     "data": {
      "text/html": [
       "<div>\n",
       "<style scoped>\n",
       "    .dataframe tbody tr th:only-of-type {\n",
       "        vertical-align: middle;\n",
       "    }\n",
       "\n",
       "    .dataframe tbody tr th {\n",
       "        vertical-align: top;\n",
       "    }\n",
       "\n",
       "    .dataframe thead th {\n",
       "        text-align: right;\n",
       "    }\n",
       "</style>\n",
       "<table border=\"1\" class=\"dataframe\">\n",
       "  <thead>\n",
       "    <tr style=\"text-align: right;\">\n",
       "      <th></th>\n",
       "      <th>Gender</th>\n",
       "      <th>Age</th>\n",
       "      <th>Driving_License</th>\n",
       "      <th>Region_Code</th>\n",
       "      <th>Previously_Insured</th>\n",
       "      <th>Vehicle_Age</th>\n",
       "      <th>Vehicle_Damage</th>\n",
       "      <th>Annual_Premium</th>\n",
       "      <th>Policy_Sales_Channel</th>\n",
       "    </tr>\n",
       "  </thead>\n",
       "  <tbody>\n",
       "    <tr>\n",
       "      <th>0</th>\n",
       "      <td>0</td>\n",
       "      <td>44</td>\n",
       "      <td>1</td>\n",
       "      <td>28.0</td>\n",
       "      <td>0</td>\n",
       "      <td>2</td>\n",
       "      <td>1</td>\n",
       "      <td>40454</td>\n",
       "      <td>26.0</td>\n",
       "    </tr>\n",
       "    <tr>\n",
       "      <th>1</th>\n",
       "      <td>0</td>\n",
       "      <td>76</td>\n",
       "      <td>1</td>\n",
       "      <td>3.0</td>\n",
       "      <td>0</td>\n",
       "      <td>1</td>\n",
       "      <td>0</td>\n",
       "      <td>33536</td>\n",
       "      <td>26.0</td>\n",
       "    </tr>\n",
       "    <tr>\n",
       "      <th>2</th>\n",
       "      <td>0</td>\n",
       "      <td>47</td>\n",
       "      <td>1</td>\n",
       "      <td>28.0</td>\n",
       "      <td>0</td>\n",
       "      <td>2</td>\n",
       "      <td>1</td>\n",
       "      <td>38294</td>\n",
       "      <td>26.0</td>\n",
       "    </tr>\n",
       "    <tr>\n",
       "      <th>3</th>\n",
       "      <td>0</td>\n",
       "      <td>21</td>\n",
       "      <td>1</td>\n",
       "      <td>11.0</td>\n",
       "      <td>1</td>\n",
       "      <td>0</td>\n",
       "      <td>0</td>\n",
       "      <td>28619</td>\n",
       "      <td>152.0</td>\n",
       "    </tr>\n",
       "    <tr>\n",
       "      <th>4</th>\n",
       "      <td>1</td>\n",
       "      <td>29</td>\n",
       "      <td>1</td>\n",
       "      <td>41.0</td>\n",
       "      <td>1</td>\n",
       "      <td>0</td>\n",
       "      <td>0</td>\n",
       "      <td>27496</td>\n",
       "      <td>152.0</td>\n",
       "    </tr>\n",
       "  </tbody>\n",
       "</table>\n",
       "</div>"
      ],
      "text/plain": [
       "   Gender  Age  Driving_License  Region_Code  Previously_Insured  Vehicle_Age  \\\n",
       "0       0   44                1         28.0                   0            2   \n",
       "1       0   76                1          3.0                   0            1   \n",
       "2       0   47                1         28.0                   0            2   \n",
       "3       0   21                1         11.0                   1            0   \n",
       "4       1   29                1         41.0                   1            0   \n",
       "\n",
       "   Vehicle_Damage  Annual_Premium  Policy_Sales_Channel  \n",
       "0               1           40454                  26.0  \n",
       "1               0           33536                  26.0  \n",
       "2               1           38294                  26.0  \n",
       "3               0           28619                 152.0  \n",
       "4               0           27496                 152.0  "
      ]
     },
     "execution_count": 46,
     "metadata": {},
     "output_type": "execute_result"
    }
   ],
   "source": [
    "#Feature selection refer to EDA in the 1st stage & refer to business knowledge\n",
    "\n",
    "df2 = df[['Gender', 'Age', 'Driving_License', 'Region_Code', 'Previously_Insured', 'Vehicle_Age', 'Vehicle_Damage', 'Annual_Premium', 'Policy_Sales_Channel']]\n",
    "df2['Annual_Premium'] = df2['Annual_Premium'].astype(int)\n",
    "df2.head()"
   ]
  },
  {
   "cell_type": "markdown",
   "metadata": {
    "id": "XkIx47lx7XI6"
   },
   "source": [
    "Berdasarkan hasil analisa pada proses EDA (Exploratory Data Analysis) serta referensi yang didapatkan dari data external (OJK). Maka feature yang digunakan yaitu sebagai berikut:\n",
    "\n",
    "1.   Gender\n",
    "      Berdasarkan hasil EDA menunjukkan bahwa lebih dari 300.000 pengguna yang terdiri dari laki-laki dan perempuan tidak tertarik untuk menggunakan produk asuransi kendaraan, hanya sekitar 10% dari total keseluruhan pengguna yang memiliki \n",
    "ketertarikan untuk menggunakan produk asuransi kendaraan. Sehingga, dapat ditarik kesimpulan bahwa tidak ada pengaruh yang signifikan jika produk asuransi ditawarkan berdasarkan gender dari pengguna .\n",
    "\n",
    "2.   Age\n",
    "     Berdasarkan hasil EDA menunjukkan bahwa rentang usia 40 tahun sampai 50 tahun memiliki ketertarikan yang lebih tinggi untuk menggunakan jasa asuransi kendaraan sedangkan customer pada rentang usia 20 tahun sampai 30 tahun cenderung tidak tertarik menggunakan jasa asuransi kendaraan.  Dari data tersebut dapat diambil kesimpulan untuk lebih memfokuskan promosi asuransi kendaraan kepada customer dengan rentang usia 40 tahun sampai 50 tahun.\n",
    "\n",
    "3.   Driving Lisence\n",
    "      Berdasarkan hasil EDA dapat dilihat bahwa banyak konsumen yang memiliki Driving License namun belum tertarik untuk mengambil Asuransi Kendaraan. Konsumen yang sudah memiliki Driving License dapat didorong dengan memberikan informasi keuntungan memiliki Asuransi Kendaraan atau promosi asuransi.\n",
    "\n",
    "4.   Previously Insured\n",
    "      Secara bisnis kita dapat menggali informasi lebih dalam melalui customer yang pernah mengasuransikan kendaraannya namun tidak tertarik ketika ditawarkan kembali, kita dapat menggali faktor apa saja yang  menyebabkan customer tidak tertarik lagi. apakah dari proses claimmnya yang tidak memuaskan? atau cakupan manfaatnya kurang sesuai?. kemudian dari informasi tersebut dapat kita gunakan untuk mengembangkan produk kita agar lebih sesuai dengan kebutuhan customer.\n",
    "\n",
    "5.  Vehicle Age\n",
    "     Berdasarkan hasil EDA menunjukkan perbandingan data customer yang seimbang berada pada Vehicle Age yang nomor 2, bisa diperkirakan 50:50. Pihak asuransi dapat menambah jumlah kendaraan yang baru untuk meningkatkan ketertarikan masyarakat untuk berlangganan asuransi kendaraan. Dengan menggunakan kendaraan yang baru dapat menurunkan tingkat kerusakan kendaraan dan masyarakat juga merasa aman dalam menggunakan kendaraan tersebut. \n",
    "\n",
    "6.   Vehicle Damage\n",
    "      Berdasarkan grafik dapat diketahui bahwa total user yang kendaraannya sudah pernah mengalami kerusakan, memberi respon tertarik (1) lebih banyak dibandingkan dengan user yang kendaraannya tidak terdapat kerusakan. Jika dibandingkan, total user dengan respon tidak tertarik (0) dengan kendaraan yang tidak mengalami kerusakan lebih banyak dibandingkan \n",
    "dengan yang mengalami kerusakan\n",
    "\n",
    "7.   Annual Premium \n",
    "      Annual Premium tidak berpengaruh terhadap Response konsumen \n",
    "karena jumlah Response Yes dan No terhadap Annual Premium berimbang. Maka dapat disimpulkan bahwa Annual Premium tidak dapat dijadikan sebagai faktor untuk menarik konsumen mengambil asuransi kendaraan. Namun feature ini diperlukan untuk mencari tahu besaran premi yang dibayarkan oleh tiap customer sehinggga feature ini bisa dijadikan suatu metode / data pendukung dalam approaching potential customer.\n",
    "\n",
    "\n",
    "Adapun, feature yang di drop dari dataframe diatas yaitu:\n",
    "\n",
    "1.   Id\n",
    "     Berdasarkan hasil EDA, Id customer hanya mmerupakan nomor urut untuk  identitas customer sehingga tidak ditemukan korelasi / pengaruh terhadap response\n",
    "\n",
    "2.   Vintage\n",
    "      Berdasarkan hasil EDA, feature vintage tidak memiliki korelasi / pengaruh terhadap response customer terhadap layanan vehicle insurance ini. Sehingga feature ini tidak dapat dijadikan sebagaii dasar / data pendukung untuk approaching customer.\n",
    "\n",
    "3.   Driving Lisence\n",
    "      Berdasarkan hasil EDA, Driving lisence tidak mempengaruhi response customer mengenai ketertarikannya untuk menggunakan jasa layanan asuransi kendaraan bermotor.\n",
    "\n"
   ]
  },
  {
   "cell_type": "markdown",
   "metadata": {
    "id": "HWbbBO9aCL-W"
   },
   "source": [
    "**Penambahan Feature Baru**\n",
    "\n",
    "Berdasarkan referensi dari data external (OJK), didapatkan 2 tambahan feature / variable yang sering kali digunakan oleh perusahaan asuransi kendaraan bermotor untuk melakukan pendekatan / mapping potential customer. Feature yang dimaksud yaitu pengklasifikasian customer berdasarkan annual premi dan klasifikasi premi berdasarkan umur kendaraan bermotor (vehicle age)."
   ]
  },
  {
   "cell_type": "markdown",
   "metadata": {
    "id": "vjy0_IKODYZX"
   },
   "source": [
    "Menambahkan feature segment (klasifikasi customer berdasarkan annual premium). Penambahan feature ini bertujuan untuk mempermudah proses analisa tipe - tipe customer berdasarkan annual premi yang dibayarkan. Annual premei tersebut bermanfaat bagi tim bisnis / sales dalam menentukan program / strategi apa yang cocok untuk approaching masing masing tipe customer tersebut."
   ]
  },
  {
   "cell_type": "code",
   "execution_count": 47,
   "metadata": {
    "colab": {
     "base_uri": "https://localhost:8080/",
     "height": 206
    },
    "id": "mWo3-aM7fNUe",
    "outputId": "799f0294-3353-4904-fefd-49692a47c7fd"
   },
   "outputs": [
    {
     "data": {
      "text/html": [
       "<div>\n",
       "<style scoped>\n",
       "    .dataframe tbody tr th:only-of-type {\n",
       "        vertical-align: middle;\n",
       "    }\n",
       "\n",
       "    .dataframe tbody tr th {\n",
       "        vertical-align: top;\n",
       "    }\n",
       "\n",
       "    .dataframe thead th {\n",
       "        text-align: right;\n",
       "    }\n",
       "</style>\n",
       "<table border=\"1\" class=\"dataframe\">\n",
       "  <thead>\n",
       "    <tr style=\"text-align: right;\">\n",
       "      <th></th>\n",
       "      <th>Region_Code</th>\n",
       "      <th>count</th>\n",
       "      <th>mean</th>\n",
       "      <th>std</th>\n",
       "      <th>min</th>\n",
       "      <th>25%</th>\n",
       "      <th>50%</th>\n",
       "      <th>75%</th>\n",
       "      <th>90%</th>\n",
       "      <th>95%</th>\n",
       "      <th>max</th>\n",
       "    </tr>\n",
       "  </thead>\n",
       "  <tbody>\n",
       "    <tr>\n",
       "      <th>0</th>\n",
       "      <td>0.0</td>\n",
       "      <td>2021.0</td>\n",
       "      <td>3047.548738</td>\n",
       "      <td>4322.211980</td>\n",
       "      <td>2630.0</td>\n",
       "      <td>2630.0</td>\n",
       "      <td>2630.0</td>\n",
       "      <td>2630.0</td>\n",
       "      <td>2630.0</td>\n",
       "      <td>2630.00</td>\n",
       "      <td>87815.0</td>\n",
       "    </tr>\n",
       "    <tr>\n",
       "      <th>1</th>\n",
       "      <td>1.0</td>\n",
       "      <td>1008.0</td>\n",
       "      <td>2711.285714</td>\n",
       "      <td>1498.189994</td>\n",
       "      <td>2630.0</td>\n",
       "      <td>2630.0</td>\n",
       "      <td>2630.0</td>\n",
       "      <td>2630.0</td>\n",
       "      <td>2630.0</td>\n",
       "      <td>2630.00</td>\n",
       "      <td>33770.0</td>\n",
       "    </tr>\n",
       "    <tr>\n",
       "      <th>2</th>\n",
       "      <td>2.0</td>\n",
       "      <td>4038.0</td>\n",
       "      <td>26955.212729</td>\n",
       "      <td>11135.774534</td>\n",
       "      <td>2630.0</td>\n",
       "      <td>23839.5</td>\n",
       "      <td>29602.0</td>\n",
       "      <td>33833.5</td>\n",
       "      <td>37623.5</td>\n",
       "      <td>40459.25</td>\n",
       "      <td>61265.0</td>\n",
       "    </tr>\n",
       "    <tr>\n",
       "      <th>3</th>\n",
       "      <td>3.0</td>\n",
       "      <td>9251.0</td>\n",
       "      <td>24524.480813</td>\n",
       "      <td>14165.071245</td>\n",
       "      <td>2630.0</td>\n",
       "      <td>19485.0</td>\n",
       "      <td>26143.0</td>\n",
       "      <td>32672.0</td>\n",
       "      <td>39050.0</td>\n",
       "      <td>43989.00</td>\n",
       "      <td>171264.0</td>\n",
       "    </tr>\n",
       "    <tr>\n",
       "      <th>4</th>\n",
       "      <td>4.0</td>\n",
       "      <td>1801.0</td>\n",
       "      <td>23596.426430</td>\n",
       "      <td>13954.123063</td>\n",
       "      <td>2630.0</td>\n",
       "      <td>2630.0</td>\n",
       "      <td>27153.0</td>\n",
       "      <td>32310.0</td>\n",
       "      <td>38491.0</td>\n",
       "      <td>43113.00</td>\n",
       "      <td>78679.0</td>\n",
       "    </tr>\n",
       "  </tbody>\n",
       "</table>\n",
       "</div>"
      ],
      "text/plain": [
       "   Region_Code   count          mean           std     min      25%      50%  \\\n",
       "0          0.0  2021.0   3047.548738   4322.211980  2630.0   2630.0   2630.0   \n",
       "1          1.0  1008.0   2711.285714   1498.189994  2630.0   2630.0   2630.0   \n",
       "2          2.0  4038.0  26955.212729  11135.774534  2630.0  23839.5  29602.0   \n",
       "3          3.0  9251.0  24524.480813  14165.071245  2630.0  19485.0  26143.0   \n",
       "4          4.0  1801.0  23596.426430  13954.123063  2630.0   2630.0  27153.0   \n",
       "\n",
       "       75%      90%       95%       max  \n",
       "0   2630.0   2630.0   2630.00   87815.0  \n",
       "1   2630.0   2630.0   2630.00   33770.0  \n",
       "2  33833.5  37623.5  40459.25   61265.0  \n",
       "3  32672.0  39050.0  43989.00  171264.0  \n",
       "4  32310.0  38491.0  43113.00   78679.0  "
      ]
     },
     "execution_count": 47,
     "metadata": {},
     "output_type": "execute_result"
    }
   ],
   "source": [
    "df3 = df2.groupby(['Region_Code'])['Annual_Premium'].describe(percentiles = [.25, .5, .75, .9, .95]).reset_index()\n",
    "df3.head()"
   ]
  },
  {
   "cell_type": "code",
   "execution_count": 48,
   "metadata": {
    "colab": {
     "base_uri": "https://localhost:8080/",
     "height": 487
    },
    "id": "xLp8xhFSl12i",
    "outputId": "0ccd0beb-1962-47b5-a3cc-8effec973c27"
   },
   "outputs": [
    {
     "data": {
      "text/html": [
       "<div>\n",
       "<style scoped>\n",
       "    .dataframe tbody tr th:only-of-type {\n",
       "        vertical-align: middle;\n",
       "    }\n",
       "\n",
       "    .dataframe tbody tr th {\n",
       "        vertical-align: top;\n",
       "    }\n",
       "\n",
       "    .dataframe thead th {\n",
       "        text-align: right;\n",
       "    }\n",
       "</style>\n",
       "<table border=\"1\" class=\"dataframe\">\n",
       "  <thead>\n",
       "    <tr style=\"text-align: right;\">\n",
       "      <th></th>\n",
       "      <th>Gender</th>\n",
       "      <th>Age</th>\n",
       "      <th>Driving_License</th>\n",
       "      <th>Region_Code</th>\n",
       "      <th>Previously_Insured</th>\n",
       "      <th>Vehicle_Age</th>\n",
       "      <th>Vehicle_Damage</th>\n",
       "      <th>Annual_Premium</th>\n",
       "      <th>Policy_Sales_Channel</th>\n",
       "      <th>25%</th>\n",
       "      <th>50%</th>\n",
       "      <th>75%</th>\n",
       "    </tr>\n",
       "  </thead>\n",
       "  <tbody>\n",
       "    <tr>\n",
       "      <th>0</th>\n",
       "      <td>0</td>\n",
       "      <td>44</td>\n",
       "      <td>1</td>\n",
       "      <td>28.0</td>\n",
       "      <td>0</td>\n",
       "      <td>2</td>\n",
       "      <td>1</td>\n",
       "      <td>40454</td>\n",
       "      <td>26.0</td>\n",
       "      <td>30772.0</td>\n",
       "      <td>38702.0</td>\n",
       "      <td>47100.0</td>\n",
       "    </tr>\n",
       "    <tr>\n",
       "      <th>1</th>\n",
       "      <td>0</td>\n",
       "      <td>47</td>\n",
       "      <td>1</td>\n",
       "      <td>28.0</td>\n",
       "      <td>0</td>\n",
       "      <td>2</td>\n",
       "      <td>1</td>\n",
       "      <td>38294</td>\n",
       "      <td>26.0</td>\n",
       "      <td>30772.0</td>\n",
       "      <td>38702.0</td>\n",
       "      <td>47100.0</td>\n",
       "    </tr>\n",
       "    <tr>\n",
       "      <th>2</th>\n",
       "      <td>1</td>\n",
       "      <td>56</td>\n",
       "      <td>1</td>\n",
       "      <td>28.0</td>\n",
       "      <td>0</td>\n",
       "      <td>1</td>\n",
       "      <td>1</td>\n",
       "      <td>32031</td>\n",
       "      <td>26.0</td>\n",
       "      <td>30772.0</td>\n",
       "      <td>38702.0</td>\n",
       "      <td>47100.0</td>\n",
       "    </tr>\n",
       "    <tr>\n",
       "      <th>3</th>\n",
       "      <td>0</td>\n",
       "      <td>76</td>\n",
       "      <td>1</td>\n",
       "      <td>28.0</td>\n",
       "      <td>0</td>\n",
       "      <td>1</td>\n",
       "      <td>1</td>\n",
       "      <td>36770</td>\n",
       "      <td>13.0</td>\n",
       "      <td>30772.0</td>\n",
       "      <td>38702.0</td>\n",
       "      <td>47100.0</td>\n",
       "    </tr>\n",
       "    <tr>\n",
       "      <th>4</th>\n",
       "      <td>0</td>\n",
       "      <td>71</td>\n",
       "      <td>1</td>\n",
       "      <td>28.0</td>\n",
       "      <td>1</td>\n",
       "      <td>1</td>\n",
       "      <td>0</td>\n",
       "      <td>46818</td>\n",
       "      <td>30.0</td>\n",
       "      <td>30772.0</td>\n",
       "      <td>38702.0</td>\n",
       "      <td>47100.0</td>\n",
       "    </tr>\n",
       "    <tr>\n",
       "      <th>...</th>\n",
       "      <td>...</td>\n",
       "      <td>...</td>\n",
       "      <td>...</td>\n",
       "      <td>...</td>\n",
       "      <td>...</td>\n",
       "      <td>...</td>\n",
       "      <td>...</td>\n",
       "      <td>...</td>\n",
       "      <td>...</td>\n",
       "      <td>...</td>\n",
       "      <td>...</td>\n",
       "      <td>...</td>\n",
       "    </tr>\n",
       "    <tr>\n",
       "      <th>381104</th>\n",
       "      <td>1</td>\n",
       "      <td>36</td>\n",
       "      <td>1</td>\n",
       "      <td>52.0</td>\n",
       "      <td>0</td>\n",
       "      <td>1</td>\n",
       "      <td>1</td>\n",
       "      <td>2630</td>\n",
       "      <td>156.0</td>\n",
       "      <td>22208.0</td>\n",
       "      <td>34961.0</td>\n",
       "      <td>39754.0</td>\n",
       "    </tr>\n",
       "    <tr>\n",
       "      <th>381105</th>\n",
       "      <td>1</td>\n",
       "      <td>52</td>\n",
       "      <td>1</td>\n",
       "      <td>52.0</td>\n",
       "      <td>0</td>\n",
       "      <td>1</td>\n",
       "      <td>0</td>\n",
       "      <td>38666</td>\n",
       "      <td>124.0</td>\n",
       "      <td>22208.0</td>\n",
       "      <td>34961.0</td>\n",
       "      <td>39754.0</td>\n",
       "    </tr>\n",
       "    <tr>\n",
       "      <th>381106</th>\n",
       "      <td>0</td>\n",
       "      <td>52</td>\n",
       "      <td>1</td>\n",
       "      <td>52.0</td>\n",
       "      <td>0</td>\n",
       "      <td>1</td>\n",
       "      <td>1</td>\n",
       "      <td>74788</td>\n",
       "      <td>26.0</td>\n",
       "      <td>22208.0</td>\n",
       "      <td>34961.0</td>\n",
       "      <td>39754.0</td>\n",
       "    </tr>\n",
       "    <tr>\n",
       "      <th>381107</th>\n",
       "      <td>0</td>\n",
       "      <td>65</td>\n",
       "      <td>1</td>\n",
       "      <td>52.0</td>\n",
       "      <td>0</td>\n",
       "      <td>2</td>\n",
       "      <td>1</td>\n",
       "      <td>37150</td>\n",
       "      <td>163.0</td>\n",
       "      <td>22208.0</td>\n",
       "      <td>34961.0</td>\n",
       "      <td>39754.0</td>\n",
       "    </tr>\n",
       "    <tr>\n",
       "      <th>381108</th>\n",
       "      <td>1</td>\n",
       "      <td>23</td>\n",
       "      <td>1</td>\n",
       "      <td>52.0</td>\n",
       "      <td>1</td>\n",
       "      <td>0</td>\n",
       "      <td>0</td>\n",
       "      <td>45008</td>\n",
       "      <td>152.0</td>\n",
       "      <td>22208.0</td>\n",
       "      <td>34961.0</td>\n",
       "      <td>39754.0</td>\n",
       "    </tr>\n",
       "  </tbody>\n",
       "</table>\n",
       "<p>381109 rows × 12 columns</p>\n",
       "</div>"
      ],
      "text/plain": [
       "        Gender  Age  Driving_License  Region_Code  Previously_Insured  \\\n",
       "0            0   44                1         28.0                   0   \n",
       "1            0   47                1         28.0                   0   \n",
       "2            1   56                1         28.0                   0   \n",
       "3            0   76                1         28.0                   0   \n",
       "4            0   71                1         28.0                   1   \n",
       "...        ...  ...              ...          ...                 ...   \n",
       "381104       1   36                1         52.0                   0   \n",
       "381105       1   52                1         52.0                   0   \n",
       "381106       0   52                1         52.0                   0   \n",
       "381107       0   65                1         52.0                   0   \n",
       "381108       1   23                1         52.0                   1   \n",
       "\n",
       "        Vehicle_Age  Vehicle_Damage  Annual_Premium  Policy_Sales_Channel  \\\n",
       "0                 2               1           40454                  26.0   \n",
       "1                 2               1           38294                  26.0   \n",
       "2                 1               1           32031                  26.0   \n",
       "3                 1               1           36770                  13.0   \n",
       "4                 1               0           46818                  30.0   \n",
       "...             ...             ...             ...                   ...   \n",
       "381104            1               1            2630                 156.0   \n",
       "381105            1               0           38666                 124.0   \n",
       "381106            1               1           74788                  26.0   \n",
       "381107            2               1           37150                 163.0   \n",
       "381108            0               0           45008                 152.0   \n",
       "\n",
       "            25%      50%      75%  \n",
       "0       30772.0  38702.0  47100.0  \n",
       "1       30772.0  38702.0  47100.0  \n",
       "2       30772.0  38702.0  47100.0  \n",
       "3       30772.0  38702.0  47100.0  \n",
       "4       30772.0  38702.0  47100.0  \n",
       "...         ...      ...      ...  \n",
       "381104  22208.0  34961.0  39754.0  \n",
       "381105  22208.0  34961.0  39754.0  \n",
       "381106  22208.0  34961.0  39754.0  \n",
       "381107  22208.0  34961.0  39754.0  \n",
       "381108  22208.0  34961.0  39754.0  \n",
       "\n",
       "[381109 rows x 12 columns]"
      ]
     },
     "execution_count": 48,
     "metadata": {},
     "output_type": "execute_result"
    }
   ],
   "source": [
    "df4 = df2.merge(df3[['Region_Code', '25%', '50%', '75%']], on='Region_Code', how='inner')\n",
    "df4"
   ]
  },
  {
   "cell_type": "code",
   "execution_count": 49,
   "metadata": {
    "id": "Z8qLEyE2WgmU"
   },
   "outputs": [],
   "source": [
    "def segment(x):\n",
    "    if x['Annual_Premium'] < x['25%']:\n",
    "        segment = 'Small Cust'\n",
    "    elif x['Annual_Premium'] <= x['75%'] and x['Annual_Premium'] >= x['50%']:\n",
    "        segment = 'Mid Cust'\n",
    "    else:\n",
    "        segment = 'Big Cust'\n",
    "    return segment"
   ]
  },
  {
   "cell_type": "code",
   "execution_count": 50,
   "metadata": {
    "colab": {
     "base_uri": "https://localhost:8080/",
     "height": 322
    },
    "id": "bTw8rYsHeTdh",
    "outputId": "b0956f22-bd51-499a-f8d5-89606b284209"
   },
   "outputs": [
    {
     "data": {
      "text/html": [
       "<div>\n",
       "<style scoped>\n",
       "    .dataframe tbody tr th:only-of-type {\n",
       "        vertical-align: middle;\n",
       "    }\n",
       "\n",
       "    .dataframe tbody tr th {\n",
       "        vertical-align: top;\n",
       "    }\n",
       "\n",
       "    .dataframe thead th {\n",
       "        text-align: right;\n",
       "    }\n",
       "</style>\n",
       "<table border=\"1\" class=\"dataframe\">\n",
       "  <thead>\n",
       "    <tr style=\"text-align: right;\">\n",
       "      <th></th>\n",
       "      <th>Gender</th>\n",
       "      <th>Age</th>\n",
       "      <th>Driving_License</th>\n",
       "      <th>Region_Code</th>\n",
       "      <th>Previously_Insured</th>\n",
       "      <th>Vehicle_Age</th>\n",
       "      <th>Vehicle_Damage</th>\n",
       "      <th>Annual_Premium</th>\n",
       "      <th>Policy_Sales_Channel</th>\n",
       "      <th>25%</th>\n",
       "      <th>50%</th>\n",
       "      <th>75%</th>\n",
       "      <th>segment</th>\n",
       "    </tr>\n",
       "  </thead>\n",
       "  <tbody>\n",
       "    <tr>\n",
       "      <th>381104</th>\n",
       "      <td>1</td>\n",
       "      <td>36</td>\n",
       "      <td>1</td>\n",
       "      <td>52.0</td>\n",
       "      <td>0</td>\n",
       "      <td>1</td>\n",
       "      <td>1</td>\n",
       "      <td>2630</td>\n",
       "      <td>156.0</td>\n",
       "      <td>22208.0</td>\n",
       "      <td>34961.0</td>\n",
       "      <td>39754.0</td>\n",
       "      <td>Small Cust</td>\n",
       "    </tr>\n",
       "    <tr>\n",
       "      <th>381105</th>\n",
       "      <td>1</td>\n",
       "      <td>52</td>\n",
       "      <td>1</td>\n",
       "      <td>52.0</td>\n",
       "      <td>0</td>\n",
       "      <td>1</td>\n",
       "      <td>0</td>\n",
       "      <td>38666</td>\n",
       "      <td>124.0</td>\n",
       "      <td>22208.0</td>\n",
       "      <td>34961.0</td>\n",
       "      <td>39754.0</td>\n",
       "      <td>Mid Cust</td>\n",
       "    </tr>\n",
       "    <tr>\n",
       "      <th>381106</th>\n",
       "      <td>0</td>\n",
       "      <td>52</td>\n",
       "      <td>1</td>\n",
       "      <td>52.0</td>\n",
       "      <td>0</td>\n",
       "      <td>1</td>\n",
       "      <td>1</td>\n",
       "      <td>74788</td>\n",
       "      <td>26.0</td>\n",
       "      <td>22208.0</td>\n",
       "      <td>34961.0</td>\n",
       "      <td>39754.0</td>\n",
       "      <td>Big Cust</td>\n",
       "    </tr>\n",
       "    <tr>\n",
       "      <th>381107</th>\n",
       "      <td>0</td>\n",
       "      <td>65</td>\n",
       "      <td>1</td>\n",
       "      <td>52.0</td>\n",
       "      <td>0</td>\n",
       "      <td>2</td>\n",
       "      <td>1</td>\n",
       "      <td>37150</td>\n",
       "      <td>163.0</td>\n",
       "      <td>22208.0</td>\n",
       "      <td>34961.0</td>\n",
       "      <td>39754.0</td>\n",
       "      <td>Mid Cust</td>\n",
       "    </tr>\n",
       "    <tr>\n",
       "      <th>381108</th>\n",
       "      <td>1</td>\n",
       "      <td>23</td>\n",
       "      <td>1</td>\n",
       "      <td>52.0</td>\n",
       "      <td>1</td>\n",
       "      <td>0</td>\n",
       "      <td>0</td>\n",
       "      <td>45008</td>\n",
       "      <td>152.0</td>\n",
       "      <td>22208.0</td>\n",
       "      <td>34961.0</td>\n",
       "      <td>39754.0</td>\n",
       "      <td>Big Cust</td>\n",
       "    </tr>\n",
       "  </tbody>\n",
       "</table>\n",
       "</div>"
      ],
      "text/plain": [
       "        Gender  Age  Driving_License  Region_Code  Previously_Insured  \\\n",
       "381104       1   36                1         52.0                   0   \n",
       "381105       1   52                1         52.0                   0   \n",
       "381106       0   52                1         52.0                   0   \n",
       "381107       0   65                1         52.0                   0   \n",
       "381108       1   23                1         52.0                   1   \n",
       "\n",
       "        Vehicle_Age  Vehicle_Damage  Annual_Premium  Policy_Sales_Channel  \\\n",
       "381104            1               1            2630                 156.0   \n",
       "381105            1               0           38666                 124.0   \n",
       "381106            1               1           74788                  26.0   \n",
       "381107            2               1           37150                 163.0   \n",
       "381108            0               0           45008                 152.0   \n",
       "\n",
       "            25%      50%      75%     segment  \n",
       "381104  22208.0  34961.0  39754.0  Small Cust  \n",
       "381105  22208.0  34961.0  39754.0    Mid Cust  \n",
       "381106  22208.0  34961.0  39754.0    Big Cust  \n",
       "381107  22208.0  34961.0  39754.0    Mid Cust  \n",
       "381108  22208.0  34961.0  39754.0    Big Cust  "
      ]
     },
     "execution_count": 50,
     "metadata": {},
     "output_type": "execute_result"
    }
   ],
   "source": [
    "df4['segment'] = df4.apply(lambda x: segment(x), axis=1)\n",
    "df4.tail()"
   ]
  },
  {
   "cell_type": "markdown",
   "metadata": {
    "id": "r4I7KzgqDilb"
   },
   "source": [
    "Menambahkan feature Premi rate (klasifikasi premi berdasarkan umur kendaraan bermotor nya (vehicle age)). Penambahan feature ini bertujuan untuk mempermudah tim bisnis dalam memberikan gambaran premi yang sesuai dengan umur kendaraan (vehicle age) sehingga proses underwritting dapat lebih efisien."
   ]
  },
  {
   "cell_type": "code",
   "execution_count": 51,
   "metadata": {
    "id": "ZWLyCtQWelUW"
   },
   "outputs": [],
   "source": [
    "def premi_rate(y):\n",
    "    if y['Vehicle_Age'] < 2:\n",
    "        premi_rate = 'All Risk'\n",
    "    else:\n",
    "        premi_rate = 'TLO'\n",
    "    return premi_rate"
   ]
  },
  {
   "cell_type": "code",
   "execution_count": 52,
   "metadata": {
    "colab": {
     "base_uri": "https://localhost:8080/",
     "height": 322
    },
    "id": "hxmV1bdQtmpW",
    "outputId": "4aacc094-91f7-4ff5-e5fa-a3e4e1522db7"
   },
   "outputs": [
    {
     "data": {
      "text/html": [
       "<div>\n",
       "<style scoped>\n",
       "    .dataframe tbody tr th:only-of-type {\n",
       "        vertical-align: middle;\n",
       "    }\n",
       "\n",
       "    .dataframe tbody tr th {\n",
       "        vertical-align: top;\n",
       "    }\n",
       "\n",
       "    .dataframe thead th {\n",
       "        text-align: right;\n",
       "    }\n",
       "</style>\n",
       "<table border=\"1\" class=\"dataframe\">\n",
       "  <thead>\n",
       "    <tr style=\"text-align: right;\">\n",
       "      <th></th>\n",
       "      <th>Gender</th>\n",
       "      <th>Age</th>\n",
       "      <th>Driving_License</th>\n",
       "      <th>Region_Code</th>\n",
       "      <th>Previously_Insured</th>\n",
       "      <th>Vehicle_Age</th>\n",
       "      <th>Vehicle_Damage</th>\n",
       "      <th>Annual_Premium</th>\n",
       "      <th>Policy_Sales_Channel</th>\n",
       "      <th>25%</th>\n",
       "      <th>50%</th>\n",
       "      <th>75%</th>\n",
       "      <th>segment</th>\n",
       "      <th>premi_rate</th>\n",
       "    </tr>\n",
       "  </thead>\n",
       "  <tbody>\n",
       "    <tr>\n",
       "      <th>381104</th>\n",
       "      <td>1</td>\n",
       "      <td>36</td>\n",
       "      <td>1</td>\n",
       "      <td>52.0</td>\n",
       "      <td>0</td>\n",
       "      <td>1</td>\n",
       "      <td>1</td>\n",
       "      <td>2630</td>\n",
       "      <td>156.0</td>\n",
       "      <td>22208.0</td>\n",
       "      <td>34961.0</td>\n",
       "      <td>39754.0</td>\n",
       "      <td>Small Cust</td>\n",
       "      <td>All Risk</td>\n",
       "    </tr>\n",
       "    <tr>\n",
       "      <th>381105</th>\n",
       "      <td>1</td>\n",
       "      <td>52</td>\n",
       "      <td>1</td>\n",
       "      <td>52.0</td>\n",
       "      <td>0</td>\n",
       "      <td>1</td>\n",
       "      <td>0</td>\n",
       "      <td>38666</td>\n",
       "      <td>124.0</td>\n",
       "      <td>22208.0</td>\n",
       "      <td>34961.0</td>\n",
       "      <td>39754.0</td>\n",
       "      <td>Mid Cust</td>\n",
       "      <td>All Risk</td>\n",
       "    </tr>\n",
       "    <tr>\n",
       "      <th>381106</th>\n",
       "      <td>0</td>\n",
       "      <td>52</td>\n",
       "      <td>1</td>\n",
       "      <td>52.0</td>\n",
       "      <td>0</td>\n",
       "      <td>1</td>\n",
       "      <td>1</td>\n",
       "      <td>74788</td>\n",
       "      <td>26.0</td>\n",
       "      <td>22208.0</td>\n",
       "      <td>34961.0</td>\n",
       "      <td>39754.0</td>\n",
       "      <td>Big Cust</td>\n",
       "      <td>All Risk</td>\n",
       "    </tr>\n",
       "    <tr>\n",
       "      <th>381107</th>\n",
       "      <td>0</td>\n",
       "      <td>65</td>\n",
       "      <td>1</td>\n",
       "      <td>52.0</td>\n",
       "      <td>0</td>\n",
       "      <td>2</td>\n",
       "      <td>1</td>\n",
       "      <td>37150</td>\n",
       "      <td>163.0</td>\n",
       "      <td>22208.0</td>\n",
       "      <td>34961.0</td>\n",
       "      <td>39754.0</td>\n",
       "      <td>Mid Cust</td>\n",
       "      <td>TLO</td>\n",
       "    </tr>\n",
       "    <tr>\n",
       "      <th>381108</th>\n",
       "      <td>1</td>\n",
       "      <td>23</td>\n",
       "      <td>1</td>\n",
       "      <td>52.0</td>\n",
       "      <td>1</td>\n",
       "      <td>0</td>\n",
       "      <td>0</td>\n",
       "      <td>45008</td>\n",
       "      <td>152.0</td>\n",
       "      <td>22208.0</td>\n",
       "      <td>34961.0</td>\n",
       "      <td>39754.0</td>\n",
       "      <td>Big Cust</td>\n",
       "      <td>All Risk</td>\n",
       "    </tr>\n",
       "  </tbody>\n",
       "</table>\n",
       "</div>"
      ],
      "text/plain": [
       "        Gender  Age  Driving_License  Region_Code  Previously_Insured  \\\n",
       "381104       1   36                1         52.0                   0   \n",
       "381105       1   52                1         52.0                   0   \n",
       "381106       0   52                1         52.0                   0   \n",
       "381107       0   65                1         52.0                   0   \n",
       "381108       1   23                1         52.0                   1   \n",
       "\n",
       "        Vehicle_Age  Vehicle_Damage  Annual_Premium  Policy_Sales_Channel  \\\n",
       "381104            1               1            2630                 156.0   \n",
       "381105            1               0           38666                 124.0   \n",
       "381106            1               1           74788                  26.0   \n",
       "381107            2               1           37150                 163.0   \n",
       "381108            0               0           45008                 152.0   \n",
       "\n",
       "            25%      50%      75%     segment premi_rate  \n",
       "381104  22208.0  34961.0  39754.0  Small Cust   All Risk  \n",
       "381105  22208.0  34961.0  39754.0    Mid Cust   All Risk  \n",
       "381106  22208.0  34961.0  39754.0    Big Cust   All Risk  \n",
       "381107  22208.0  34961.0  39754.0    Mid Cust        TLO  \n",
       "381108  22208.0  34961.0  39754.0    Big Cust   All Risk  "
      ]
     },
     "execution_count": 52,
     "metadata": {},
     "output_type": "execute_result"
    }
   ],
   "source": [
    "df4['premi_rate'] = df4.apply(lambda y: premi_rate(y), axis=1)\n",
    "df4.tail()"
   ]
  }
 ],
 "metadata": {
  "colab": {
   "collapsed_sections": [],
   "name": "Pre Processing The Insomniacs.ipynb",
   "provenance": []
  },
  "kernelspec": {
   "display_name": "Python 3 (ipykernel)",
   "language": "python",
   "name": "python3"
  },
  "language_info": {
   "codemirror_mode": {
    "name": "ipython",
    "version": 3
   },
   "file_extension": ".py",
   "mimetype": "text/x-python",
   "name": "python",
   "nbconvert_exporter": "python",
   "pygments_lexer": "ipython3",
   "version": "3.9.7"
  }
 },
 "nbformat": 4,
 "nbformat_minor": 4
}
