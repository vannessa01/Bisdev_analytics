{
 "cells": [
  {
   "cell_type": "markdown",
   "id": "3889f470",
   "metadata": {
    "id": "3889f470"
   },
   "source": [
    "## Final Project (Stage 1)"
   ]
  },
  {
   "cell_type": "markdown",
   "id": "cc982e03-b839-4fec-8266-6b4f61734738",
   "metadata": {
    "id": "cc982e03-b839-4fec-8266-6b4f61734738"
   },
   "source": [
    "### Kelompok: The Insomniacs"
   ]
  },
  {
   "cell_type": "markdown",
   "id": "642d651e-bf6b-40bc-bbb7-d96061689630",
   "metadata": {
    "id": "642d651e-bf6b-40bc-bbb7-d96061689630"
   },
   "source": [
    "### Kelas: Data Science Batch 19A"
   ]
  },
  {
   "cell_type": "markdown",
   "id": "119fe61e-8d50-4911-a50c-eda677781ab8",
   "metadata": {
    "id": "119fe61e-8d50-4911-a50c-eda677781ab8"
   },
   "source": [
    "### Nama Anggota:\n",
    "    1. Vannessa Yoanita Oktorio Naibaho\n",
    "    2. Shindy Atila Putri\n",
    "    3. Rizki Amanda Putri\n",
    "    4. Ebit Nur Alam\n",
    "    5. Qonita Sungsang\n",
    "    6. Ulfathea Mulyadita\n",
    "    7. Muhammad Hafiz Abdul Aziz"
   ]
  },
  {
   "cell_type": "markdown",
   "id": "0ae43b50-81d5-4835-810d-94c197192dbc",
   "metadata": {
    "id": "0ae43b50-81d5-4835-810d-94c197192dbc"
   },
   "source": [
    "# Health Insurance Cross Sell Prediction"
   ]
  },
  {
   "cell_type": "markdown",
   "id": "0106556e",
   "metadata": {
    "id": "0106556e"
   },
   "source": [
    "Industri kendaraan bermotor di Indonesia sempat mengalami penurunan saat terjadinya pandemi pada tahun 2020. Untuk penjualan mobil, pada bulan Mei dalam sebulan hanya terjual 3,551 unit. Jumlah tersebut jauh dari rata-rata penjualan pra pandemi di kisaran 80.000-90.000 unit per bulan. Berdasarkan data Gabungan Industri Kendaraan Bermotor Indonesia (Gaikindo), penjualan mobil ritel atau penjualan dari dealer ke konsumen pada tahun 2021 melesat 49,3% menjadi 864.348 unit, atau rata-rata per bulannya terjual sekitar 70.000 unit. Sedangkan untuk penjualan motor terjual 5.057.516 unit pada tahun 2021. Jumlah tersebut meningkat kurang lebih 14% dari tahun 2020 yang hanya terjual 3.660.616 unit.\n",
    "\n",
    "Kenaikan penjualan kendaraan bermotor tersebut dapat dipengaruhi oleh beberapa faktor, salah satunya yaitu insentif PPnBM yang disediakan oleh Pemerintah. Selain itu, berdasarkan data yang dihimpun olehh Detikoto, Rata-rata atau sebesar 80% masyarakat Indonesia membeli mobil secara kredit dan dalam proses kredit itu terdapat fasilitas asuransi. Berdasarkan data tersebut, Trusthealth (suatu perusahaan yang bergerak di bidang jasa asuransi kesehatan) berinisiatif untuk mengembangkan lini bisnis nya ke sektor asuransi kendaraan bermotor. Merujuk kepada hasil survey yang dilakukan oleh Bank Mandiri, terdapat kemungkinan kenaikan penjualan bermotor senilai 8,2% di tahun 2022. Kabar ini menjadi suatu angin segar bagi perusahaan, dengan masuk ke sektor ini perusahaan berpotensi mendapatkan tambahan revenue baru senilai $31.250 per tahunnya. \n",
    " \n",
    "Trust Health adalah sebuah perusahaan yang bergerak di layanan asuransi kesehatan. Seiring dengan naiknya penjualan kendaraan bermotor, Trust Health berencana untuk mengembangkan lini bisnis nya untuk masuk juga ke sektor asuransi kendaraan bermotor. Cara termudah mendapatkan customer untuk lini bisnis baru tersebut adalah dengan mengajak existing customer saat ini untuk turut menggunakan jasa asuransi kendaraan bermotor. Hal ini bertujuan untuk mempermudah tim sales dalam mengakuisisi customer baru, sehingga perlu diprediksi customer existing mana saja yang akan tertarik untuk mendaftar asuransi kendaraan."
   ]
  },
  {
   "cell_type": "markdown",
   "id": "0abe8ab8",
   "metadata": {
    "id": "0abe8ab8"
   },
   "source": [
    "### Description about the data:"
   ]
  },
  {
   "cell_type": "markdown",
   "id": "6427a3b9",
   "metadata": {
    "id": "6427a3b9"
   },
   "source": [
    "1.\tDriving_License\t: 1: Customer already has DL, 0: Customer does not have Driving License.\n",
    "2.\tPreviously_Insured : 1: Customer already has Vehicle Insurance, 0: Customer doesn’t have Vehicle Insurance.\n",
    "3.\tVehicle_Age\t: Age of the Vehicle.\n",
    "4.\tVehicle_Damage : 1: Customer got his/her vehicle damaged in the past. 0: Customer didn’t get his/her vehicle damaged in the past.\n",
    "5.\tResponse : 1: Customer is interested, 0: Customer isn’t interested."
   ]
  },
  {
   "cell_type": "markdown",
   "id": "2894a311",
   "metadata": {
    "id": "2894a311"
   },
   "source": [
    "### Additional description:"
   ]
  },
  {
   "cell_type": "markdown",
   "id": "db6399c4",
   "metadata": {
    "id": "db6399c4"
   },
   "source": [
    "1.\tId : Unique ID for the customer.\n",
    "2.\tGender : Gender of the customer; male and female.\n",
    "3.\tAge\t: Age of the customer.\n",
    "4.\tRegion_Code\t: Unique code for the region of the customer.\n",
    "5.\tAnnual_Premium : The amount customer needs to pay as premium in the year.\n",
    "6.\tPolicySalesChannel : Anonymized Code for the channel of outreaching to the customer ie. Different Agents, Over Mail, Over Phone, In Person, etc.\n",
    "7.  Vintage : Total berapa lama user bergabung menjadi customer perusahaan dalam satuan hari."
   ]
  },
  {
   "cell_type": "code",
   "execution_count": 1,
   "id": "164786b6",
   "metadata": {
    "id": "164786b6"
   },
   "outputs": [],
   "source": [
    "## Pandas dan Numpy\n",
    "import pandas as pd\n",
    "import numpy as np\n",
    "\n",
    "# Visualization Library\n",
    "import matplotlib.pyplot as plt\n",
    "import seaborn as sns\n",
    "import scipy.stats as st\n",
    "from scipy.stats import chi2_contingency\n",
    "import statsmodels.stats.proportion as sp\n",
    "import numpy as np\n",
    "import warnings\n",
    "warnings.filterwarnings('ignore')"
   ]
  },
  {
   "cell_type": "code",
   "execution_count": 2,
   "id": "3a3a27f3",
   "metadata": {
    "colab": {
     "base_uri": "https://localhost:8080/",
     "height": 304
    },
    "id": "3a3a27f3",
    "outputId": "ac33daf7-bcb6-4b9f-c6b0-79545561a6aa"
   },
   "outputs": [
    {
     "data": {
      "text/html": [
       "<div>\n",
       "<style scoped>\n",
       "    .dataframe tbody tr th:only-of-type {\n",
       "        vertical-align: middle;\n",
       "    }\n",
       "\n",
       "    .dataframe tbody tr th {\n",
       "        vertical-align: top;\n",
       "    }\n",
       "\n",
       "    .dataframe thead th {\n",
       "        text-align: right;\n",
       "    }\n",
       "</style>\n",
       "<table border=\"1\" class=\"dataframe\">\n",
       "  <thead>\n",
       "    <tr style=\"text-align: right;\">\n",
       "      <th></th>\n",
       "      <th>id</th>\n",
       "      <th>Gender</th>\n",
       "      <th>Age</th>\n",
       "      <th>Driving_License</th>\n",
       "      <th>Region_Code</th>\n",
       "      <th>Previously_Insured</th>\n",
       "      <th>Vehicle_Age</th>\n",
       "      <th>Vehicle_Damage</th>\n",
       "      <th>Annual_Premium</th>\n",
       "      <th>Policy_Sales_Channel</th>\n",
       "      <th>Vintage</th>\n",
       "      <th>Response</th>\n",
       "    </tr>\n",
       "  </thead>\n",
       "  <tbody>\n",
       "    <tr>\n",
       "      <th>0</th>\n",
       "      <td>1</td>\n",
       "      <td>Male</td>\n",
       "      <td>44</td>\n",
       "      <td>1</td>\n",
       "      <td>28.0</td>\n",
       "      <td>0</td>\n",
       "      <td>&gt; 2 Years</td>\n",
       "      <td>Yes</td>\n",
       "      <td>40454.0</td>\n",
       "      <td>26.0</td>\n",
       "      <td>217</td>\n",
       "      <td>1</td>\n",
       "    </tr>\n",
       "    <tr>\n",
       "      <th>1</th>\n",
       "      <td>2</td>\n",
       "      <td>Male</td>\n",
       "      <td>76</td>\n",
       "      <td>1</td>\n",
       "      <td>3.0</td>\n",
       "      <td>0</td>\n",
       "      <td>1-2 Year</td>\n",
       "      <td>No</td>\n",
       "      <td>33536.0</td>\n",
       "      <td>26.0</td>\n",
       "      <td>183</td>\n",
       "      <td>0</td>\n",
       "    </tr>\n",
       "    <tr>\n",
       "      <th>2</th>\n",
       "      <td>3</td>\n",
       "      <td>Male</td>\n",
       "      <td>47</td>\n",
       "      <td>1</td>\n",
       "      <td>28.0</td>\n",
       "      <td>0</td>\n",
       "      <td>&gt; 2 Years</td>\n",
       "      <td>Yes</td>\n",
       "      <td>38294.0</td>\n",
       "      <td>26.0</td>\n",
       "      <td>27</td>\n",
       "      <td>1</td>\n",
       "    </tr>\n",
       "    <tr>\n",
       "      <th>3</th>\n",
       "      <td>4</td>\n",
       "      <td>Male</td>\n",
       "      <td>21</td>\n",
       "      <td>1</td>\n",
       "      <td>11.0</td>\n",
       "      <td>1</td>\n",
       "      <td>&lt; 1 Year</td>\n",
       "      <td>No</td>\n",
       "      <td>28619.0</td>\n",
       "      <td>152.0</td>\n",
       "      <td>203</td>\n",
       "      <td>0</td>\n",
       "    </tr>\n",
       "    <tr>\n",
       "      <th>4</th>\n",
       "      <td>5</td>\n",
       "      <td>Female</td>\n",
       "      <td>29</td>\n",
       "      <td>1</td>\n",
       "      <td>41.0</td>\n",
       "      <td>1</td>\n",
       "      <td>&lt; 1 Year</td>\n",
       "      <td>No</td>\n",
       "      <td>27496.0</td>\n",
       "      <td>152.0</td>\n",
       "      <td>39</td>\n",
       "      <td>0</td>\n",
       "    </tr>\n",
       "  </tbody>\n",
       "</table>\n",
       "</div>"
      ],
      "text/plain": [
       "   id  Gender  Age  Driving_License  Region_Code  Previously_Insured  \\\n",
       "0   1    Male   44                1         28.0                   0   \n",
       "1   2    Male   76                1          3.0                   0   \n",
       "2   3    Male   47                1         28.0                   0   \n",
       "3   4    Male   21                1         11.0                   1   \n",
       "4   5  Female   29                1         41.0                   1   \n",
       "\n",
       "  Vehicle_Age Vehicle_Damage  Annual_Premium  Policy_Sales_Channel  Vintage  \\\n",
       "0   > 2 Years            Yes         40454.0                  26.0      217   \n",
       "1    1-2 Year             No         33536.0                  26.0      183   \n",
       "2   > 2 Years            Yes         38294.0                  26.0       27   \n",
       "3    < 1 Year             No         28619.0                 152.0      203   \n",
       "4    < 1 Year             No         27496.0                 152.0       39   \n",
       "\n",
       "   Response  \n",
       "0         1  \n",
       "1         0  \n",
       "2         1  \n",
       "3         0  \n",
       "4         0  "
      ]
     },
     "execution_count": 2,
     "metadata": {},
     "output_type": "execute_result"
    }
   ],
   "source": [
    "data = pd.read_csv('Insurance_dataset.csv')\n",
    "data.head()"
   ]
  },
  {
   "cell_type": "markdown",
   "id": "a53e83e8",
   "metadata": {
    "id": "a53e83e8"
   },
   "source": [
    "# Data Exploration"
   ]
  },
  {
   "cell_type": "markdown",
   "id": "4ae8027c",
   "metadata": {
    "id": "4ae8027c"
   },
   "source": [
    "## Kesesuaian Tipe Data"
   ]
  },
  {
   "cell_type": "code",
   "execution_count": 3,
   "id": "eb636e24",
   "metadata": {
    "colab": {
     "base_uri": "https://localhost:8080/"
    },
    "id": "eb636e24",
    "outputId": "2dbdd18a-bbf1-452b-b8a1-3a79be0bd30c"
   },
   "outputs": [
    {
     "name": "stdout",
     "output_type": "stream",
     "text": [
      "<class 'pandas.core.frame.DataFrame'>\n",
      "RangeIndex: 381109 entries, 0 to 381108\n",
      "Data columns (total 12 columns):\n",
      " #   Column                Non-Null Count   Dtype  \n",
      "---  ------                --------------   -----  \n",
      " 0   id                    381109 non-null  int64  \n",
      " 1   Gender                381109 non-null  object \n",
      " 2   Age                   381109 non-null  int64  \n",
      " 3   Driving_License       381109 non-null  int64  \n",
      " 4   Region_Code           381109 non-null  float64\n",
      " 5   Previously_Insured    381109 non-null  int64  \n",
      " 6   Vehicle_Age           381109 non-null  object \n",
      " 7   Vehicle_Damage        381109 non-null  object \n",
      " 8   Annual_Premium        381109 non-null  float64\n",
      " 9   Policy_Sales_Channel  381109 non-null  float64\n",
      " 10  Vintage               381109 non-null  int64  \n",
      " 11  Response              381109 non-null  int64  \n",
      "dtypes: float64(3), int64(6), object(3)\n",
      "memory usage: 34.9+ MB\n"
     ]
    }
   ],
   "source": [
    "data.info()"
   ]
  },
  {
   "cell_type": "code",
   "execution_count": 4,
   "id": "a47bf231",
   "metadata": {
    "id": "a47bf231",
    "outputId": "8ba761f9-271c-4f2a-cf8b-258e1f595ff8"
   },
   "outputs": [
    {
     "data": {
      "text/plain": [
       "(381109, 12)"
      ]
     },
     "execution_count": 4,
     "metadata": {},
     "output_type": "execute_result"
    }
   ],
   "source": [
    "data.shape"
   ]
  },
  {
   "cell_type": "markdown",
   "id": "24f6a6ac",
   "metadata": {
    "id": "24f6a6ac"
   },
   "source": [
    "#### Semua tipe data setiap kolom sudah sesuai"
   ]
  },
  {
   "cell_type": "markdown",
   "id": "c0920df0",
   "metadata": {
    "id": "c0920df0"
   },
   "source": [
    "## Cek Missing Values"
   ]
  },
  {
   "cell_type": "code",
   "execution_count": 5,
   "id": "3efa85f9",
   "metadata": {
    "id": "3efa85f9",
    "outputId": "c925ca4f-5e76-4ac5-a47a-d637808f5d5e"
   },
   "outputs": [
    {
     "name": "stdout",
     "output_type": "stream",
     "text": [
      "Kolom yang memiliki missing value adalah :\n"
     ]
    },
    {
     "data": {
      "text/plain": [
       "[]"
      ]
     },
     "execution_count": 5,
     "metadata": {},
     "output_type": "execute_result"
    }
   ],
   "source": [
    "print(\"Kolom yang memiliki missing value adalah :\")\n",
    "data.columns[data.isnull().any()].tolist()"
   ]
  },
  {
   "cell_type": "markdown",
   "id": "6d9b0e31",
   "metadata": {
    "id": "6d9b0e31"
   },
   "source": [
    "#### Tidak ada kolom yang memiliki missing values"
   ]
  },
  {
   "cell_type": "code",
   "execution_count": 6,
   "id": "1d502510",
   "metadata": {
    "id": "1d502510",
    "outputId": "54744de4-328a-40ec-f591-6ce9ca3f03b4"
   },
   "outputs": [
    {
     "data": {
      "text/html": [
       "<div>\n",
       "<style scoped>\n",
       "    .dataframe tbody tr th:only-of-type {\n",
       "        vertical-align: middle;\n",
       "    }\n",
       "\n",
       "    .dataframe tbody tr th {\n",
       "        vertical-align: top;\n",
       "    }\n",
       "\n",
       "    .dataframe thead th {\n",
       "        text-align: right;\n",
       "    }\n",
       "</style>\n",
       "<table border=\"1\" class=\"dataframe\">\n",
       "  <thead>\n",
       "    <tr style=\"text-align: right;\">\n",
       "      <th></th>\n",
       "      <th>id</th>\n",
       "      <th>Age</th>\n",
       "      <th>Driving_License</th>\n",
       "      <th>Region_Code</th>\n",
       "      <th>Previously_Insured</th>\n",
       "      <th>Annual_Premium</th>\n",
       "      <th>Policy_Sales_Channel</th>\n",
       "      <th>Vintage</th>\n",
       "      <th>Response</th>\n",
       "    </tr>\n",
       "  </thead>\n",
       "  <tbody>\n",
       "    <tr>\n",
       "      <th>count</th>\n",
       "      <td>381109.000000</td>\n",
       "      <td>381109.000000</td>\n",
       "      <td>381109.000000</td>\n",
       "      <td>381109.000000</td>\n",
       "      <td>381109.000000</td>\n",
       "      <td>381109.000000</td>\n",
       "      <td>381109.000000</td>\n",
       "      <td>381109.000000</td>\n",
       "      <td>381109.000000</td>\n",
       "    </tr>\n",
       "    <tr>\n",
       "      <th>mean</th>\n",
       "      <td>190555.000000</td>\n",
       "      <td>38.822584</td>\n",
       "      <td>0.997869</td>\n",
       "      <td>26.388807</td>\n",
       "      <td>0.458210</td>\n",
       "      <td>30564.389581</td>\n",
       "      <td>112.034295</td>\n",
       "      <td>154.347397</td>\n",
       "      <td>0.122563</td>\n",
       "    </tr>\n",
       "    <tr>\n",
       "      <th>std</th>\n",
       "      <td>110016.836208</td>\n",
       "      <td>15.511611</td>\n",
       "      <td>0.046110</td>\n",
       "      <td>13.229888</td>\n",
       "      <td>0.498251</td>\n",
       "      <td>17213.155057</td>\n",
       "      <td>54.203995</td>\n",
       "      <td>83.671304</td>\n",
       "      <td>0.327936</td>\n",
       "    </tr>\n",
       "    <tr>\n",
       "      <th>min</th>\n",
       "      <td>1.000000</td>\n",
       "      <td>20.000000</td>\n",
       "      <td>0.000000</td>\n",
       "      <td>0.000000</td>\n",
       "      <td>0.000000</td>\n",
       "      <td>2630.000000</td>\n",
       "      <td>1.000000</td>\n",
       "      <td>10.000000</td>\n",
       "      <td>0.000000</td>\n",
       "    </tr>\n",
       "    <tr>\n",
       "      <th>25%</th>\n",
       "      <td>95278.000000</td>\n",
       "      <td>25.000000</td>\n",
       "      <td>1.000000</td>\n",
       "      <td>15.000000</td>\n",
       "      <td>0.000000</td>\n",
       "      <td>24405.000000</td>\n",
       "      <td>29.000000</td>\n",
       "      <td>82.000000</td>\n",
       "      <td>0.000000</td>\n",
       "    </tr>\n",
       "    <tr>\n",
       "      <th>50%</th>\n",
       "      <td>190555.000000</td>\n",
       "      <td>36.000000</td>\n",
       "      <td>1.000000</td>\n",
       "      <td>28.000000</td>\n",
       "      <td>0.000000</td>\n",
       "      <td>31669.000000</td>\n",
       "      <td>133.000000</td>\n",
       "      <td>154.000000</td>\n",
       "      <td>0.000000</td>\n",
       "    </tr>\n",
       "    <tr>\n",
       "      <th>75%</th>\n",
       "      <td>285832.000000</td>\n",
       "      <td>49.000000</td>\n",
       "      <td>1.000000</td>\n",
       "      <td>35.000000</td>\n",
       "      <td>1.000000</td>\n",
       "      <td>39400.000000</td>\n",
       "      <td>152.000000</td>\n",
       "      <td>227.000000</td>\n",
       "      <td>0.000000</td>\n",
       "    </tr>\n",
       "    <tr>\n",
       "      <th>max</th>\n",
       "      <td>381109.000000</td>\n",
       "      <td>85.000000</td>\n",
       "      <td>1.000000</td>\n",
       "      <td>52.000000</td>\n",
       "      <td>1.000000</td>\n",
       "      <td>540165.000000</td>\n",
       "      <td>163.000000</td>\n",
       "      <td>299.000000</td>\n",
       "      <td>1.000000</td>\n",
       "    </tr>\n",
       "  </tbody>\n",
       "</table>\n",
       "</div>"
      ],
      "text/plain": [
       "                  id            Age  Driving_License    Region_Code  \\\n",
       "count  381109.000000  381109.000000    381109.000000  381109.000000   \n",
       "mean   190555.000000      38.822584         0.997869      26.388807   \n",
       "std    110016.836208      15.511611         0.046110      13.229888   \n",
       "min         1.000000      20.000000         0.000000       0.000000   \n",
       "25%     95278.000000      25.000000         1.000000      15.000000   \n",
       "50%    190555.000000      36.000000         1.000000      28.000000   \n",
       "75%    285832.000000      49.000000         1.000000      35.000000   \n",
       "max    381109.000000      85.000000         1.000000      52.000000   \n",
       "\n",
       "       Previously_Insured  Annual_Premium  Policy_Sales_Channel  \\\n",
       "count       381109.000000   381109.000000         381109.000000   \n",
       "mean             0.458210    30564.389581            112.034295   \n",
       "std              0.498251    17213.155057             54.203995   \n",
       "min              0.000000     2630.000000              1.000000   \n",
       "25%              0.000000    24405.000000             29.000000   \n",
       "50%              0.000000    31669.000000            133.000000   \n",
       "75%              1.000000    39400.000000            152.000000   \n",
       "max              1.000000   540165.000000            163.000000   \n",
       "\n",
       "             Vintage       Response  \n",
       "count  381109.000000  381109.000000  \n",
       "mean      154.347397       0.122563  \n",
       "std        83.671304       0.327936  \n",
       "min        10.000000       0.000000  \n",
       "25%        82.000000       0.000000  \n",
       "50%       154.000000       0.000000  \n",
       "75%       227.000000       0.000000  \n",
       "max       299.000000       1.000000  "
      ]
     },
     "execution_count": 6,
     "metadata": {},
     "output_type": "execute_result"
    }
   ],
   "source": [
    "data.describe()"
   ]
  },
  {
   "cell_type": "markdown",
   "id": "471cd9d2",
   "metadata": {
    "id": "471cd9d2"
   },
   "source": [
    "## Data Numerik dan Kategori"
   ]
  },
  {
   "cell_type": "code",
   "execution_count": 7,
   "id": "c2d78792",
   "metadata": {
    "id": "c2d78792"
   },
   "outputs": [],
   "source": [
    "numerical = ['Age', 'Annual_Premium', 'Vintage']\n",
    "categorical = ['Gender', 'Vehicle_Age', 'Vehicle_Damage']\n",
    "categorical_int = ['Driving_License', 'Region_Code', 'Previously_Insured', 'Policy_Sales_Channel', 'Response']"
   ]
  },
  {
   "cell_type": "code",
   "execution_count": 8,
   "id": "878c1eb7",
   "metadata": {
    "colab": {
     "base_uri": "https://localhost:8080/",
     "height": 165
    },
    "id": "878c1eb7",
    "outputId": "ccc3bd45-200c-48ea-9101-cddd34c578d9"
   },
   "outputs": [
    {
     "data": {
      "text/html": [
       "<div>\n",
       "<style scoped>\n",
       "    .dataframe tbody tr th:only-of-type {\n",
       "        vertical-align: middle;\n",
       "    }\n",
       "\n",
       "    .dataframe tbody tr th {\n",
       "        vertical-align: top;\n",
       "    }\n",
       "\n",
       "    .dataframe thead th {\n",
       "        text-align: right;\n",
       "    }\n",
       "</style>\n",
       "<table border=\"1\" class=\"dataframe\">\n",
       "  <thead>\n",
       "    <tr style=\"text-align: right;\">\n",
       "      <th></th>\n",
       "      <th>Age</th>\n",
       "      <th>Annual_Premium</th>\n",
       "      <th>Vintage</th>\n",
       "    </tr>\n",
       "  </thead>\n",
       "  <tbody>\n",
       "    <tr>\n",
       "      <th>count</th>\n",
       "      <td>381109.000000</td>\n",
       "      <td>381109.000000</td>\n",
       "      <td>381109.000000</td>\n",
       "    </tr>\n",
       "    <tr>\n",
       "      <th>mean</th>\n",
       "      <td>38.822584</td>\n",
       "      <td>30564.389581</td>\n",
       "      <td>154.347397</td>\n",
       "    </tr>\n",
       "    <tr>\n",
       "      <th>std</th>\n",
       "      <td>15.511611</td>\n",
       "      <td>17213.155057</td>\n",
       "      <td>83.671304</td>\n",
       "    </tr>\n",
       "    <tr>\n",
       "      <th>min</th>\n",
       "      <td>20.000000</td>\n",
       "      <td>2630.000000</td>\n",
       "      <td>10.000000</td>\n",
       "    </tr>\n",
       "    <tr>\n",
       "      <th>25%</th>\n",
       "      <td>25.000000</td>\n",
       "      <td>24405.000000</td>\n",
       "      <td>82.000000</td>\n",
       "    </tr>\n",
       "    <tr>\n",
       "      <th>50%</th>\n",
       "      <td>36.000000</td>\n",
       "      <td>31669.000000</td>\n",
       "      <td>154.000000</td>\n",
       "    </tr>\n",
       "    <tr>\n",
       "      <th>75%</th>\n",
       "      <td>49.000000</td>\n",
       "      <td>39400.000000</td>\n",
       "      <td>227.000000</td>\n",
       "    </tr>\n",
       "    <tr>\n",
       "      <th>max</th>\n",
       "      <td>85.000000</td>\n",
       "      <td>540165.000000</td>\n",
       "      <td>299.000000</td>\n",
       "    </tr>\n",
       "  </tbody>\n",
       "</table>\n",
       "</div>"
      ],
      "text/plain": [
       "                 Age  Annual_Premium        Vintage\n",
       "count  381109.000000   381109.000000  381109.000000\n",
       "mean       38.822584    30564.389581     154.347397\n",
       "std        15.511611    17213.155057      83.671304\n",
       "min        20.000000     2630.000000      10.000000\n",
       "25%        25.000000    24405.000000      82.000000\n",
       "50%        36.000000    31669.000000     154.000000\n",
       "75%        49.000000    39400.000000     227.000000\n",
       "max        85.000000   540165.000000     299.000000"
      ]
     },
     "execution_count": 8,
     "metadata": {},
     "output_type": "execute_result"
    }
   ],
   "source": [
    "data[numerical].describe()"
   ]
  },
  {
   "cell_type": "code",
   "execution_count": 9,
   "id": "bf3ae11a",
   "metadata": {
    "id": "bf3ae11a",
    "outputId": "627bd315-cc86-46ec-9604-94dc0cc28787"
   },
   "outputs": [
    {
     "data": {
      "text/html": [
       "<div>\n",
       "<style scoped>\n",
       "    .dataframe tbody tr th:only-of-type {\n",
       "        vertical-align: middle;\n",
       "    }\n",
       "\n",
       "    .dataframe tbody tr th {\n",
       "        vertical-align: top;\n",
       "    }\n",
       "\n",
       "    .dataframe thead th {\n",
       "        text-align: right;\n",
       "    }\n",
       "</style>\n",
       "<table border=\"1\" class=\"dataframe\">\n",
       "  <thead>\n",
       "    <tr style=\"text-align: right;\">\n",
       "      <th></th>\n",
       "      <th>Gender</th>\n",
       "      <th>Vehicle_Age</th>\n",
       "      <th>Vehicle_Damage</th>\n",
       "    </tr>\n",
       "  </thead>\n",
       "  <tbody>\n",
       "    <tr>\n",
       "      <th>count</th>\n",
       "      <td>381109</td>\n",
       "      <td>381109</td>\n",
       "      <td>381109</td>\n",
       "    </tr>\n",
       "    <tr>\n",
       "      <th>unique</th>\n",
       "      <td>2</td>\n",
       "      <td>3</td>\n",
       "      <td>2</td>\n",
       "    </tr>\n",
       "    <tr>\n",
       "      <th>top</th>\n",
       "      <td>Male</td>\n",
       "      <td>1-2 Year</td>\n",
       "      <td>Yes</td>\n",
       "    </tr>\n",
       "    <tr>\n",
       "      <th>freq</th>\n",
       "      <td>206089</td>\n",
       "      <td>200316</td>\n",
       "      <td>192413</td>\n",
       "    </tr>\n",
       "  </tbody>\n",
       "</table>\n",
       "</div>"
      ],
      "text/plain": [
       "        Gender Vehicle_Age Vehicle_Damage\n",
       "count   381109      381109         381109\n",
       "unique       2           3              2\n",
       "top       Male    1-2 Year            Yes\n",
       "freq    206089      200316         192413"
      ]
     },
     "execution_count": 9,
     "metadata": {},
     "output_type": "execute_result"
    }
   ],
   "source": [
    "data[categorical].describe()"
   ]
  },
  {
   "cell_type": "code",
   "execution_count": 10,
   "id": "f33ece81",
   "metadata": {
    "id": "f33ece81",
    "outputId": "aed039d1-72f2-4552-d82a-f5680f5dc938"
   },
   "outputs": [
    {
     "data": {
      "text/plain": [
       "Male      206089\n",
       "Female    175020\n",
       "Name: Gender, dtype: int64"
      ]
     },
     "execution_count": 10,
     "metadata": {},
     "output_type": "execute_result"
    }
   ],
   "source": [
    "data['Gender'].value_counts()"
   ]
  },
  {
   "cell_type": "code",
   "execution_count": 11,
   "id": "9ad25e71",
   "metadata": {
    "id": "9ad25e71",
    "outputId": "0d919edc-dfc5-489d-9871-e57bc22063dc"
   },
   "outputs": [
    {
     "data": {
      "text/plain": [
       "28.0    106415\n",
       "8.0      33877\n",
       "46.0     19749\n",
       "41.0     18263\n",
       "15.0     13308\n",
       "30.0     12191\n",
       "29.0     11065\n",
       "50.0     10243\n",
       "3.0       9251\n",
       "11.0      9232\n",
       "36.0      8797\n",
       "33.0      7654\n",
       "47.0      7436\n",
       "35.0      6942\n",
       "6.0       6280\n",
       "45.0      5605\n",
       "37.0      5501\n",
       "18.0      5153\n",
       "48.0      4681\n",
       "14.0      4678\n",
       "39.0      4644\n",
       "10.0      4374\n",
       "21.0      4266\n",
       "2.0       4038\n",
       "13.0      4036\n",
       "7.0       3279\n",
       "12.0      3198\n",
       "9.0       3101\n",
       "27.0      2823\n",
       "32.0      2787\n",
       "43.0      2639\n",
       "17.0      2617\n",
       "26.0      2587\n",
       "25.0      2503\n",
       "24.0      2415\n",
       "38.0      2026\n",
       "0.0       2021\n",
       "16.0      2007\n",
       "31.0      1960\n",
       "23.0      1960\n",
       "20.0      1935\n",
       "49.0      1832\n",
       "4.0       1801\n",
       "34.0      1664\n",
       "19.0      1535\n",
       "22.0      1309\n",
       "40.0      1295\n",
       "5.0       1279\n",
       "1.0       1008\n",
       "44.0       808\n",
       "42.0       591\n",
       "52.0       267\n",
       "51.0       183\n",
       "Name: Region_Code, dtype: int64"
      ]
     },
     "execution_count": 11,
     "metadata": {},
     "output_type": "execute_result"
    }
   ],
   "source": [
    "data['Region_Code'].value_counts()"
   ]
  },
  {
   "cell_type": "code",
   "execution_count": 12,
   "id": "229de53d",
   "metadata": {
    "id": "229de53d",
    "outputId": "c14f719c-8bc5-430f-f83e-5d78923d680e"
   },
   "outputs": [
    {
     "data": {
      "text/plain": [
       "1    380297\n",
       "0       812\n",
       "Name: Driving_License, dtype: int64"
      ]
     },
     "execution_count": 12,
     "metadata": {},
     "output_type": "execute_result"
    }
   ],
   "source": [
    "data['Driving_License'].value_counts()"
   ]
  },
  {
   "cell_type": "code",
   "execution_count": 13,
   "id": "5264eb5f",
   "metadata": {
    "id": "5264eb5f",
    "outputId": "162c435d-7b3f-4afe-bf01-f55f788fc9f8"
   },
   "outputs": [
    {
     "data": {
      "text/plain": [
       "1-2 Year     200316\n",
       "< 1 Year     164786\n",
       "> 2 Years     16007\n",
       "Name: Vehicle_Age, dtype: int64"
      ]
     },
     "execution_count": 13,
     "metadata": {},
     "output_type": "execute_result"
    }
   ],
   "source": [
    "data['Vehicle_Age'].value_counts()"
   ]
  },
  {
   "cell_type": "code",
   "execution_count": 14,
   "id": "d7fee567",
   "metadata": {
    "id": "d7fee567",
    "outputId": "47a5ac08-062d-4159-f408-0f0ebb31540e"
   },
   "outputs": [
    {
     "data": {
      "text/plain": [
       "0    206481\n",
       "1    174628\n",
       "Name: Previously_Insured, dtype: int64"
      ]
     },
     "execution_count": 14,
     "metadata": {},
     "output_type": "execute_result"
    }
   ],
   "source": [
    "data['Previously_Insured'].value_counts()"
   ]
  },
  {
   "cell_type": "code",
   "execution_count": 15,
   "id": "bb843362",
   "metadata": {
    "id": "bb843362",
    "outputId": "f4c516d1-e474-4bcb-c731-5c20fe4ccd80"
   },
   "outputs": [
    {
     "data": {
      "text/plain": [
       "Yes    192413\n",
       "No     188696\n",
       "Name: Vehicle_Damage, dtype: int64"
      ]
     },
     "execution_count": 15,
     "metadata": {},
     "output_type": "execute_result"
    }
   ],
   "source": [
    "data['Vehicle_Damage'].value_counts()"
   ]
  },
  {
   "cell_type": "code",
   "execution_count": 16,
   "id": "65e46b01",
   "metadata": {
    "id": "65e46b01",
    "outputId": "c3b65bbf-67b7-4b3e-c592-b0f0d78f2bb6"
   },
   "outputs": [
    {
     "data": {
      "text/plain": [
       "152.0    134784\n",
       "26.0      79700\n",
       "124.0     73995\n",
       "160.0     21779\n",
       "156.0     10661\n",
       "          ...  \n",
       "149.0         1\n",
       "43.0          1\n",
       "144.0         1\n",
       "143.0         1\n",
       "41.0          1\n",
       "Name: Policy_Sales_Channel, Length: 155, dtype: int64"
      ]
     },
     "execution_count": 16,
     "metadata": {},
     "output_type": "execute_result"
    }
   ],
   "source": [
    "data['Policy_Sales_Channel'].value_counts()"
   ]
  },
  {
   "cell_type": "code",
   "execution_count": 17,
   "id": "7e699808",
   "metadata": {
    "id": "7e699808",
    "outputId": "20a05781-62a1-4682-8415-a0a9df960ea5"
   },
   "outputs": [
    {
     "data": {
      "text/plain": [
       "0    334399\n",
       "1     46710\n",
       "Name: Response, dtype: int64"
      ]
     },
     "execution_count": 17,
     "metadata": {},
     "output_type": "execute_result"
    }
   ],
   "source": [
    "data['Response'].value_counts()"
   ]
  },
  {
   "cell_type": "markdown",
   "id": "f0b5aa41",
   "metadata": {
    "id": "f0b5aa41"
   },
   "source": [
    "### Interpretasi:"
   ]
  },
  {
   "cell_type": "markdown",
   "id": "98e55e96",
   "metadata": {
    "id": "98e55e96"
   },
   "source": [
    "Berdasarkan data di atas,\n",
    "\n",
    "- Semua tipe data setiap kolom sudah sesuai\n",
    "- Tidak ada kolom yang memiliki missing values\n",
    "- Terdapat data numerical yang berbeda jauh antara nilai min/max dengan mean nya yaitu `Age`, `Annual_Premium` dan `Vintage`.\n",
    "\n",
    "    - Untuk data Age, nilai min = 20.00, max = 85.00 dan mean = 38.82.\n",
    "    - Untuk data Annual_Premium, nilai min = 2630.00, max = 540165.00, dan mean = 30564.38\n",
    "    - Untuk data Vintage, nilai min = 10.00, max = 299.00, dan mean = 154.34\n",
    "    \n",
    "   Sedangkan untuk data categorical, data dengan frekuensi yang timpang adalah `Vehicle_Age`, yaitu `1-2 Year` sebanyak `200316` dengan `2 Years` sebanyak      `16007`\n",
    "   Pada categorical_int, juga terdapat data dengan frekuensi yang timpang : `Region_Code` dengan kode `28` dan `Policy_Sales_Channel` dengan kode `152.0`\n",
    "- Target output: response"
   ]
  },
  {
   "cell_type": "markdown",
   "id": "8e1a1517",
   "metadata": {
    "id": "8e1a1517"
   },
   "source": [
    "### Kesimpulan:"
   ]
  },
  {
   "cell_type": "markdown",
   "id": "9bf829c4",
   "metadata": {
    "id": "9bf829c4"
   },
   "source": [
    "- Semua tipe data pada kolom sudah sesuai dan tidak terdapat missing values sehingga tidak berlu diubah\n",
    "- Terdapat beberapa kolom yang diduga ada keanehan timpang sehingga perlu diolah terlebih dahulu atau tidak digunakan\n",
    "- Target output dari project ini adalah memprediksi respons user apakah tertarik atau tidak untuk mendaftar asuransi kendaraan"
   ]
  },
  {
   "cell_type": "markdown",
   "id": "ad281f40",
   "metadata": {
    "id": "ad281f40"
   },
   "source": [
    "# Exploratory Data Analysis"
   ]
  },
  {
   "cell_type": "markdown",
   "id": "4a14fa94",
   "metadata": {
    "id": "4a14fa94"
   },
   "source": [
    "## Univariate Analysis"
   ]
  },
  {
   "cell_type": "code",
   "execution_count": 19,
   "id": "ff918023",
   "metadata": {
    "id": "ff918023",
    "outputId": "eff51fe0-05ed-472e-e8bf-bde0801a938d"
   },
   "outputs": [
    {
     "data": {
      "text/html": [
       "<div>\n",
       "<style scoped>\n",
       "    .dataframe tbody tr th:only-of-type {\n",
       "        vertical-align: middle;\n",
       "    }\n",
       "\n",
       "    .dataframe tbody tr th {\n",
       "        vertical-align: top;\n",
       "    }\n",
       "\n",
       "    .dataframe thead th {\n",
       "        text-align: right;\n",
       "    }\n",
       "</style>\n",
       "<table border=\"1\" class=\"dataframe\">\n",
       "  <thead>\n",
       "    <tr style=\"text-align: right;\">\n",
       "      <th></th>\n",
       "      <th>id</th>\n",
       "      <th>Gender</th>\n",
       "      <th>Age</th>\n",
       "      <th>Driving_License</th>\n",
       "      <th>Region_Code</th>\n",
       "      <th>Previously_Insured</th>\n",
       "      <th>Vehicle_Age</th>\n",
       "      <th>Vehicle_Damage</th>\n",
       "      <th>Annual_Premium</th>\n",
       "      <th>Policy_Sales_Channel</th>\n",
       "      <th>Vintage</th>\n",
       "      <th>Response</th>\n",
       "    </tr>\n",
       "  </thead>\n",
       "  <tbody>\n",
       "    <tr>\n",
       "      <th>0</th>\n",
       "      <td>1</td>\n",
       "      <td>Male</td>\n",
       "      <td>44</td>\n",
       "      <td>1</td>\n",
       "      <td>28.0</td>\n",
       "      <td>0</td>\n",
       "      <td>&gt; 2 Years</td>\n",
       "      <td>Yes</td>\n",
       "      <td>40454.0</td>\n",
       "      <td>26.0</td>\n",
       "      <td>217</td>\n",
       "      <td>1</td>\n",
       "    </tr>\n",
       "    <tr>\n",
       "      <th>1</th>\n",
       "      <td>2</td>\n",
       "      <td>Male</td>\n",
       "      <td>76</td>\n",
       "      <td>1</td>\n",
       "      <td>3.0</td>\n",
       "      <td>0</td>\n",
       "      <td>1-2 Year</td>\n",
       "      <td>No</td>\n",
       "      <td>33536.0</td>\n",
       "      <td>26.0</td>\n",
       "      <td>183</td>\n",
       "      <td>0</td>\n",
       "    </tr>\n",
       "    <tr>\n",
       "      <th>2</th>\n",
       "      <td>3</td>\n",
       "      <td>Male</td>\n",
       "      <td>47</td>\n",
       "      <td>1</td>\n",
       "      <td>28.0</td>\n",
       "      <td>0</td>\n",
       "      <td>&gt; 2 Years</td>\n",
       "      <td>Yes</td>\n",
       "      <td>38294.0</td>\n",
       "      <td>26.0</td>\n",
       "      <td>27</td>\n",
       "      <td>1</td>\n",
       "    </tr>\n",
       "    <tr>\n",
       "      <th>3</th>\n",
       "      <td>4</td>\n",
       "      <td>Male</td>\n",
       "      <td>21</td>\n",
       "      <td>1</td>\n",
       "      <td>11.0</td>\n",
       "      <td>1</td>\n",
       "      <td>&lt; 1 Year</td>\n",
       "      <td>No</td>\n",
       "      <td>28619.0</td>\n",
       "      <td>152.0</td>\n",
       "      <td>203</td>\n",
       "      <td>0</td>\n",
       "    </tr>\n",
       "    <tr>\n",
       "      <th>4</th>\n",
       "      <td>5</td>\n",
       "      <td>Female</td>\n",
       "      <td>29</td>\n",
       "      <td>1</td>\n",
       "      <td>41.0</td>\n",
       "      <td>1</td>\n",
       "      <td>&lt; 1 Year</td>\n",
       "      <td>No</td>\n",
       "      <td>27496.0</td>\n",
       "      <td>152.0</td>\n",
       "      <td>39</td>\n",
       "      <td>0</td>\n",
       "    </tr>\n",
       "  </tbody>\n",
       "</table>\n",
       "</div>"
      ],
      "text/plain": [
       "   id  Gender  Age  Driving_License  Region_Code  Previously_Insured  \\\n",
       "0   1    Male   44                1         28.0                   0   \n",
       "1   2    Male   76                1          3.0                   0   \n",
       "2   3    Male   47                1         28.0                   0   \n",
       "3   4    Male   21                1         11.0                   1   \n",
       "4   5  Female   29                1         41.0                   1   \n",
       "\n",
       "  Vehicle_Age Vehicle_Damage  Annual_Premium  Policy_Sales_Channel  Vintage  \\\n",
       "0   > 2 Years            Yes         40454.0                  26.0      217   \n",
       "1    1-2 Year             No         33536.0                  26.0      183   \n",
       "2   > 2 Years            Yes         38294.0                  26.0       27   \n",
       "3    < 1 Year             No         28619.0                 152.0      203   \n",
       "4    < 1 Year             No         27496.0                 152.0       39   \n",
       "\n",
       "   Response  \n",
       "0         1  \n",
       "1         0  \n",
       "2         1  \n",
       "3         0  \n",
       "4         0  "
      ]
     },
     "execution_count": 19,
     "metadata": {},
     "output_type": "execute_result"
    }
   ],
   "source": [
    "asurance = pd.read_csv('Insurance_dataset.csv')\n",
    "asurance.head()"
   ]
  },
  {
   "cell_type": "code",
   "execution_count": 20,
   "id": "5ee35a0a",
   "metadata": {
    "id": "5ee35a0a"
   },
   "outputs": [],
   "source": [
    "numericals = ['Age', 'Region_Code', 'Annual_Premium', 'Policy_Sales_Channel', 'Vintage']\n",
    "categoricals = ['Gender', 'Vehicle_Damage', 'Vehicle_Age', 'Driving_License', 'Previously_Insured', 'Response']"
   ]
  },
  {
   "cell_type": "markdown",
   "id": "2b119bf3",
   "metadata": {
    "id": "2b119bf3"
   },
   "source": [
    "# Individuals Boxplots (Numericals)"
   ]
  },
  {
   "cell_type": "code",
   "execution_count": 21,
   "id": "4794c01d",
   "metadata": {
    "id": "4794c01d",
    "outputId": "4f72b303-23ab-45ea-bd51-41ba56b730a8"
   },
   "outputs": [
    {
     "data": {
      "image/png": "[encoded data removed]",
      "text/plain": [
       "<Figure size 720x288 with 5 Axes>"
      ]
     },
     "metadata": {
      "needs_background": "light"
     },
     "output_type": "display_data"
    }
   ],
   "source": [
    "features = numericals\n",
    "plt.figure(figsize=(10, 4))\n",
    "for i in range(0, len(features)):\n",
    "    plt.subplot(1, len(features), i+1)\n",
    "    sns.boxplot(y=asurance[features[i]], color='green', orient ='v')\n",
    "    plt.tight_layout()"
   ]
  },
  {
   "cell_type": "markdown",
   "id": "a9f9f88e",
   "metadata": {
    "id": "a9f9f88e"
   },
   "source": [
    "Berdasarkan plot diatas, untuk outlier terdapat pada varibel Annual_Premium, sehingga untuk langkah selanjutkan untuk mengatasi outlier ini."
   ]
  },
  {
   "cell_type": "markdown",
   "id": "bbf1c37a",
   "metadata": {
    "id": "bbf1c37a"
   },
   "source": [
    "# Individual Displot (Numericals)"
   ]
  },
  {
   "cell_type": "code",
   "execution_count": 22,
   "id": "6e3490c0",
   "metadata": {
    "id": "6e3490c0",
    "outputId": "688ecfe4-c5c2-4e13-ef9b-fd2689227238"
   },
   "outputs": [
    {
     "data": {
      "image/png": "[encoded data removed]",
      "text/plain": [
       "<Figure size 1800x720 with 5 Axes>"
      ]
     },
     "metadata": {
      "needs_background": "light"
     },
     "output_type": "display_data"
    }
   ],
   "source": [
    "features = numericals\n",
    "plt.figure(figsize=(25, 10))\n",
    "for i in range(0, len(features)):\n",
    "    plt.subplot(2, 4, i+1)\n",
    "    sns.kdeplot(x=asurance[features[i]], color='green')\n",
    "    plt.xlabel(features[i])\n",
    "    plt.tight_layout()"
   ]
  },
  {
   "cell_type": "markdown",
   "id": "c6ab9e20",
   "metadata": {
    "id": "c6ab9e20"
   },
   "source": [
    "1. Pada data numerical tidak ada data yang berdistribusi normal.\n",
    "2. Variabel Age dan annual_pemium memiliki distribusi skew positif, sedangkan vintage berdistribusi uniform Sehingga proses selanjutnya perlu dilakukan transformasi agar data nya berdistribusi normal."
   ]
  },
  {
   "cell_type": "markdown",
   "id": "be0ac7b4",
   "metadata": {
    "id": "be0ac7b4"
   },
   "source": [
    "#  Countplot Categorical"
   ]
  },
  {
   "cell_type": "code",
   "execution_count": 23,
   "id": "eedab281",
   "metadata": {
    "id": "eedab281",
    "outputId": "dc356b06-bd69-4fda-dd75-0afa3cb28f53"
   },
   "outputs": [
    {
     "data": {
      "image/png": "[encoded data removed]",
      "text/plain": [
       "<Figure size 1800x504 with 6 Axes>"
      ]
     },
     "metadata": {
      "needs_background": "light"
     },
     "output_type": "display_data"
    }
   ],
   "source": [
    "features = categoricals\n",
    "plt.figure(figsize=(25, 7))\n",
    "for i in range(0, len(features)):\n",
    "    plt.subplot(1, len(features), i+1)\n",
    "    sns.countplot(x=asurance[features[i]], color='green')\n",
    "    plt.tight_layout()"
   ]
  },
  {
   "cell_type": "markdown",
   "id": "1a288adb",
   "metadata": {
    "id": "1a288adb"
   },
   "source": [
    "Berdasarkan plot diatas, untuk distribusi response mayoritas customer merespon tidak tertarik (0). pada variabel umur kendaraan (Vehicle_Age) mayoritas < 1 tahun dan 1-2 tahun. kemudian mayoritas customer memiliki surat ijin mengemudi (Driving_License). untuk variabel Vehicle_Age dan Driving_License, perlu diperhatikan dalam langkah selanjutnya karena datanya imbalance"
   ]
  },
  {
   "cell_type": "markdown",
   "id": "86c661ae",
   "metadata": {
    "id": "86c661ae"
   },
   "source": [
    "## Multivarate Analysis"
   ]
  },
  {
   "cell_type": "code",
   "execution_count": 24,
   "id": "d55f1118",
   "metadata": {
    "id": "d55f1118",
    "outputId": "8ebe182b-60a5-4445-e6e8-54a02612aa5c"
   },
   "outputs": [
    {
     "data": {
      "text/html": [
       "<div>\n",
       "<style scoped>\n",
       "    .dataframe tbody tr th:only-of-type {\n",
       "        vertical-align: middle;\n",
       "    }\n",
       "\n",
       "    .dataframe tbody tr th {\n",
       "        vertical-align: top;\n",
       "    }\n",
       "\n",
       "    .dataframe thead th {\n",
       "        text-align: right;\n",
       "    }\n",
       "</style>\n",
       "<table border=\"1\" class=\"dataframe\">\n",
       "  <thead>\n",
       "    <tr style=\"text-align: right;\">\n",
       "      <th></th>\n",
       "      <th>id</th>\n",
       "      <th>Gender</th>\n",
       "      <th>Age</th>\n",
       "      <th>Driving_License</th>\n",
       "      <th>Region_Code</th>\n",
       "      <th>Previously_Insured</th>\n",
       "      <th>Vehicle_Age</th>\n",
       "      <th>Vehicle_Damage</th>\n",
       "      <th>Annual_Premium</th>\n",
       "      <th>Policy_Sales_Channel</th>\n",
       "      <th>Vintage</th>\n",
       "      <th>Response</th>\n",
       "    </tr>\n",
       "  </thead>\n",
       "  <tbody>\n",
       "    <tr>\n",
       "      <th>0</th>\n",
       "      <td>1</td>\n",
       "      <td>1</td>\n",
       "      <td>44</td>\n",
       "      <td>1</td>\n",
       "      <td>28.0</td>\n",
       "      <td>0</td>\n",
       "      <td>2</td>\n",
       "      <td>1</td>\n",
       "      <td>40454.0</td>\n",
       "      <td>26.0</td>\n",
       "      <td>217</td>\n",
       "      <td>1</td>\n",
       "    </tr>\n",
       "    <tr>\n",
       "      <th>1</th>\n",
       "      <td>2</td>\n",
       "      <td>1</td>\n",
       "      <td>76</td>\n",
       "      <td>1</td>\n",
       "      <td>3.0</td>\n",
       "      <td>0</td>\n",
       "      <td>1</td>\n",
       "      <td>0</td>\n",
       "      <td>33536.0</td>\n",
       "      <td>26.0</td>\n",
       "      <td>183</td>\n",
       "      <td>0</td>\n",
       "    </tr>\n",
       "    <tr>\n",
       "      <th>2</th>\n",
       "      <td>3</td>\n",
       "      <td>1</td>\n",
       "      <td>47</td>\n",
       "      <td>1</td>\n",
       "      <td>28.0</td>\n",
       "      <td>0</td>\n",
       "      <td>2</td>\n",
       "      <td>1</td>\n",
       "      <td>38294.0</td>\n",
       "      <td>26.0</td>\n",
       "      <td>27</td>\n",
       "      <td>1</td>\n",
       "    </tr>\n",
       "    <tr>\n",
       "      <th>3</th>\n",
       "      <td>4</td>\n",
       "      <td>1</td>\n",
       "      <td>21</td>\n",
       "      <td>1</td>\n",
       "      <td>11.0</td>\n",
       "      <td>1</td>\n",
       "      <td>0</td>\n",
       "      <td>0</td>\n",
       "      <td>28619.0</td>\n",
       "      <td>152.0</td>\n",
       "      <td>203</td>\n",
       "      <td>0</td>\n",
       "    </tr>\n",
       "    <tr>\n",
       "      <th>4</th>\n",
       "      <td>5</td>\n",
       "      <td>0</td>\n",
       "      <td>29</td>\n",
       "      <td>1</td>\n",
       "      <td>41.0</td>\n",
       "      <td>1</td>\n",
       "      <td>0</td>\n",
       "      <td>0</td>\n",
       "      <td>27496.0</td>\n",
       "      <td>152.0</td>\n",
       "      <td>39</td>\n",
       "      <td>0</td>\n",
       "    </tr>\n",
       "  </tbody>\n",
       "</table>\n",
       "</div>"
      ],
      "text/plain": [
       "   id Gender  Age  Driving_License  Region_Code  Previously_Insured  \\\n",
       "0   1      1   44                1         28.0                   0   \n",
       "1   2      1   76                1          3.0                   0   \n",
       "2   3      1   47                1         28.0                   0   \n",
       "3   4      1   21                1         11.0                   1   \n",
       "4   5      0   29                1         41.0                   1   \n",
       "\n",
       "  Vehicle_Age Vehicle_Damage  Annual_Premium  Policy_Sales_Channel  Vintage  \\\n",
       "0           2              1         40454.0                  26.0      217   \n",
       "1           1              0         33536.0                  26.0      183   \n",
       "2           2              1         38294.0                  26.0       27   \n",
       "3           0              0         28619.0                 152.0      203   \n",
       "4           0              0         27496.0                 152.0       39   \n",
       "\n",
       "   Response  \n",
       "0         1  \n",
       "1         0  \n",
       "2         1  \n",
       "3         0  \n",
       "4         0  "
      ]
     },
     "execution_count": 24,
     "metadata": {},
     "output_type": "execute_result"
    }
   ],
   "source": [
    "data.loc[data['Gender'] == 'Male', 'Gender'] = 1 \n",
    "data.loc[data['Gender'] == 'Female', 'Gender'] = 0\n",
    "\n",
    "data.loc[data['Vehicle_Age'] == '> 2 Years', 'Vehicle_Age'] = 2 \n",
    "data.loc[data['Vehicle_Age'] == '1-2 Year', 'Vehicle_Age'] = 1 \n",
    "data.loc[data['Vehicle_Age'] == '< 1 Year', 'Vehicle_Age'] = 0 \n",
    "\n",
    "data.loc[data['Vehicle_Damage'] == 'Yes', 'Vehicle_Damage'] = 1 \n",
    "data.loc[data['Vehicle_Damage'] == 'No', 'Vehicle_Damage'] = 0\n",
    "\n",
    "data.head()"
   ]
  },
  {
   "cell_type": "code",
   "execution_count": 25,
   "id": "46b183f5",
   "metadata": {
    "id": "46b183f5",
    "outputId": "063aa94e-be11-4174-d2b4-a5bf6361fc4a"
   },
   "outputs": [
    {
     "data": {
      "text/html": [
       "<div>\n",
       "<style scoped>\n",
       "    .dataframe tbody tr th:only-of-type {\n",
       "        vertical-align: middle;\n",
       "    }\n",
       "\n",
       "    .dataframe tbody tr th {\n",
       "        vertical-align: top;\n",
       "    }\n",
       "\n",
       "    .dataframe thead th {\n",
       "        text-align: right;\n",
       "    }\n",
       "</style>\n",
       "<table border=\"1\" class=\"dataframe\">\n",
       "  <thead>\n",
       "    <tr style=\"text-align: right;\">\n",
       "      <th></th>\n",
       "      <th>id</th>\n",
       "      <th>Gender</th>\n",
       "      <th>Age</th>\n",
       "      <th>Driving_License</th>\n",
       "      <th>Region_Code</th>\n",
       "      <th>Previously_Insured</th>\n",
       "      <th>Vehicle_Age</th>\n",
       "      <th>Vehicle_Damage</th>\n",
       "      <th>Annual_Premium</th>\n",
       "      <th>Policy_Sales_Channel</th>\n",
       "      <th>Vintage</th>\n",
       "      <th>Response</th>\n",
       "    </tr>\n",
       "  </thead>\n",
       "  <tbody>\n",
       "    <tr>\n",
       "      <th>0</th>\n",
       "      <td>1</td>\n",
       "      <td>1</td>\n",
       "      <td>44</td>\n",
       "      <td>1</td>\n",
       "      <td>28</td>\n",
       "      <td>0</td>\n",
       "      <td>2</td>\n",
       "      <td>1</td>\n",
       "      <td>40454</td>\n",
       "      <td>26</td>\n",
       "      <td>217</td>\n",
       "      <td>1</td>\n",
       "    </tr>\n",
       "    <tr>\n",
       "      <th>1</th>\n",
       "      <td>2</td>\n",
       "      <td>1</td>\n",
       "      <td>76</td>\n",
       "      <td>1</td>\n",
       "      <td>3</td>\n",
       "      <td>0</td>\n",
       "      <td>1</td>\n",
       "      <td>0</td>\n",
       "      <td>33536</td>\n",
       "      <td>26</td>\n",
       "      <td>183</td>\n",
       "      <td>0</td>\n",
       "    </tr>\n",
       "    <tr>\n",
       "      <th>2</th>\n",
       "      <td>3</td>\n",
       "      <td>1</td>\n",
       "      <td>47</td>\n",
       "      <td>1</td>\n",
       "      <td>28</td>\n",
       "      <td>0</td>\n",
       "      <td>2</td>\n",
       "      <td>1</td>\n",
       "      <td>38294</td>\n",
       "      <td>26</td>\n",
       "      <td>27</td>\n",
       "      <td>1</td>\n",
       "    </tr>\n",
       "    <tr>\n",
       "      <th>3</th>\n",
       "      <td>4</td>\n",
       "      <td>1</td>\n",
       "      <td>21</td>\n",
       "      <td>1</td>\n",
       "      <td>11</td>\n",
       "      <td>1</td>\n",
       "      <td>0</td>\n",
       "      <td>0</td>\n",
       "      <td>28619</td>\n",
       "      <td>152</td>\n",
       "      <td>203</td>\n",
       "      <td>0</td>\n",
       "    </tr>\n",
       "    <tr>\n",
       "      <th>4</th>\n",
       "      <td>5</td>\n",
       "      <td>0</td>\n",
       "      <td>29</td>\n",
       "      <td>1</td>\n",
       "      <td>41</td>\n",
       "      <td>1</td>\n",
       "      <td>0</td>\n",
       "      <td>0</td>\n",
       "      <td>27496</td>\n",
       "      <td>152</td>\n",
       "      <td>39</td>\n",
       "      <td>0</td>\n",
       "    </tr>\n",
       "  </tbody>\n",
       "</table>\n",
       "</div>"
      ],
      "text/plain": [
       "   id  Gender  Age  Driving_License  Region_Code  Previously_Insured  \\\n",
       "0   1       1   44                1           28                   0   \n",
       "1   2       1   76                1            3                   0   \n",
       "2   3       1   47                1           28                   0   \n",
       "3   4       1   21                1           11                   1   \n",
       "4   5       0   29                1           41                   1   \n",
       "\n",
       "   Vehicle_Age  Vehicle_Damage  Annual_Premium  Policy_Sales_Channel  Vintage  \\\n",
       "0            2               1           40454                    26      217   \n",
       "1            1               0           33536                    26      183   \n",
       "2            2               1           38294                    26       27   \n",
       "3            0               0           28619                   152      203   \n",
       "4            0               0           27496                   152       39   \n",
       "\n",
       "   Response  \n",
       "0         1  \n",
       "1         0  \n",
       "2         1  \n",
       "3         0  \n",
       "4         0  "
      ]
     },
     "execution_count": 25,
     "metadata": {},
     "output_type": "execute_result"
    }
   ],
   "source": [
    "for col in data.columns:\n",
    "    data[col] = data[col].astype(np.int32)\n",
    "\n",
    "data.head()"
   ]
  },
  {
   "cell_type": "code",
   "execution_count": 26,
   "id": "05417e51",
   "metadata": {
    "id": "05417e51",
    "outputId": "66ab9758-dab7-483d-d1db-a92afb06d6ec"
   },
   "outputs": [
    {
     "data": {
      "text/plain": [
       "<AxesSubplot:>"
      ]
     },
     "execution_count": 26,
     "metadata": {},
     "output_type": "execute_result"
    },
    {
     "data": {
      "image/png": "[encoded data removed]",
      "text/plain": [
       "<Figure size 720x576 with 2 Axes>"
      ]
     },
     "metadata": {
      "needs_background": "light"
     },
     "output_type": "display_data"
    }
   ],
   "source": [
    "plt.figure(figsize=(10,8))\n",
    "sns.heatmap(data.corr(), cmap='Blues', annot=True, fmt='.1f')"
   ]
  },
  {
   "cell_type": "markdown",
   "id": "b002ab3f",
   "metadata": {
    "id": "b002ab3f"
   },
   "source": [
    "**Hasil Observasi untuk point A**\n",
    "\n",
    "Berdasarkan heatmap chart diatas, terdapat beberapa feature yang memiliki korelasi dengan label yaitu feature previously_insured, vehicle damage dan policy_sales_channel dimana keterkaitan antara feature dengan label dijabarkan dalam pemaparan beriikut:\n",
    "\n",
    "1) Ada kaitan yang cukup kuat antara feature previously_insured dengan label. Dimana semakin besar nilai previously_insured maka semakin kecil pula nilai label nya. Sehingga feature ini tetap perlu dipertahankan.\n",
    "\n",
    "2) Feature vehicle damage memiliki kaitan yang lumayan kuat dengan label. Dimana feature ini memiliki nilai korelasi sebesar 0.4 (mendekati 0.7). Feature ini dapat dipertahankan untuk pembuatan model.\n",
    "\n",
    "3) Feature policy_sales_channel memiliki korelasi dengan label. Walaupun nilai korelasi anntara feature dengan label ini tidak sebesar feature lainnya. Namun feature ini dapat tetap dipertahankan karena in real life, sales channel dapat mempengaruhi keputusan nasabah untuk tergabung dengan program baru yang ditawarkan."
   ]
  },
  {
   "cell_type": "markdown",
   "id": "9aea66ed",
   "metadata": {
    "id": "9aea66ed"
   },
   "source": [
    "**Hasil Observasi Point B**\n",
    "\n",
    "1) Terdapat korelasi yang cukup kuat antara featured previoulsy insured dengan feature vehicle damage dengan nilai -0.8. Nilai korelasi dari 2 feature ini tidak searah (berbanding terbalik) yang mana semakin besar / banyak nilai previously insured nya maka semakin kecil nilai vehicle damage.\n",
    "\n",
    "2) Terdapat korelasi yang cukup kuat antara featured policy_sales_channel dengan feature age dengan nilai -0.6. Nilai korelasi dari 2 feature ini tidak searah (berbanding terbalik) yang mana semakin besar / banyak nilai policy_sales_channel nya maka semakin kecil nilai age nya.\n",
    "\n",
    "3) Terdapat korelasi yang cukup kuat antara featured vehicle_age dengan featured policy_sales_channel dengan nilai -0.6. Nilai korelasi dari 2 feature ini tidak searah (berbanding terbalik) yang mana semakin besar / banyak nilai vehicle_age nya maka semakin kecil nilai policy_sales_channel nya.\n",
    "\n",
    "4) Terdapat korelasi yang cukup kuat antara featured response dengan featured previously_insured dengan nilai -0.3. Nilai korelasi dari 2 feature ini tidak searah (berbanding terbalik) yang mana semakin besar / banyak nilai response nya maka semakin kecil nilai previously_insured nya.\n",
    "\n",
    "5) Terdapat korelasi yang lemah antara featured vehicle_age dengan featured previously_insured dengan nilai -0.4. Nilai korelasi dari 2 feaature ini tidak searah (berbanding terbalik) yang mana semakin besar / banyak nilai vehicle_age nya maka semakin kecil nilai previously_insured nya.\n",
    "\n",
    "6) Terdapat korelasi yang lemah antara featured previously_insured dengan featured age dengan nilai -0.3. Nilai korelasi dari 2 feature ini tidak searah (berbanding terbalik) yang mana semakin besar / banyak nilai previously_insured nya maka semakin kecil nilai age nya."
   ]
  },
  {
   "cell_type": "code",
   "execution_count": 27,
   "id": "134af654",
   "metadata": {
    "id": "134af654",
    "outputId": "dbc1a45d-65d8-4735-8be8-c2e2492f599c"
   },
   "outputs": [
    {
     "data": {
      "image/png": "[encoded data removed]",
      "text/plain": [
       "<Figure size 1296x1296 with 1 Axes>"
      ]
     },
     "metadata": {
      "needs_background": "light"
     },
     "output_type": "display_data"
    },
    {
     "data": {
      "image/png": "[encoded data removed]",
      "text/plain": [
       "<Figure size 432x288 with 1 Axes>"
      ]
     },
     "metadata": {
      "needs_background": "light"
     },
     "output_type": "display_data"
    },
    {
     "data": {
      "image/png": "[encoded data removed]",
      "text/plain": [
       "<Figure size 432x288 with 1 Axes>"
      ]
     },
     "metadata": {
      "needs_background": "light"
     },
     "output_type": "display_data"
    },
    {
     "data": {
      "image/png": "[encoded data removed]",
      "text/plain": [
       "<Figure size 432x288 with 1 Axes>"
      ]
     },
     "metadata": {
      "needs_background": "light"
     },
     "output_type": "display_data"
    },
    {
     "data": {
      "image/png": "[encoded data removed]",
      "text/plain": [
       "<Figure size 432x288 with 1 Axes>"
      ]
     },
     "metadata": {
      "needs_background": "light"
     },
     "output_type": "display_data"
    },
    {
     "data": {
      "image/png": "[encoded data removed]",
      "text/plain": [
       "<Figure size 432x288 with 1 Axes>"
      ]
     },
     "metadata": {
      "needs_background": "light"
     },
     "output_type": "display_data"
    }
   ],
   "source": [
    "plt.figure(figsize=(18,18))\n",
    "numerical = ['Age', 'Annual_Premium', 'Vintage']\n",
    "categorical = ['Gender', 'Vehicle_Age', 'Vehicle_Damage','Driving_License', 'Region_Code', 'Previously_Insured', 'Policy_Sales_Channel', 'Response']\n",
    "\n",
    "categorical.remove('Region_Code')\n",
    "categorical.remove('Policy_Sales_Channel')\n",
    "features = categorical\n",
    "for i in range(0, len(features)):\n",
    "    plt.subplot(3, 8, i+1) \n",
    "    sns.barplot(data=data, x='Response', y=features[i], hue = 'Response')\n",
    "    plt.show()"
   ]
  },
  {
   "cell_type": "markdown",
   "id": "-qq_IER_PNP3",
   "metadata": {
    "id": "-qq_IER_PNP3"
   },
   "source": [
    "**Interpretasi**\n",
    "\n",
    "Berdasarkan plot diatas, untuk distribusi response mayoritas customer merespon tidak tertarik (0). pada variabel umur kendaraan (Vehicle_Age) mayoritas < 1 tahun dan 1-2 tahun. kemudian mayoritas customer memiliki surat izin mengemudi (Driving_License). untuk variabel Vehicle_Age dan Driving_License, perlu diperhatikan dalam langkah selanjutnya karena datanya imbalance"
   ]
  },
  {
   "cell_type": "markdown",
   "id": "75f8a6fd",
   "metadata": {
    "id": "75f8a6fd"
   },
   "source": [
    "# Analisa, Visualisasi, dan Insight"
   ]
  },
  {
   "cell_type": "markdown",
   "id": "fc561753",
   "metadata": {
    "id": "fc561753"
   },
   "source": [
    "## Gender"
   ]
  },
  {
   "cell_type": "code",
   "execution_count": 29,
   "id": "3c5e6b76",
   "metadata": {
    "id": "3c5e6b76",
    "outputId": "03a75a04-5521-4da7-b19f-9fe4fbaac5dc"
   },
   "outputs": [
    {
     "data": {
      "text/html": [
       "<div>\n",
       "<style scoped>\n",
       "    .dataframe tbody tr th:only-of-type {\n",
       "        vertical-align: middle;\n",
       "    }\n",
       "\n",
       "    .dataframe tbody tr th {\n",
       "        vertical-align: top;\n",
       "    }\n",
       "\n",
       "    .dataframe thead th {\n",
       "        text-align: right;\n",
       "    }\n",
       "</style>\n",
       "<table border=\"1\" class=\"dataframe\">\n",
       "  <thead>\n",
       "    <tr style=\"text-align: right;\">\n",
       "      <th></th>\n",
       "      <th>id</th>\n",
       "      <th>Gender</th>\n",
       "      <th>Age</th>\n",
       "      <th>Driving_License</th>\n",
       "      <th>Region_Code</th>\n",
       "      <th>Previously_Insured</th>\n",
       "      <th>Vehicle_Age</th>\n",
       "      <th>Vehicle_Damage</th>\n",
       "      <th>Annual_Premium</th>\n",
       "      <th>Policy_Sales_Channel</th>\n",
       "      <th>Vintage</th>\n",
       "      <th>Response</th>\n",
       "    </tr>\n",
       "  </thead>\n",
       "  <tbody>\n",
       "    <tr>\n",
       "      <th>0</th>\n",
       "      <td>1</td>\n",
       "      <td>Male</td>\n",
       "      <td>44</td>\n",
       "      <td>1</td>\n",
       "      <td>28.0</td>\n",
       "      <td>0</td>\n",
       "      <td>&gt; 2 Years</td>\n",
       "      <td>Yes</td>\n",
       "      <td>40454.0</td>\n",
       "      <td>26.0</td>\n",
       "      <td>217</td>\n",
       "      <td>1</td>\n",
       "    </tr>\n",
       "    <tr>\n",
       "      <th>1</th>\n",
       "      <td>2</td>\n",
       "      <td>Male</td>\n",
       "      <td>76</td>\n",
       "      <td>1</td>\n",
       "      <td>3.0</td>\n",
       "      <td>0</td>\n",
       "      <td>1-2 Year</td>\n",
       "      <td>No</td>\n",
       "      <td>33536.0</td>\n",
       "      <td>26.0</td>\n",
       "      <td>183</td>\n",
       "      <td>0</td>\n",
       "    </tr>\n",
       "    <tr>\n",
       "      <th>2</th>\n",
       "      <td>3</td>\n",
       "      <td>Male</td>\n",
       "      <td>47</td>\n",
       "      <td>1</td>\n",
       "      <td>28.0</td>\n",
       "      <td>0</td>\n",
       "      <td>&gt; 2 Years</td>\n",
       "      <td>Yes</td>\n",
       "      <td>38294.0</td>\n",
       "      <td>26.0</td>\n",
       "      <td>27</td>\n",
       "      <td>1</td>\n",
       "    </tr>\n",
       "    <tr>\n",
       "      <th>3</th>\n",
       "      <td>4</td>\n",
       "      <td>Male</td>\n",
       "      <td>21</td>\n",
       "      <td>1</td>\n",
       "      <td>11.0</td>\n",
       "      <td>1</td>\n",
       "      <td>&lt; 1 Year</td>\n",
       "      <td>No</td>\n",
       "      <td>28619.0</td>\n",
       "      <td>152.0</td>\n",
       "      <td>203</td>\n",
       "      <td>0</td>\n",
       "    </tr>\n",
       "    <tr>\n",
       "      <th>4</th>\n",
       "      <td>5</td>\n",
       "      <td>Female</td>\n",
       "      <td>29</td>\n",
       "      <td>1</td>\n",
       "      <td>41.0</td>\n",
       "      <td>1</td>\n",
       "      <td>&lt; 1 Year</td>\n",
       "      <td>No</td>\n",
       "      <td>27496.0</td>\n",
       "      <td>152.0</td>\n",
       "      <td>39</td>\n",
       "      <td>0</td>\n",
       "    </tr>\n",
       "  </tbody>\n",
       "</table>\n",
       "</div>"
      ],
      "text/plain": [
       "   id  Gender  Age  Driving_License  Region_Code  Previously_Insured  \\\n",
       "0   1    Male   44                1         28.0                   0   \n",
       "1   2    Male   76                1          3.0                   0   \n",
       "2   3    Male   47                1         28.0                   0   \n",
       "3   4    Male   21                1         11.0                   1   \n",
       "4   5  Female   29                1         41.0                   1   \n",
       "\n",
       "  Vehicle_Age Vehicle_Damage  Annual_Premium  Policy_Sales_Channel  Vintage  \\\n",
       "0   > 2 Years            Yes         40454.0                  26.0      217   \n",
       "1    1-2 Year             No         33536.0                  26.0      183   \n",
       "2   > 2 Years            Yes         38294.0                  26.0       27   \n",
       "3    < 1 Year             No         28619.0                 152.0      203   \n",
       "4    < 1 Year             No         27496.0                 152.0       39   \n",
       "\n",
       "   Response  \n",
       "0         1  \n",
       "1         0  \n",
       "2         1  \n",
       "3         0  \n",
       "4         0  "
      ]
     },
     "execution_count": 29,
     "metadata": {},
     "output_type": "execute_result"
    }
   ],
   "source": [
    "fs = pd.read_csv('Insurance_dataset.csv')\n",
    "fs.head()"
   ]
  },
  {
   "cell_type": "code",
   "execution_count": 30,
   "id": "4aa97b72",
   "metadata": {
    "id": "4aa97b72",
    "outputId": "a08967ba-3c6d-42e9-bad0-b4d491b20739"
   },
   "outputs": [
    {
     "data": {
      "text/html": [
       "<div>\n",
       "<style scoped>\n",
       "    .dataframe tbody tr th:only-of-type {\n",
       "        vertical-align: middle;\n",
       "    }\n",
       "\n",
       "    .dataframe tbody tr th {\n",
       "        vertical-align: top;\n",
       "    }\n",
       "\n",
       "    .dataframe thead th {\n",
       "        text-align: right;\n",
       "    }\n",
       "</style>\n",
       "<table border=\"1\" class=\"dataframe\">\n",
       "  <thead>\n",
       "    <tr style=\"text-align: right;\">\n",
       "      <th></th>\n",
       "      <th>id</th>\n",
       "      <th>Gender</th>\n",
       "      <th>Age</th>\n",
       "      <th>Driving_License</th>\n",
       "      <th>Region_Code</th>\n",
       "      <th>Previously_Insured</th>\n",
       "      <th>Vehicle_Age</th>\n",
       "      <th>Vehicle_Damage</th>\n",
       "      <th>Annual_Premium</th>\n",
       "      <th>Policy_Sales_Channel</th>\n",
       "      <th>Vintage</th>\n",
       "      <th>Response</th>\n",
       "    </tr>\n",
       "  </thead>\n",
       "  <tbody>\n",
       "    <tr>\n",
       "      <th>0</th>\n",
       "      <td>1</td>\n",
       "      <td>Male</td>\n",
       "      <td>44</td>\n",
       "      <td>1</td>\n",
       "      <td>28.0</td>\n",
       "      <td>0</td>\n",
       "      <td>&gt; 2 Years</td>\n",
       "      <td>Yes</td>\n",
       "      <td>40454.0</td>\n",
       "      <td>26.0</td>\n",
       "      <td>217</td>\n",
       "      <td>yes</td>\n",
       "    </tr>\n",
       "    <tr>\n",
       "      <th>1</th>\n",
       "      <td>2</td>\n",
       "      <td>Male</td>\n",
       "      <td>76</td>\n",
       "      <td>1</td>\n",
       "      <td>3.0</td>\n",
       "      <td>0</td>\n",
       "      <td>1-2 Year</td>\n",
       "      <td>No</td>\n",
       "      <td>33536.0</td>\n",
       "      <td>26.0</td>\n",
       "      <td>183</td>\n",
       "      <td>no</td>\n",
       "    </tr>\n",
       "    <tr>\n",
       "      <th>2</th>\n",
       "      <td>3</td>\n",
       "      <td>Male</td>\n",
       "      <td>47</td>\n",
       "      <td>1</td>\n",
       "      <td>28.0</td>\n",
       "      <td>0</td>\n",
       "      <td>&gt; 2 Years</td>\n",
       "      <td>Yes</td>\n",
       "      <td>38294.0</td>\n",
       "      <td>26.0</td>\n",
       "      <td>27</td>\n",
       "      <td>yes</td>\n",
       "    </tr>\n",
       "    <tr>\n",
       "      <th>3</th>\n",
       "      <td>4</td>\n",
       "      <td>Male</td>\n",
       "      <td>21</td>\n",
       "      <td>1</td>\n",
       "      <td>11.0</td>\n",
       "      <td>1</td>\n",
       "      <td>&lt; 1 Year</td>\n",
       "      <td>No</td>\n",
       "      <td>28619.0</td>\n",
       "      <td>152.0</td>\n",
       "      <td>203</td>\n",
       "      <td>no</td>\n",
       "    </tr>\n",
       "    <tr>\n",
       "      <th>4</th>\n",
       "      <td>5</td>\n",
       "      <td>Female</td>\n",
       "      <td>29</td>\n",
       "      <td>1</td>\n",
       "      <td>41.0</td>\n",
       "      <td>1</td>\n",
       "      <td>&lt; 1 Year</td>\n",
       "      <td>No</td>\n",
       "      <td>27496.0</td>\n",
       "      <td>152.0</td>\n",
       "      <td>39</td>\n",
       "      <td>no</td>\n",
       "    </tr>\n",
       "  </tbody>\n",
       "</table>\n",
       "</div>"
      ],
      "text/plain": [
       "   id  Gender  Age  Driving_License  Region_Code  Previously_Insured  \\\n",
       "0   1    Male   44                1         28.0                   0   \n",
       "1   2    Male   76                1          3.0                   0   \n",
       "2   3    Male   47                1         28.0                   0   \n",
       "3   4    Male   21                1         11.0                   1   \n",
       "4   5  Female   29                1         41.0                   1   \n",
       "\n",
       "  Vehicle_Age Vehicle_Damage  Annual_Premium  Policy_Sales_Channel  Vintage  \\\n",
       "0   > 2 Years            Yes         40454.0                  26.0      217   \n",
       "1    1-2 Year             No         33536.0                  26.0      183   \n",
       "2   > 2 Years            Yes         38294.0                  26.0       27   \n",
       "3    < 1 Year             No         28619.0                 152.0      203   \n",
       "4    < 1 Year             No         27496.0                 152.0       39   \n",
       "\n",
       "  Response  \n",
       "0      yes  \n",
       "1       no  \n",
       "2      yes  \n",
       "3       no  \n",
       "4       no  "
      ]
     },
     "execution_count": 30,
     "metadata": {},
     "output_type": "execute_result"
    }
   ],
   "source": [
    "fs = fs.replace({'Response': {1 : 'yes', 0 : 'no'}})\n",
    "fs.head()"
   ]
  },
  {
   "cell_type": "code",
   "execution_count": 31,
   "id": "a3ada27f",
   "metadata": {
    "id": "a3ada27f",
    "outputId": "d1d83c51-79c7-4ddf-f2ec-79e0025db7ee"
   },
   "outputs": [
    {
     "data": {
      "text/html": [
       "<div>\n",
       "<style scoped>\n",
       "    .dataframe tbody tr th:only-of-type {\n",
       "        vertical-align: middle;\n",
       "    }\n",
       "\n",
       "    .dataframe tbody tr th {\n",
       "        vertical-align: top;\n",
       "    }\n",
       "\n",
       "    .dataframe thead th {\n",
       "        text-align: right;\n",
       "    }\n",
       "</style>\n",
       "<table border=\"1\" class=\"dataframe\">\n",
       "  <thead>\n",
       "    <tr style=\"text-align: right;\">\n",
       "      <th></th>\n",
       "      <th>Gender</th>\n",
       "      <th>Response</th>\n",
       "      <th>id</th>\n",
       "    </tr>\n",
       "  </thead>\n",
       "  <tbody>\n",
       "    <tr>\n",
       "      <th>0</th>\n",
       "      <td>Female</td>\n",
       "      <td>no</td>\n",
       "      <td>156835</td>\n",
       "    </tr>\n",
       "    <tr>\n",
       "      <th>1</th>\n",
       "      <td>Female</td>\n",
       "      <td>yes</td>\n",
       "      <td>18185</td>\n",
       "    </tr>\n",
       "    <tr>\n",
       "      <th>2</th>\n",
       "      <td>Male</td>\n",
       "      <td>no</td>\n",
       "      <td>177564</td>\n",
       "    </tr>\n",
       "    <tr>\n",
       "      <th>3</th>\n",
       "      <td>Male</td>\n",
       "      <td>yes</td>\n",
       "      <td>28525</td>\n",
       "    </tr>\n",
       "  </tbody>\n",
       "</table>\n",
       "</div>"
      ],
      "text/plain": [
       "   Gender Response      id\n",
       "0  Female       no  156835\n",
       "1  Female      yes   18185\n",
       "2    Male       no  177564\n",
       "3    Male      yes   28525"
      ]
     },
     "execution_count": 31,
     "metadata": {},
     "output_type": "execute_result"
    }
   ],
   "source": [
    "gen = fs.groupby(['Gender', 'Response'])['id'].nunique().reset_index()\n",
    "gen"
   ]
  },
  {
   "cell_type": "code",
   "execution_count": 32,
   "id": "c6aea940",
   "metadata": {
    "id": "c6aea940",
    "outputId": "3cba0c3e-52fd-463d-d7a4-ab21215b6d65"
   },
   "outputs": [
    {
     "data": {
      "image/png": "[encoded data removed]",
      "text/plain": [
       "<Figure size 432x432 with 1 Axes>"
      ]
     },
     "metadata": {
      "needs_background": "light"
     },
     "output_type": "display_data"
    }
   ],
   "source": [
    "x = gen['Gender']\n",
    "y = gen['id']\n",
    "\n",
    "plt.figure(figsize=(6,6))\n",
    "gender = sns.barplot(x=x, y=y, data=gen,\n",
    "           hue='Response')\n",
    "\n",
    "plt.ylabel('Total User', fontsize=13) \n",
    "plt.xlabel('Gender', fontsize=13)\n",
    "\n",
    "for i in gender.containers:\n",
    "    gender.bar_label(i,)\n",
    "\n",
    "plt.tight_layout()"
   ]
  },
  {
   "cell_type": "markdown",
   "id": "537e436b",
   "metadata": {
    "id": "537e436b"
   },
   "source": [
    "Grafik diatas menunjukkan bahwa lebih dari 300.000 pengguna yang terdiri dari laki-laki dan perempuan tidak tertarik untuk menggunakan produk asuransi kendaraan, hanya sekitar 10% dari total keseluruhan pengguna yang memiliki ketertarikan untuk menggunakan produk asuransi kendaraan. Sehingga, dapat ditarik kesimpulan bahwa tidak ada pengaruh yang signifikan jika produk asuransi ditawarkan berdasarkan gender dari pengguna."
   ]
  },
  {
   "cell_type": "markdown",
   "id": "91024a4f",
   "metadata": {
    "id": "91024a4f"
   },
   "source": [
    "## Age"
   ]
  },
  {
   "cell_type": "code",
   "execution_count": 34,
   "id": "81803911",
   "metadata": {
    "id": "81803911",
    "outputId": "5517f7f6-fb85-42f9-de54-f1b276d18e28"
   },
   "outputs": [
    {
     "data": {
      "text/html": [
       "<div>\n",
       "<style scoped>\n",
       "    .dataframe tbody tr th:only-of-type {\n",
       "        vertical-align: middle;\n",
       "    }\n",
       "\n",
       "    .dataframe tbody tr th {\n",
       "        vertical-align: top;\n",
       "    }\n",
       "\n",
       "    .dataframe thead th {\n",
       "        text-align: right;\n",
       "    }\n",
       "</style>\n",
       "<table border=\"1\" class=\"dataframe\">\n",
       "  <thead>\n",
       "    <tr style=\"text-align: right;\">\n",
       "      <th></th>\n",
       "      <th>id</th>\n",
       "      <th>Gender</th>\n",
       "      <th>Age</th>\n",
       "      <th>Driving_License</th>\n",
       "      <th>Region_Code</th>\n",
       "      <th>Previously_Insured</th>\n",
       "      <th>Vehicle_Age</th>\n",
       "      <th>Vehicle_Damage</th>\n",
       "      <th>Annual_Premium</th>\n",
       "      <th>Policy_Sales_Channel</th>\n",
       "      <th>Vintage</th>\n",
       "      <th>Response</th>\n",
       "    </tr>\n",
       "  </thead>\n",
       "  <tbody>\n",
       "    <tr>\n",
       "      <th>0</th>\n",
       "      <td>1</td>\n",
       "      <td>Male</td>\n",
       "      <td>44</td>\n",
       "      <td>1</td>\n",
       "      <td>28.0</td>\n",
       "      <td>0</td>\n",
       "      <td>&gt; 2 Years</td>\n",
       "      <td>Yes</td>\n",
       "      <td>40454.0</td>\n",
       "      <td>26.0</td>\n",
       "      <td>217</td>\n",
       "      <td>1</td>\n",
       "    </tr>\n",
       "    <tr>\n",
       "      <th>1</th>\n",
       "      <td>2</td>\n",
       "      <td>Male</td>\n",
       "      <td>76</td>\n",
       "      <td>1</td>\n",
       "      <td>3.0</td>\n",
       "      <td>0</td>\n",
       "      <td>1-2 Year</td>\n",
       "      <td>No</td>\n",
       "      <td>33536.0</td>\n",
       "      <td>26.0</td>\n",
       "      <td>183</td>\n",
       "      <td>0</td>\n",
       "    </tr>\n",
       "    <tr>\n",
       "      <th>2</th>\n",
       "      <td>3</td>\n",
       "      <td>Male</td>\n",
       "      <td>47</td>\n",
       "      <td>1</td>\n",
       "      <td>28.0</td>\n",
       "      <td>0</td>\n",
       "      <td>&gt; 2 Years</td>\n",
       "      <td>Yes</td>\n",
       "      <td>38294.0</td>\n",
       "      <td>26.0</td>\n",
       "      <td>27</td>\n",
       "      <td>1</td>\n",
       "    </tr>\n",
       "    <tr>\n",
       "      <th>3</th>\n",
       "      <td>4</td>\n",
       "      <td>Male</td>\n",
       "      <td>21</td>\n",
       "      <td>1</td>\n",
       "      <td>11.0</td>\n",
       "      <td>1</td>\n",
       "      <td>&lt; 1 Year</td>\n",
       "      <td>No</td>\n",
       "      <td>28619.0</td>\n",
       "      <td>152.0</td>\n",
       "      <td>203</td>\n",
       "      <td>0</td>\n",
       "    </tr>\n",
       "    <tr>\n",
       "      <th>4</th>\n",
       "      <td>5</td>\n",
       "      <td>Female</td>\n",
       "      <td>29</td>\n",
       "      <td>1</td>\n",
       "      <td>41.0</td>\n",
       "      <td>1</td>\n",
       "      <td>&lt; 1 Year</td>\n",
       "      <td>No</td>\n",
       "      <td>27496.0</td>\n",
       "      <td>152.0</td>\n",
       "      <td>39</td>\n",
       "      <td>0</td>\n",
       "    </tr>\n",
       "  </tbody>\n",
       "</table>\n",
       "</div>"
      ],
      "text/plain": [
       "   id  Gender  Age  Driving_License  Region_Code  Previously_Insured  \\\n",
       "0   1    Male   44                1         28.0                   0   \n",
       "1   2    Male   76                1          3.0                   0   \n",
       "2   3    Male   47                1         28.0                   0   \n",
       "3   4    Male   21                1         11.0                   1   \n",
       "4   5  Female   29                1         41.0                   1   \n",
       "\n",
       "  Vehicle_Age Vehicle_Damage  Annual_Premium  Policy_Sales_Channel  Vintage  \\\n",
       "0   > 2 Years            Yes         40454.0                  26.0      217   \n",
       "1    1-2 Year             No         33536.0                  26.0      183   \n",
       "2   > 2 Years            Yes         38294.0                  26.0       27   \n",
       "3    < 1 Year             No         28619.0                 152.0      203   \n",
       "4    < 1 Year             No         27496.0                 152.0       39   \n",
       "\n",
       "   Response  \n",
       "0         1  \n",
       "1         0  \n",
       "2         1  \n",
       "3         0  \n",
       "4         0  "
      ]
     },
     "execution_count": 34,
     "metadata": {},
     "output_type": "execute_result"
    }
   ],
   "source": [
    "asurance = pd.read_csv('Insurance_dataset.csv')\n",
    "asurance.head()"
   ]
  },
  {
   "cell_type": "code",
   "execution_count": 35,
   "id": "2a06b0ce",
   "metadata": {
    "id": "2a06b0ce",
    "outputId": "ece4aaf2-c59a-429f-a8c0-212deb552e5f"
   },
   "outputs": [
    {
     "data": {
      "text/html": [
       "<div>\n",
       "<style scoped>\n",
       "    .dataframe tbody tr th:only-of-type {\n",
       "        vertical-align: middle;\n",
       "    }\n",
       "\n",
       "    .dataframe tbody tr th {\n",
       "        vertical-align: top;\n",
       "    }\n",
       "\n",
       "    .dataframe thead th {\n",
       "        text-align: right;\n",
       "    }\n",
       "</style>\n",
       "<table border=\"1\" class=\"dataframe\">\n",
       "  <thead>\n",
       "    <tr style=\"text-align: right;\">\n",
       "      <th></th>\n",
       "      <th>Age</th>\n",
       "      <th>Response</th>\n",
       "      <th>id</th>\n",
       "    </tr>\n",
       "  </thead>\n",
       "  <tbody>\n",
       "    <tr>\n",
       "      <th>0</th>\n",
       "      <td>20</td>\n",
       "      <td>0</td>\n",
       "      <td>6061</td>\n",
       "    </tr>\n",
       "    <tr>\n",
       "      <th>1</th>\n",
       "      <td>20</td>\n",
       "      <td>1</td>\n",
       "      <td>171</td>\n",
       "    </tr>\n",
       "    <tr>\n",
       "      <th>2</th>\n",
       "      <td>21</td>\n",
       "      <td>0</td>\n",
       "      <td>15883</td>\n",
       "    </tr>\n",
       "    <tr>\n",
       "      <th>3</th>\n",
       "      <td>21</td>\n",
       "      <td>1</td>\n",
       "      <td>574</td>\n",
       "    </tr>\n",
       "    <tr>\n",
       "      <th>4</th>\n",
       "      <td>22</td>\n",
       "      <td>0</td>\n",
       "      <td>20201</td>\n",
       "    </tr>\n",
       "    <tr>\n",
       "      <th>...</th>\n",
       "      <td>...</td>\n",
       "      <td>...</td>\n",
       "      <td>...</td>\n",
       "    </tr>\n",
       "    <tr>\n",
       "      <th>125</th>\n",
       "      <td>82</td>\n",
       "      <td>1</td>\n",
       "      <td>1</td>\n",
       "    </tr>\n",
       "    <tr>\n",
       "      <th>126</th>\n",
       "      <td>83</td>\n",
       "      <td>0</td>\n",
       "      <td>21</td>\n",
       "    </tr>\n",
       "    <tr>\n",
       "      <th>127</th>\n",
       "      <td>83</td>\n",
       "      <td>1</td>\n",
       "      <td>1</td>\n",
       "    </tr>\n",
       "    <tr>\n",
       "      <th>128</th>\n",
       "      <td>84</td>\n",
       "      <td>0</td>\n",
       "      <td>11</td>\n",
       "    </tr>\n",
       "    <tr>\n",
       "      <th>129</th>\n",
       "      <td>85</td>\n",
       "      <td>0</td>\n",
       "      <td>11</td>\n",
       "    </tr>\n",
       "  </tbody>\n",
       "</table>\n",
       "<p>130 rows × 3 columns</p>\n",
       "</div>"
      ],
      "text/plain": [
       "     Age  Response     id\n",
       "0     20         0   6061\n",
       "1     20         1    171\n",
       "2     21         0  15883\n",
       "3     21         1    574\n",
       "4     22         0  20201\n",
       "..   ...       ...    ...\n",
       "125   82         1      1\n",
       "126   83         0     21\n",
       "127   83         1      1\n",
       "128   84         0     11\n",
       "129   85         0     11\n",
       "\n",
       "[130 rows x 3 columns]"
      ]
     },
     "execution_count": 35,
     "metadata": {},
     "output_type": "execute_result"
    }
   ],
   "source": [
    "asurance = asurance.groupby(['Age','Response'])['id'].nunique().reset_index()\n",
    "asurance"
   ]
  },
  {
   "cell_type": "code",
   "execution_count": 36,
   "id": "a99023b0",
   "metadata": {
    "id": "a99023b0",
    "outputId": "95259a7c-bbeb-48d9-931b-fbd857af5442"
   },
   "outputs": [
    {
     "data": {
      "image/png": "[encoded data removed]",
      "text/plain": [
       "<Figure size 1080x576 with 1 Axes>"
      ]
     },
     "metadata": {
      "needs_background": "light"
     },
     "output_type": "display_data"
    }
   ],
   "source": [
    "plt.figure(figsize=(15,8))\n",
    "sns.scatterplot(x= 'Age', y = 'id', hue ='Response', data = asurance)\n",
    "plt.title('Age')\n",
    "plt.show()"
   ]
  },
  {
   "cell_type": "markdown",
   "id": "26981fa4",
   "metadata": {
    "id": "26981fa4"
   },
   "source": [
    "**Business Insight**\n",
    "\n",
    "Grafik diatas menunjukkan bahwa rentang usia 40 tahun sampai 50 tahun memiliki ketertarikan yang lebih tinggi untuk menggunakan  jasa asuransi kendaraan dan rentang usia 20 tahun sampai 30 tahun cenderung tidak tertarik menggunakan jasa asuransi kendaraan, sehinnga dapat disimpulkan juga bahwa age tidak bisa digunakan sebagai salah satu variable untuk approaching customer agar tertarik menggunakan layanan jasa asuransi kendaraan bermotor yang disediakan oleh perusahaan.\n"
   ]
  },
  {
   "cell_type": "markdown",
   "id": "6f6da233",
   "metadata": {
    "id": "6f6da233"
   },
   "source": [
    "## Driving Licence"
   ]
  },
  {
   "cell_type": "code",
   "execution_count": 37,
   "id": "fa66fb1c",
   "metadata": {
    "id": "fa66fb1c"
   },
   "outputs": [],
   "source": [
    "DL = data.copy()"
   ]
  },
  {
   "cell_type": "code",
   "execution_count": 38,
   "id": "fb7a73b3",
   "metadata": {
    "id": "fb7a73b3",
    "outputId": "74027444-2c94-452d-da48-afe90d5fb72e"
   },
   "outputs": [
    {
     "data": {
      "text/html": [
       "<div>\n",
       "<style scoped>\n",
       "    .dataframe tbody tr th:only-of-type {\n",
       "        vertical-align: middle;\n",
       "    }\n",
       "\n",
       "    .dataframe tbody tr th {\n",
       "        vertical-align: top;\n",
       "    }\n",
       "\n",
       "    .dataframe thead th {\n",
       "        text-align: right;\n",
       "    }\n",
       "</style>\n",
       "<table border=\"1\" class=\"dataframe\">\n",
       "  <thead>\n",
       "    <tr style=\"text-align: right;\">\n",
       "      <th></th>\n",
       "      <th>Driving_License</th>\n",
       "      <th>Response</th>\n",
       "      <th>id</th>\n",
       "    </tr>\n",
       "  </thead>\n",
       "  <tbody>\n",
       "    <tr>\n",
       "      <th>0</th>\n",
       "      <td>0</td>\n",
       "      <td>0</td>\n",
       "      <td>771</td>\n",
       "    </tr>\n",
       "    <tr>\n",
       "      <th>1</th>\n",
       "      <td>0</td>\n",
       "      <td>1</td>\n",
       "      <td>41</td>\n",
       "    </tr>\n",
       "    <tr>\n",
       "      <th>2</th>\n",
       "      <td>1</td>\n",
       "      <td>0</td>\n",
       "      <td>333628</td>\n",
       "    </tr>\n",
       "    <tr>\n",
       "      <th>3</th>\n",
       "      <td>1</td>\n",
       "      <td>1</td>\n",
       "      <td>46669</td>\n",
       "    </tr>\n",
       "  </tbody>\n",
       "</table>\n",
       "</div>"
      ],
      "text/plain": [
       "   Driving_License  Response      id\n",
       "0                0         0     771\n",
       "1                0         1      41\n",
       "2                1         0  333628\n",
       "3                1         1   46669"
      ]
     },
     "execution_count": 38,
     "metadata": {},
     "output_type": "execute_result"
    }
   ],
   "source": [
    "DL_group = DL.groupby(['Driving_License', 'Response'])['id'].nunique().reset_index()\n",
    "DL_group"
   ]
  },
  {
   "cell_type": "code",
   "execution_count": 39,
   "id": "2655c075",
   "metadata": {
    "id": "2655c075",
    "outputId": "fd4e228f-50a0-495b-9a1e-286eae3cb2ac"
   },
   "outputs": [
    {
     "data": {
      "image/png": "[encoded data removed]",
      "text/plain": [
       "<Figure size 720x720 with 1 Axes>"
      ]
     },
     "metadata": {
      "needs_background": "light"
     },
     "output_type": "display_data"
    }
   ],
   "source": [
    "x = DL_group['Driving_License']\n",
    "y = DL_group['id']\n",
    "\n",
    "plt.figure(figsize=(10,10))\n",
    "g = sns.barplot(x=x, y=y, data=DL_group, \n",
    "                hue='Response', \n",
    "                color='deeppink',\n",
    "                edgecolor= 'maroon', \n",
    "                linewidth = 2)\n",
    "\n",
    "plt.title('Comparison of the Effect of\\nDriving License Ownership on User Response', \n",
    "          color='purple', \n",
    "          loc='center',\n",
    "          fontsize=23,\n",
    "          fontweight='bold')\n",
    "plt.xlabel('Driving License', fontsize=14)\n",
    "plt.ylabel('Total User', fontsize=14)\n",
    "\n",
    "for i in g.containers:\n",
    "    g.bar_label(i,)\n",
    "\n",
    "plt.ylim(0, 350000)\n",
    "plt.tight_layout()"
   ]
  },
  {
   "cell_type": "markdown",
   "id": "6d6206fa-f37a-4b44-8540-b91128da93ac",
   "metadata": {
    "id": "6d6206fa-f37a-4b44-8540-b91128da93ac"
   },
   "source": [
    "### Interpretasi:"
   ]
  },
  {
   "cell_type": "markdown",
   "id": "90944f5e-15d1-49af-a07a-bf9ec4ffa944",
   "metadata": {
    "id": "90944f5e-15d1-49af-a07a-bf9ec4ffa944"
   },
   "source": [
    "Berdasarkan grafik dapat dilihat bahwa banyak konsumen yang memiliki Driving License namun belum tertarik untuk mengambil Asuransi Kendaraan."
   ]
  },
  {
   "cell_type": "markdown",
   "id": "e79c4f14-ba67-4f49-a7a5-4055772b692b",
   "metadata": {
    "id": "e79c4f14-ba67-4f49-a7a5-4055772b692b"
   },
   "source": [
    "### Business Insight:"
   ]
  },
  {
   "cell_type": "markdown",
   "id": "43a5a8db-5cf5-497b-b7b3-67599bc8ff81",
   "metadata": {
    "id": "43a5a8db-5cf5-497b-b7b3-67599bc8ff81"
   },
   "source": [
    "Konsumen yang sudah memiliki Driving License dapat didorong dengan memberikan informasi keuntungan memiliki Asuransi Kendaraan atau promosi asuransi."
   ]
  },
  {
   "cell_type": "markdown",
   "id": "1f452da1",
   "metadata": {
    "id": "1f452da1"
   },
   "source": [
    "## Previously Insured"
   ]
  },
  {
   "cell_type": "code",
   "execution_count": 41,
   "id": "6cd68f97",
   "metadata": {
    "id": "6cd68f97"
   },
   "outputs": [],
   "source": [
    "insurance = pd.read_csv('Insurance_dataset.csv')"
   ]
  },
  {
   "cell_type": "code",
   "execution_count": 42,
   "id": "9ee5eeed",
   "metadata": {
    "id": "9ee5eeed",
    "outputId": "cd89e2ac-ba04-4551-eb12-d1f080a269a2"
   },
   "outputs": [
    {
     "data": {
      "image/png": "[encoded data removed]",
      "text/plain": [
       "<Figure size 360x360 with 1 Axes>"
      ]
     },
     "metadata": {
      "needs_background": "light"
     },
     "output_type": "display_data"
    }
   ],
   "source": [
    "x = insurance['Response']\n",
    "y = insurance['Previously_Insured']\n",
    "\n",
    "plt.figure(figsize=(5,5))\n",
    "g = sns.barplot(x=x, y=y, data=insurance, \n",
    "                hue='Response', \n",
    "                color='deeppink',\n",
    "                edgecolor= 'maroon', \n",
    "                linewidth = 2)"
   ]
  },
  {
   "cell_type": "code",
   "execution_count": 43,
   "id": "fff8cb6b",
   "metadata": {
    "id": "fff8cb6b",
    "outputId": "597e367f-7f1b-48c6-9350-862419415691"
   },
   "outputs": [
    {
     "data": {
      "text/html": [
       "<div>\n",
       "<style scoped>\n",
       "    .dataframe tbody tr th:only-of-type {\n",
       "        vertical-align: middle;\n",
       "    }\n",
       "\n",
       "    .dataframe tbody tr th {\n",
       "        vertical-align: top;\n",
       "    }\n",
       "\n",
       "    .dataframe thead th {\n",
       "        text-align: right;\n",
       "    }\n",
       "</style>\n",
       "<table border=\"1\" class=\"dataframe\">\n",
       "  <thead>\n",
       "    <tr style=\"text-align: right;\">\n",
       "      <th>Previously_Insured</th>\n",
       "      <th>0</th>\n",
       "      <th>1</th>\n",
       "    </tr>\n",
       "    <tr>\n",
       "      <th>Response</th>\n",
       "      <th></th>\n",
       "      <th></th>\n",
       "    </tr>\n",
       "  </thead>\n",
       "  <tbody>\n",
       "    <tr>\n",
       "      <th>0</th>\n",
       "      <td>159929</td>\n",
       "      <td>174470</td>\n",
       "    </tr>\n",
       "    <tr>\n",
       "      <th>1</th>\n",
       "      <td>46552</td>\n",
       "      <td>158</td>\n",
       "    </tr>\n",
       "  </tbody>\n",
       "</table>\n",
       "</div>"
      ],
      "text/plain": [
       "Previously_Insured       0       1\n",
       "Response                          \n",
       "0                   159929  174470\n",
       "1                    46552     158"
      ]
     },
     "execution_count": 43,
     "metadata": {},
     "output_type": "execute_result"
    }
   ],
   "source": [
    "yes_dist = pd.crosstab(insurance['Response'], insurance['Previously_Insured'])\n",
    "yes_dist"
   ]
  },
  {
   "cell_type": "markdown",
   "id": "ff8f7b23",
   "metadata": {
    "id": "ff8f7b23"
   },
   "source": [
    "berdasarkan plot diatas mayoritas customer yang pernah mengasuransikan kendaraannya merespon tidak tertarik (0) ketika ditawarkan asuransi kendaraan. \n",
    "kemudian untuk customer yang tertarik (1) dengan asuransi kendaraan pun mayoritas merupakan customer yang sebelumnya belum pernah mengasuransikan kendaraannya. "
   ]
  },
  {
   "cell_type": "markdown",
   "id": "35ab0f62",
   "metadata": {
    "id": "35ab0f62"
   },
   "source": [
    "secara bisnis kita dapat menggali informasi lebih dalam melalui customer yang pernah mengasuransikan kendaraannya namun tidak tertarik ketika ditawarkan kembali, kita dapat menggali faktor apa saja yang menyebabkan customer tidak tertarik lagi. apakah dari proses claimmnya yang tidak memuaskan? atau cakupan manfaatnya kurang sesuai?. kemudian dari informasi tersebut dapat kita gunakan untuk mengembangkan produk kita agar lebih sesuai dengan kebutuhan customer."
   ]
  },
  {
   "cell_type": "markdown",
   "id": "ce1f5976",
   "metadata": {
    "id": "ce1f5976"
   },
   "source": [
    "## Vehicle Age"
   ]
  },
  {
   "cell_type": "code",
   "execution_count": 44,
   "id": "390846aa",
   "metadata": {
    "id": "390846aa",
    "outputId": "a2b259b2-e9e0-48b9-8c63-e7046805ca9f"
   },
   "outputs": [
    {
     "data": {
      "image/png": "[encoded data removed]",
      "text/plain": [
       "<Figure size 720x576 with 1 Axes>"
      ]
     },
     "metadata": {
      "needs_background": "light"
     },
     "output_type": "display_data"
    }
   ],
   "source": [
    "plt.figure(figsize=(10,8))\n",
    "ax = sns.countplot(data['Vehicle_Age'], hue = data['Response'])\n",
    "plt.title(\"Distribution of Vehicle Age and Response\")\n",
    "plt.show()"
   ]
  },
  {
   "cell_type": "markdown",
   "id": "caca2abb",
   "metadata": {
    "id": "caca2abb"
   },
   "source": [
    "**Interpretasi**\n",
    "\n",
    "Dari data distplot diatas menunjukkan data customer tertinggi yang tertarik maupun tidak tertarik dengan vehicle insurance berada pada vehicle age 1-2 tahun."
   ]
  },
  {
   "cell_type": "markdown",
   "id": "5de5f9fe",
   "metadata": {
    "id": "5de5f9fe"
   },
   "source": [
    "**Business Insight**\n",
    "\n",
    "Pihak asuransi dapat menambah jumlah kendaraan yang baru untuk meningkatkan ketertarikan masyarakat untuk berlangganan asuransi kendaraan. Dengan menggunakan kendaraan yang baru dapat menurunkan tingkat kerusakan kendaraan dan masyarakat juga merasa aman dalam menggunakan kendaraan tersebut."
   ]
  },
  {
   "cell_type": "markdown",
   "id": "5835ee48",
   "metadata": {
    "id": "5835ee48"
   },
   "source": [
    "## Vehicle Damage"
   ]
  },
  {
   "cell_type": "code",
   "execution_count": 45,
   "id": "07835962",
   "metadata": {
    "id": "07835962"
   },
   "outputs": [],
   "source": [
    "z= data.copy()"
   ]
  },
  {
   "cell_type": "code",
   "execution_count": 46,
   "id": "957e2773",
   "metadata": {
    "colab": {
     "base_uri": "https://localhost:8080/",
     "height": 175
    },
    "id": "957e2773",
    "outputId": "79c54fc9-b12a-46ff-ac60-57fb919508a1"
   },
   "outputs": [
    {
     "data": {
      "text/html": [
       "<div>\n",
       "<style scoped>\n",
       "    .dataframe tbody tr th:only-of-type {\n",
       "        vertical-align: middle;\n",
       "    }\n",
       "\n",
       "    .dataframe tbody tr th {\n",
       "        vertical-align: top;\n",
       "    }\n",
       "\n",
       "    .dataframe thead th {\n",
       "        text-align: right;\n",
       "    }\n",
       "</style>\n",
       "<table border=\"1\" class=\"dataframe\">\n",
       "  <thead>\n",
       "    <tr style=\"text-align: right;\">\n",
       "      <th></th>\n",
       "      <th>Vehicle_Damage</th>\n",
       "      <th>Response</th>\n",
       "      <th>id</th>\n",
       "    </tr>\n",
       "  </thead>\n",
       "  <tbody>\n",
       "    <tr>\n",
       "      <th>0</th>\n",
       "      <td>0</td>\n",
       "      <td>0</td>\n",
       "      <td>187714</td>\n",
       "    </tr>\n",
       "    <tr>\n",
       "      <th>1</th>\n",
       "      <td>0</td>\n",
       "      <td>1</td>\n",
       "      <td>982</td>\n",
       "    </tr>\n",
       "    <tr>\n",
       "      <th>2</th>\n",
       "      <td>1</td>\n",
       "      <td>0</td>\n",
       "      <td>146685</td>\n",
       "    </tr>\n",
       "    <tr>\n",
       "      <th>3</th>\n",
       "      <td>1</td>\n",
       "      <td>1</td>\n",
       "      <td>45728</td>\n",
       "    </tr>\n",
       "  </tbody>\n",
       "</table>\n",
       "</div>"
      ],
      "text/plain": [
       "   Vehicle_Damage  Response      id\n",
       "0               0         0  187714\n",
       "1               0         1     982\n",
       "2               1         0  146685\n",
       "3               1         1   45728"
      ]
     },
     "execution_count": 46,
     "metadata": {},
     "output_type": "execute_result"
    }
   ],
   "source": [
    "z_group = z.groupby(['Vehicle_Damage','Response'])['id'].nunique().reset_index()\n",
    "z_group"
   ]
  },
  {
   "cell_type": "code",
   "execution_count": 47,
   "id": "85c1eff8",
   "metadata": {
    "colab": {
     "base_uri": "https://localhost:8080/",
     "height": 878
    },
    "id": "85c1eff8",
    "outputId": "8c995846-e7f5-4296-d6c2-bfcb3f8c8174"
   },
   "outputs": [
    {
     "data": {
      "image/png": "[encoded data removed]",
      "text/plain": [
       "<Figure size 720x720 with 1 Axes>"
      ]
     },
     "metadata": {
      "needs_background": "light"
     },
     "output_type": "display_data"
    }
   ],
   "source": [
    "x = z_group['Vehicle_Damage']\n",
    "y = z_group['id']\n",
    "\n",
    "plt.figure(figsize=(10,10))\n",
    "g = sns.barplot(x=x, y=y, data=z_group, \n",
    "                hue='Response', \n",
    "                color='deeppink',\n",
    "                edgecolor= 'maroon', \n",
    "                linewidth = 2)\n",
    "\n",
    "plt.title('Comparison of the Effect of\\nVehicle Damage on User Response', \n",
    "          color='purple', \n",
    "          loc='center',\n",
    "          fontsize=23,\n",
    "          fontweight='bold')\n",
    "plt.xlabel('Vehicle Damage', fontsize=14)\n",
    "plt.ylabel('Total User', fontsize=14)\n",
    "\n",
    "for i in g.containers:\n",
    "    g.bar_label(i,)\n",
    "\n",
    "plt.ylim(0, 200000)\n",
    "plt.tight_layout()"
   ]
  },
  {
   "cell_type": "markdown",
   "id": "322754f2",
   "metadata": {
    "id": "322754f2"
   },
   "source": [
    "### Perbandingan Respon User Berdasarkan Ada atau Tidaknya Kerusakan Kendaraan"
   ]
  },
  {
   "cell_type": "markdown",
   "id": "79d8b7b8",
   "metadata": {
    "id": "79d8b7b8"
   },
   "source": [
    "### Interpretasi:"
   ]
  },
  {
   "cell_type": "markdown",
   "id": "653d089b",
   "metadata": {
    "id": "653d089b"
   },
   "source": [
    "Berdasarkan grafik di atas dapat diketahui bahwa total user yang kendaraannya sudah pernah mengalami kerusakan, memberi respon tertarik (1) lebih banyak dibandingkan dengan user yang kendaraannya tidak terdapat kerusakan. Jika dibandingkan, total user dengan respon tidak tertarik (0) dengan kendaraan yang tidak mengalami kerusakan lebih banyak dibandingkan dengan yang mengalami kerusakan.\n",
    "\n",
    "Hal ini bisa disebabkan karena user dengan kendaraan yang sudah mengalami kerusakan lebih aware dibandingkan yang belum mengalami kerusakan, sehingga katertarikannya lebih tinggi. Hal ini bisa dioptimalkan dengan memberikan informasi mengenai pentingnya mengasuransikan kendaraan ataupun meningkatkan promosi, sehingga user yang tidak tertarik bisa lebih yakin dan mau mendaftar asuransi kendaraan."
   ]
  },
  {
   "cell_type": "markdown",
   "id": "77c75820",
   "metadata": {
    "id": "77c75820"
   },
   "source": [
    "### Insight"
   ]
  },
  {
   "cell_type": "markdown",
   "id": "e8354be2",
   "metadata": {
    "id": "e8354be2"
   },
   "source": [
    "Bisnis: keadaan ini bisa dioptimalkan dengan memberikan informasi mengenai pentingnya mengasuransikan kendaraan ataupun meningkatkan promosi, sehingga user yang tidak tertarik bisa lebih yakin dan mau mendaftar asuransi kendaraan."
   ]
  },
  {
   "cell_type": "markdown",
   "id": "b2836a58",
   "metadata": {
    "id": "b2836a58"
   },
   "source": [
    "## Annual Premium"
   ]
  },
  {
   "cell_type": "code",
   "execution_count": 48,
   "id": "13af4f47",
   "metadata": {
    "id": "13af4f47"
   },
   "outputs": [],
   "source": [
    "AP = data.copy()"
   ]
  },
  {
   "cell_type": "code",
   "execution_count": 49,
   "id": "a738fa6a-7944-4a82-9b3c-cfc24e78d24c",
   "metadata": {
    "id": "a738fa6a-7944-4a82-9b3c-cfc24e78d24c",
    "outputId": "25dda55f-6208-419d-a0a1-cf236a90c4fe"
   },
   "outputs": [
    {
     "data": {
      "image/png": "[encoded data removed]",
      "text/plain": [
       "<Figure size 720x360 with 1 Axes>"
      ]
     },
     "metadata": {
      "needs_background": "light"
     },
     "output_type": "display_data"
    }
   ],
   "source": [
    "fig, ax = plt.subplots(figsize=(10, 5))\n",
    "\n",
    "sns.kdeplot(AP[AP['Response'] == 0]['Annual_Premium'].dropna(), color= '#dd2222', label= 'Response: No', ax=ax)\n",
    "sns.kdeplot(AP[AP['Response'] == 1]['Annual_Premium'].dropna(), color= '#f5bd10', label= 'Response: Yes', ax=ax)\n",
    "plt.tick_params(axis = 'both', which = 'major', labelsize = 14)\n",
    "\n",
    "ax.set_title('Comparison of The Effect of \\nAnnual Premium on User Response',color='black',fontsize=18,fontweight='bold')\n",
    "ax.set_ylabel('Density', fontsize=14) \n",
    "ax.set_xlabel('Annual Premium', fontsize=14) \n",
    "plt.legend()\n",
    "plt.tight_layout()"
   ]
  },
  {
   "cell_type": "markdown",
   "id": "ba15cf46-f3a6-40e6-a0a8-44c20ca3f93d",
   "metadata": {
    "id": "ba15cf46-f3a6-40e6-a0a8-44c20ca3f93d"
   },
   "source": [
    "### Interpretasi"
   ]
  },
  {
   "cell_type": "markdown",
   "id": "e80903a4-a0a7-4310-b898-fa34e0e99613",
   "metadata": {
    "id": "e80903a4-a0a7-4310-b898-fa34e0e99613"
   },
   "source": [
    "Berdasarkan grafik di atas dapat dilihat bahwa Annual Premium tidak berpengaruh terhadap Response konsumen karena jumlah Response Yes dan No terhadap Annual Premium berimbang."
   ]
  },
  {
   "cell_type": "markdown",
   "id": "a099cbca-1bfa-42ff-9b01-cc6633d0dc4f",
   "metadata": {
    "id": "a099cbca-1bfa-42ff-9b01-cc6633d0dc4f"
   },
   "source": [
    "### Business Insight"
   ]
  },
  {
   "cell_type": "markdown",
   "id": "009c97f7-cf44-49c5-962e-9db2bc3b2d0d",
   "metadata": {
    "id": "009c97f7-cf44-49c5-962e-9db2bc3b2d0d"
   },
   "source": [
    "Berdasarkan interpretasi dan grafik maka dapat disimpulkan bahwa Annual Premium tidak dapat dijadikan sebagai faktor untuk menarik konsumen mengambil asuransi kendaraan"
   ]
  },
  {
   "cell_type": "markdown",
   "id": "ec8d86a3",
   "metadata": {
    "id": "ec8d86a3"
   },
   "source": [
    "## Vintage"
   ]
  },
  {
   "cell_type": "code",
   "execution_count": 50,
   "id": "e1b51da9",
   "metadata": {
    "colab": {
     "base_uri": "https://localhost:8080/",
     "height": 563
    },
    "id": "e1b51da9",
    "outputId": "f8b6b94f-4c00-4c23-ca6f-96e0089fdb1f"
   },
   "outputs": [
    {
     "data": {
      "text/plain": [
       "(0.0, 6000.0)"
      ]
     },
     "execution_count": 50,
     "metadata": {},
     "output_type": "execute_result"
    },
    {
     "data": {
      "image/png": "[encoded data removed]",
      "text/plain": [
       "<Figure size 720x576 with 1 Axes>"
      ]
     },
     "metadata": {
      "needs_background": "light"
     },
     "output_type": "display_data"
    }
   ],
   "source": [
    "plt.figure(figsize=(10,8))\n",
    "sns.histplot(x='Vintage', hue='Response', data=data)\n",
    "\n",
    "plt.title(\"Comparison of Customer responses\\nvs Customer vintage\",color='black',fontsize=18,fontweight='bold')\n",
    "plt.ylabel('Number of User Response', fontsize=14) # y axis label\n",
    "plt.xlabel('Vintage', fontsize=14) # x axis label\n",
    "plt.tick_params(axis = 'both', which = 'major', labelsize = 14)\n",
    "plt.ylim(0,6000)"
   ]
  },
  {
   "cell_type": "markdown",
   "id": "6c72dd0e",
   "metadata": {
    "id": "6c72dd0e"
   },
   "source": [
    "**Business Insight**\n",
    "\n",
    "Grafik histogram diatas menunjukan distribusi persebaran customer vintage terhadap user response.  Berdasarkan grafik tersebut, dapat ditarik kesimpulan bahwa lama masa langganan customer (vintage) tidak mengindikasikan ketertarikan customer untuk ikut serta berlangganan jasa layanan asuransi kendaraan bermotor. Hal ini bisa disimpulkan juga bahwa vintage tidak bisa digunakan sebagai salah satu variable untuk approaching customer agar tertarik menggunakan layanan jasa asuransi kendaraan bermotor yang disediakan oleh perusahaan."
   ]
  },
  {
   "cell_type": "markdown",
   "id": "3f523d68",
   "metadata": {
    "id": "3f523d68"
   },
   "source": [
    "## Response"
   ]
  },
  {
   "cell_type": "code",
   "execution_count": 51,
   "id": "e8fb3a89",
   "metadata": {
    "id": "e8fb3a89"
   },
   "outputs": [],
   "source": [
    "yes = insurance[insurance['Response'] == 1]"
   ]
  },
  {
   "cell_type": "code",
   "execution_count": 52,
   "id": "42afb6a8",
   "metadata": {
    "id": "42afb6a8",
    "outputId": "f8db7aa3-142a-42a5-d65b-a755f2e4bd88"
   },
   "outputs": [
    {
     "name": "stdout",
     "output_type": "stream",
     "text": [
      "<class 'pandas.core.frame.DataFrame'>\n",
      "Int64Index: 46710 entries, 0 to 381097\n",
      "Data columns (total 12 columns):\n",
      " #   Column                Non-Null Count  Dtype  \n",
      "---  ------                --------------  -----  \n",
      " 0   id                    46710 non-null  int64  \n",
      " 1   Gender                46710 non-null  object \n",
      " 2   Age                   46710 non-null  int64  \n",
      " 3   Driving_License       46710 non-null  int64  \n",
      " 4   Region_Code           46710 non-null  float64\n",
      " 5   Previously_Insured    46710 non-null  int64  \n",
      " 6   Vehicle_Age           46710 non-null  object \n",
      " 7   Vehicle_Damage        46710 non-null  object \n",
      " 8   Annual_Premium        46710 non-null  float64\n",
      " 9   Policy_Sales_Channel  46710 non-null  float64\n",
      " 10  Vintage               46710 non-null  int64  \n",
      " 11  Response              46710 non-null  int64  \n",
      "dtypes: float64(3), int64(6), object(3)\n",
      "memory usage: 4.6+ MB\n"
     ]
    }
   ],
   "source": [
    "yes.info()"
   ]
  },
  {
   "cell_type": "code",
   "execution_count": 53,
   "id": "5b726576",
   "metadata": {
    "id": "5b726576"
   },
   "outputs": [],
   "source": [
    "yes_nums = ['id', 'Age', 'Region_Code', 'Annual_Premium', 'Policy_Sales_Channel', 'Vintage']\n",
    "yes_cats = ['Gender', 'Vehicle_Damage', 'Vehicle_Age', 'Driving_License', 'Previously_Insured']"
   ]
  },
  {
   "cell_type": "code",
   "execution_count": 54,
   "id": "cf8b9ca3",
   "metadata": {
    "id": "cf8b9ca3"
   },
   "outputs": [],
   "source": [
    "from matplotlib import rcParams\n",
    "\n",
    "rcParams['figure.figsize'] = 12, 4\n",
    "rcParams['lines.linewidth'] = 3\n",
    "rcParams['xtick.labelsize'] = 'x-large'\n",
    "rcParams['ytick.labelsize'] = 'x-large'"
   ]
  },
  {
   "cell_type": "code",
   "execution_count": 55,
   "id": "fa8830b4",
   "metadata": {
    "id": "fa8830b4",
    "outputId": "717b49b0-c923-4019-cadc-43044ae83559"
   },
   "outputs": [
    {
     "data": {
      "image/png": "[encoded data removed]",
      "text/plain": [
       "<Figure size 864x288 with 6 Axes>"
      ]
     },
     "metadata": {
      "needs_background": "light"
     },
     "output_type": "display_data"
    }
   ],
   "source": [
    "features = yes_nums\n",
    "for i in range(0, len(features)):\n",
    "    plt.subplot(1, len(features), i+1)\n",
    "    sns.boxplot(y=insurance[features[i]], color='green', orient='v')\n",
    "    plt.tight_layout()"
   ]
  },
  {
   "cell_type": "code",
   "execution_count": 56,
   "id": "1738bddf",
   "metadata": {
    "id": "1738bddf",
    "outputId": "8575209e-e573-4b02-f44e-f1625e0eaf47"
   },
   "outputs": [
    {
     "data": {
      "image/png": "[encoded data removed]",
      "text/plain": [
       "<Figure size 1440x360 with 6 Axes>"
      ]
     },
     "metadata": {
      "needs_background": "light"
     },
     "output_type": "display_data"
    }
   ],
   "source": [
    "features = yes_nums\n",
    "plt.figure(figsize=(20, 5))\n",
    "for i in range(0, len(yes_nums)):\n",
    "    plt.subplot(2, len(yes_nums)/2, i+1)\n",
    "    sns.kdeplot(x=insurance[features[i]], color='green')\n",
    "    plt.xlabel(features[i])\n",
    "    plt.tight_layout()"
   ]
  },
  {
   "cell_type": "code",
   "execution_count": 57,
   "id": "ef0ef80b",
   "metadata": {
    "id": "ef0ef80b",
    "outputId": "1cf50bde-4839-4311-9b5f-723a045331f7"
   },
   "outputs": [
    {
     "data": {
      "image/png": "[encoded data removed]",
      "text/plain": [
       "<Figure size 864x288 with 5 Axes>"
      ]
     },
     "metadata": {
      "needs_background": "light"
     },
     "output_type": "display_data"
    }
   ],
   "source": [
    "df_sample = yes.sample(1000, random_state=1000)\n",
    "for i in range(0, len(yes_cats)):\n",
    "    plt.subplot(2, 3, i+1)\n",
    "    sns.countplot(x = df_sample[yes_cats[i]], color='green', orient='v')\n",
    "    plt.tight_layout()"
   ]
  },
  {
   "cell_type": "markdown",
   "id": "e8524062",
   "metadata": {
    "id": "e8524062"
   },
   "source": [
    "dari total 381109 customer terdapat 46710 customer yang tertarik dengan asuransi kendaraan. mayoritas customer yang tertarik adalah pria, kendaraannya pernah mengalami kerusakan, kemudian mayoritas umur kendaraannya 1-2 tahun dan sebelumnya belum pernah diasuransikan."
   ]
  },
  {
   "cell_type": "markdown",
   "id": "1686b2e9",
   "metadata": {
    "id": "1686b2e9"
   },
   "source": [
    "dengan mengetahui karakteristik customer yang tertarik terhadap asuransi kendaraan (0), kita dapat memprioritaskan target marketing kepada customer-customer dengan karakteristiknya yang sama."
   ]
  }
 ],
 "metadata": {
  "colab": {
   "collapsed_sections": [],
   "name": "Final_Gabungan_Stage1_EDA.ipynb",
   "provenance": []
  },
  "kernelspec": {
   "display_name": "Python 3 (ipykernel)",
   "language": "python",
   "name": "python3"
  },
  "language_info": {
   "codemirror_mode": {
    "name": "ipython",
    "version": 3
   },
   "file_extension": ".py",
   "mimetype": "text/x-python",
   "name": "python",
   "nbconvert_exporter": "python",
   "pygments_lexer": "ipython3",
   "version": "3.9.7"
  }
 },
 "nbformat": 4,
 "nbformat_minor": 5
}
